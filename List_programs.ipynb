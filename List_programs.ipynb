{
 "cells": [
  {
   "cell_type": "markdown",
   "metadata": {},
   "source": [
    "## Merging of collections"
   ]
  },
  {
   "cell_type": "code",
   "execution_count": 1,
   "metadata": {},
   "outputs": [
    {
     "name": "stdout",
     "output_type": "stream",
     "text": [
      "[10, 20, 30, 40]\n"
     ]
    }
   ],
   "source": [
    "l1=[10,20]\n",
    "l2=[30,40]\n",
    "l3=[*l1,*l2]\n",
    "print(l3)"
   ]
  },
  {
   "cell_type": "markdown",
   "metadata": {},
   "source": [
    "## Python program to interchange first and last elements in a list\n",
    "Input : [12, 35, 9, 56, 24]\n",
    "Output :[24, 35, 9, 56, 12]"
   ]
  },
  {
   "cell_type": "code",
   "execution_count": 1,
   "metadata": {},
   "outputs": [
    {
     "name": "stdout",
     "output_type": "stream",
     "text": [
      "[24, 35, 9, 56, 12]\n"
     ]
    }
   ],
   "source": [
    "l1=[12,35,9,56,24]\n",
    "temp=l1[0]\n",
    "l1[0]=l1[-1]\n",
    "l1[-1]=temp\n",
    "print(l1)"
   ]
  },
  {
   "cell_type": "markdown",
   "metadata": {},
   "source": [
    "## Python program to swap two elements in a list\n",
    "Given a list in Python and provided the positions of the elements, write a program to swap the two elements in the list.\n",
    "Input : List = [23, 65, 19, 90], pos1 = 1, pos2 = 3\n",
    "Output : [19, 65, 23, 90]"
   ]
  },
  {
   "cell_type": "code",
   "execution_count": 2,
   "metadata": {},
   "outputs": [
    {
     "name": "stdout",
     "output_type": "stream",
     "text": [
      "[19, 65, 23, 90]\n"
     ]
    }
   ],
   "source": [
    "newlist=[23,65,19,90]\n",
    "pos1=1\n",
    "pos2=3\n",
    "newlist[pos1-1], newlist[pos2-1] = newlist[pos2-1], newlist[pos1-1]\n",
    "print(newlist)"
   ]
  },
  {
   "cell_type": "markdown",
   "metadata": {},
   "source": [
    "## Python program to remove Nth occurrence of the given word\n",
    "Given a list of words in Python, the task is to remove the Nth occurrence of the given word in that list.\n",
    "\n",
    "Examples:\n",
    "\n",
    "Input: list - [\"geeks\", \"for\", \"geeks\"]\n",
    "       word = geeks, N = 2\n",
    "Output: list - [\"geeks\", \"for\"]"
   ]
  },
  {
   "cell_type": "code",
   "execution_count": 3,
   "metadata": {},
   "outputs": [
    {
     "name": "stdout",
     "output_type": "stream",
     "text": [
      "['geeks', 'for']\n"
     ]
    }
   ],
   "source": [
    "li=['geeks','for','geeks']\n",
    "word='geeks'\n",
    "n=2\n",
    "count=0\n",
    "for i in range(len(li)):\n",
    "    if li[i] is word:\n",
    "        count=count+1\n",
    "    if count is n:\n",
    "        li.pop(i)\n",
    "print(li)"
   ]
  },
  {
   "cell_type": "markdown",
   "metadata": {},
   "source": [
    "## clear a list in Python\n",
    " Using clear() method"
   ]
  },
  {
   "cell_type": "code",
   "execution_count": 4,
   "metadata": {},
   "outputs": [
    {
     "name": "stdout",
     "output_type": "stream",
     "text": [
      "Before clear:  ['geeks', 'for']\n",
      "After clear:  []\n"
     ]
    }
   ],
   "source": [
    "#from last program,we perform clear method on li\n",
    "print('Before clear: ',li)\n",
    "li.clear()\n",
    "print('After clear: ',li)\n"
   ]
  },
  {
   "cell_type": "markdown",
   "metadata": {},
   "source": [
    "## Reversing a List\n",
    "Input : list = [10, 11, 12, 13, 14, 15]\n",
    "Output : [15, 14, 13, 12, 11, 10]"
   ]
  },
  {
   "cell_type": "code",
   "execution_count": 5,
   "metadata": {},
   "outputs": [
    {
     "name": "stdout",
     "output_type": "stream",
     "text": [
      "[15, 14, 13, 12, 11, 10]\n"
     ]
    }
   ],
   "source": [
    "#using slice\n",
    "li=[10,11,12,13,14,15]\n",
    "li2=li[::-1]\n",
    "print(li2)"
   ]
  },
  {
   "cell_type": "code",
   "execution_count": 6,
   "metadata": {},
   "outputs": [
    {
     "name": "stdout",
     "output_type": "stream",
     "text": [
      "[15, 14, 13, 12, 11, 10]\n"
     ]
    }
   ],
   "source": [
    "#using reversed function\n",
    "newlist=list(reversed(li)) #reverse object cast to list type\n",
    "print(newlist)"
   ]
  },
  {
   "cell_type": "code",
   "execution_count": 7,
   "metadata": {},
   "outputs": [
    {
     "name": "stdout",
     "output_type": "stream",
     "text": [
      "[15, 14, 13, 12, 11, 10]\n"
     ]
    }
   ],
   "source": [
    "#using reverse method\n",
    "lst = [10, 11, 12, 13, 14, 15]\n",
    "lst.reverse()\n",
    "print(lst)"
   ]
  },
  {
   "cell_type": "markdown",
   "metadata": {},
   "source": [
    "## Cloning or Copying a list\n"
   ]
  },
  {
   "cell_type": "code",
   "execution_count": 8,
   "metadata": {},
   "outputs": [
    {
     "name": "stdout",
     "output_type": "stream",
     "text": [
      "Original list:  [4, 8, 2, 10, 15, 18]\n",
      "Clone list:  [4, 8, 2, 10, 15, 18]\n"
     ]
    }
   ],
   "source": [
    "# using slicing technique\n",
    "lst=[4, 8, 2, 10, 15, 18]\n",
    "lst_copy=lst[::]\n",
    "print('Original list: ',lst)\n",
    "print('Clone list: ',lst_copy)"
   ]
  },
  {
   "cell_type": "code",
   "execution_count": 9,
   "metadata": {},
   "outputs": [
    {
     "name": "stdout",
     "output_type": "stream",
     "text": [
      "Original list:  [4, 8, 2, 10, 15, 18]\n",
      "Clone list:  [4, 8, 2, 10, 15, 18]\n"
     ]
    }
   ],
   "source": [
    "#using copy() method\n",
    "lst=[4, 8, 2, 10, 15, 18]\n",
    "lst_copy=lst.copy()\n",
    "print('Original list: ',lst)\n",
    "print('Clone list: ',lst_copy)"
   ]
  },
  {
   "cell_type": "markdown",
   "metadata": {},
   "source": [
    "## Count occurrences of an element in a list\n",
    "Input : lst = [15, 6, 7, 10, 12, 20, 10, 28, 10]\n",
    "         x = 10\n",
    "Output : 3 \n",
    "10 appears three times in given list."
   ]
  },
  {
   "cell_type": "code",
   "execution_count": 10,
   "metadata": {},
   "outputs": [
    {
     "name": "stdout",
     "output_type": "stream",
     "text": [
      "3\n"
     ]
    }
   ],
   "source": [
    "lst = [15, 6, 7, 10, 12, 20, 10, 28, 10]\n",
    "x=10\n",
    "print(lst.count(x))"
   ]
  },
  {
   "cell_type": "markdown",
   "metadata": {},
   "source": [
    "## Python program to find sum of elements in list"
   ]
  },
  {
   "cell_type": "code",
   "execution_count": 11,
   "metadata": {},
   "outputs": [
    {
     "name": "stdout",
     "output_type": "stream",
     "text": [
      "Sum:  118\n"
     ]
    }
   ],
   "source": [
    "#using sum() function\n",
    "lst = [15, 6, 7, 10, 12, 20, 10, 28, 10]\n",
    "print('Sum: ',sum(lst))"
   ]
  },
  {
   "cell_type": "code",
   "execution_count": 12,
   "metadata": {},
   "outputs": [
    {
     "name": "stdout",
     "output_type": "stream",
     "text": [
      "Sum:  118\n"
     ]
    }
   ],
   "source": [
    "#using simple approach\n",
    "lst = [15, 6, 7, 10, 12, 20, 10, 28, 10]\n",
    "sum=0\n",
    "for x in lst:\n",
    "    sum=sum+x\n",
    "print(\"Sum: \",sum)"
   ]
  },
  {
   "cell_type": "markdown",
   "metadata": {},
   "source": [
    "## Multiply all numbers in the list\n",
    "Input :  list1 = [1, 2, 3] \n",
    "Output : 6"
   ]
  },
  {
   "cell_type": "code",
   "execution_count": 13,
   "metadata": {},
   "outputs": [
    {
     "name": "stdout",
     "output_type": "stream",
     "text": [
      "6\n"
     ]
    }
   ],
   "source": [
    "#using simple approach\n",
    "lst=[1,2,3]\n",
    "ans=1\n",
    "for x in lst:\n",
    "    ans=ans*x\n",
    "print(ans)\n"
   ]
  },
  {
   "cell_type": "code",
   "execution_count": 14,
   "metadata": {},
   "outputs": [
    {
     "name": "stdout",
     "output_type": "stream",
     "text": [
      "6\n"
     ]
    }
   ],
   "source": [
    "#using numpy prod() method\n",
    "lst=[1,2,3]\n",
    "import numpy as np\n",
    "ans=np.prod(lst)\n",
    "print(ans)"
   ]
  },
  {
   "cell_type": "markdown",
   "metadata": {},
   "source": [
    "## Python program to find smallest number in a list\n",
    "Input : list2 = [20, 10, 20, 1, 100]\n",
    "Output : 1"
   ]
  },
  {
   "cell_type": "code",
   "execution_count": 15,
   "metadata": {},
   "outputs": [
    {
     "name": "stdout",
     "output_type": "stream",
     "text": [
      "1\n"
     ]
    }
   ],
   "source": [
    "#using min() function\n",
    "list2=[20,10,20,1,100]\n",
    "print(min(list2))"
   ]
  },
  {
   "cell_type": "code",
   "execution_count": 16,
   "metadata": {},
   "outputs": [
    {
     "name": "stdout",
     "output_type": "stream",
     "text": [
      "1\n"
     ]
    }
   ],
   "source": [
    "#using simple approach\n",
    "list1=[20,10,20,1,100]\n",
    "min_n=list1[0]\n",
    "for x in list1:\n",
    "    if min_n>x:\n",
    "        min_n=x\n",
    "print(min_n)"
   ]
  },
  {
   "cell_type": "code",
   "execution_count": 17,
   "metadata": {},
   "outputs": [
    {
     "name": "stdout",
     "output_type": "stream",
     "text": [
      "1\n"
     ]
    }
   ],
   "source": [
    "#sort the list and print list first element\n",
    "list1=[20,10,20,1,100]\n",
    "list1.sort()\n",
    "print(list1[0])"
   ]
  },
  {
   "cell_type": "markdown",
   "metadata": {},
   "source": [
    "## Python program to find largest number in a list"
   ]
  },
  {
   "cell_type": "code",
   "execution_count": 18,
   "metadata": {},
   "outputs": [
    {
     "name": "stdout",
     "output_type": "stream",
     "text": [
      "100\n"
     ]
    }
   ],
   "source": [
    "# using sorting\n",
    "list1 = [20, 10, 20, 4,100,5,7]\n",
    "list1.sort()\n",
    "print(list1[-1])"
   ]
  },
  {
   "cell_type": "code",
   "execution_count": 19,
   "metadata": {},
   "outputs": [
    {
     "name": "stdout",
     "output_type": "stream",
     "text": [
      "100\n"
     ]
    }
   ],
   "source": [
    "# using max() function\n",
    "print(max(list1))"
   ]
  },
  {
   "cell_type": "code",
   "execution_count": 20,
   "metadata": {},
   "outputs": [
    {
     "name": "stdout",
     "output_type": "stream",
     "text": [
      "100\n"
     ]
    }
   ],
   "source": [
    "# using simple approach\n",
    "list1 = [20, 10, 20, 4,100,5,7]\n",
    "max_n=list1[0]\n",
    "for x in list1:\n",
    "    if max_n<x:\n",
    "        max_n=x\n",
    "print(max_n)"
   ]
  },
  {
   "cell_type": "markdown",
   "metadata": {},
   "source": [
    "## Python program to find second largest number in a list"
   ]
  },
  {
   "cell_type": "code",
   "execution_count": 21,
   "metadata": {},
   "outputs": [
    {
     "name": "stdout",
     "output_type": "stream",
     "text": [
      "70\n"
     ]
    }
   ],
   "source": [
    "#using sorting\n",
    "lst=[70, 11, 20, 4, 100]\n",
    "lst.sort()\n",
    "print(lst[-2])"
   ]
  },
  {
   "cell_type": "code",
   "execution_count": 22,
   "metadata": {},
   "outputs": [
    {
     "name": "stdout",
     "output_type": "stream",
     "text": [
      "70\n"
     ]
    }
   ],
   "source": [
    "#by removing max number from list\n",
    "lst=[70,11,20,4,100]\n",
    "lst.remove(max(lst))\n",
    "print(max(lst))"
   ]
  },
  {
   "cell_type": "markdown",
   "metadata": {},
   "source": [
    "## Python program to find N largest elements from a list\n",
    "Input : [4, 5, 1, 2, 9] \n",
    "        N = 2\n",
    "Output :  [9, 5]\n",
    "\n",
    "Input : [81, 52, 45, 10, 3, 2, 96] \n",
    "        N = 3\n",
    "Output : [81, 96, 52]"
   ]
  },
  {
   "cell_type": "code",
   "execution_count": 23,
   "metadata": {},
   "outputs": [
    {
     "name": "stdout",
     "output_type": "stream",
     "text": [
      "[52, 81, 96]\n"
     ]
    }
   ],
   "source": [
    "lst=[81,52,45,10,3,2,96]\n",
    "n=3\n",
    "lst.sort()\n",
    "print(lst[-n::])"
   ]
  },
  {
   "cell_type": "markdown",
   "metadata": {},
   "source": [
    "## Python program to print even numbers in a list\n",
    "Input: list1 = [2, 7, 5, 64, 14]\n",
    "Output: [2, 64, 14]"
   ]
  },
  {
   "cell_type": "code",
   "execution_count": 24,
   "metadata": {},
   "outputs": [
    {
     "name": "stdout",
     "output_type": "stream",
     "text": [
      "[2, 64, 14]\n"
     ]
    }
   ],
   "source": [
    "lst=[2,7,5,64,14]\n",
    "even=[]\n",
    "for x in lst:\n",
    "    if x%2==0:\n",
    "        even.append(x)\n",
    "print(even)"
   ]
  },
  {
   "cell_type": "markdown",
   "metadata": {},
   "source": [
    "## Python program to print odd numbers in a List\n",
    "Input: list1 = [2, 7, 5, 64, 14]\n",
    "Output: [7, 5]"
   ]
  },
  {
   "cell_type": "code",
   "execution_count": 25,
   "metadata": {},
   "outputs": [
    {
     "name": "stdout",
     "output_type": "stream",
     "text": [
      "[7, 5]\n"
     ]
    }
   ],
   "source": [
    "#normal\n",
    "lst=[2,7,5,64,14]\n",
    "odd=[]\n",
    "for x in lst:\n",
    "    if x%2!=0:\n",
    "        odd.append(x)\n",
    "print(odd)"
   ]
  },
  {
   "cell_type": "code",
   "execution_count": 26,
   "metadata": {},
   "outputs": [
    {
     "name": "stdout",
     "output_type": "stream",
     "text": [
      "[7, 5]\n"
     ]
    }
   ],
   "source": [
    "#using comprehension\n",
    "lst=[2,7,5,64,14]\n",
    "odd1=[x for x in lst if x%2!=0]\n",
    "print(odd1)"
   ]
  },
  {
   "cell_type": "markdown",
   "metadata": {},
   "source": [
    "## Python program to print all even numbers in a range\n",
    "Input: start = 4, end = 15\n",
    "Output: 4, 6, 8, 10, 12, 14\n",
    "\n",
    "Input: start = 8, end = 11\n",
    "Output: 8, 10"
   ]
  },
  {
   "cell_type": "code",
   "execution_count": 27,
   "metadata": {},
   "outputs": [
    {
     "name": "stdout",
     "output_type": "stream",
     "text": [
      "Enter starting point4\n",
      "Enter End point15\n",
      "[4, 6, 8, 10, 12, 14]\n"
     ]
    }
   ],
   "source": [
    "start=int(input('Enter starting point'))\n",
    "end=int(input('Enter End point'))\n",
    "even=[]\n",
    "for x in range(start,end+1):\n",
    "    if x%2==0:\n",
    "        even.append(x)\n",
    "print(even)"
   ]
  },
  {
   "cell_type": "code",
   "execution_count": 28,
   "metadata": {},
   "outputs": [
    {
     "name": "stdout",
     "output_type": "stream",
     "text": [
      "Enter starting point4\n",
      "Enter End point15\n",
      "[4, 6, 8, 10, 12, 14]\n"
     ]
    }
   ],
   "source": [
    "#using list comprehension\n",
    "start=int(input('Enter starting point'))\n",
    "end=int(input('Enter End point'))\n",
    "even=[x for x in range(start,end+1) if x%2==0]\n",
    "print(even)\n"
   ]
  },
  {
   "cell_type": "markdown",
   "metadata": {},
   "source": [
    "## Python program to print all odd numbers in a range\n",
    "Input: start = 4, end = 15\n",
    "Output: 5, 7, 9, 11, 13, 15\n",
    "\n",
    "Input: start = 3, end = 11\n",
    "Output: 3, 5, 7, 9, 11"
   ]
  },
  {
   "cell_type": "code",
   "execution_count": 29,
   "metadata": {},
   "outputs": [
    {
     "name": "stdout",
     "output_type": "stream",
     "text": [
      "Enter starting point4\n",
      "Enter End point15\n",
      "[5, 7, 9, 11, 13, 15]\n"
     ]
    }
   ],
   "source": [
    "#using list comprehension\n",
    "start=int(input('Enter starting point'))\n",
    "end=int(input('Enter End point'))\n",
    "odd=[x for x in range(start,end+1) if x%2!=0]\n",
    "print(odd)"
   ]
  },
  {
   "cell_type": "markdown",
   "metadata": {},
   "source": [
    "## Python program to count Even and Odd numbers in a List\n",
    "Input: list1 = [2, 7, 5, 64, 14]\n",
    "Output: Even = 3, odd = 2\n",
    "\n",
    "Input: list2 = [12, 14, 95, 3]\n",
    "Output: Even = 2, odd = 2"
   ]
  },
  {
   "cell_type": "code",
   "execution_count": 30,
   "metadata": {},
   "outputs": [
    {
     "name": "stdout",
     "output_type": "stream",
     "text": [
      "Even =  3\n",
      "Odd =  2\n"
     ]
    }
   ],
   "source": [
    "lst=[2,5,7,64,14]\n",
    "even=[x for x in lst if x%2==0]\n",
    "print('Even = ',len(even))\n",
    "print('Odd = ',len(lst)-len(even))"
   ]
  },
  {
   "cell_type": "markdown",
   "metadata": {},
   "source": [
    "## Python program to print positive numbers in a list\n",
    "Input: list1 = [12, -7, 5, 64, -14]\n",
    "Output: 12, 5, 64\n",
    "\n",
    "Input: list2 = [12, 14, -95, 3]\n",
    "Output: [12, 14, 3]"
   ]
  },
  {
   "cell_type": "code",
   "execution_count": 31,
   "metadata": {},
   "outputs": [
    {
     "name": "stdout",
     "output_type": "stream",
     "text": [
      "[12, 14, 3]\n"
     ]
    }
   ],
   "source": [
    "lst=[12,14,-95,3]\n",
    "pve=[x for x in lst if x>=0]\n",
    "print(pve)"
   ]
  },
  {
   "cell_type": "markdown",
   "metadata": {},
   "source": [
    "## Python program to print negative numbers in a list\n",
    "Input: list1 = [12, -7, 5, 64, -14]\n",
    "Output: -7, -14\n",
    "\n",
    "Input: list2 = [12, 14, -95, 3]\n",
    "Output: -95"
   ]
  },
  {
   "cell_type": "code",
   "execution_count": 32,
   "metadata": {},
   "outputs": [
    {
     "name": "stdout",
     "output_type": "stream",
     "text": [
      "[-7, -14]\n"
     ]
    }
   ],
   "source": [
    "lst=[12,-7,5,64,-14]\n",
    "nve=[x for x in lst if x<0]\n",
    "print(nve)"
   ]
  },
  {
   "cell_type": "markdown",
   "metadata": {},
   "source": [
    "## Python program to print all positive numbers in a range\n",
    "Input: start = -4, end = 5\n",
    "Output: 0, 1, 2, 3, 4, 5 \n",
    "\n",
    "Input: start = -3, end = 4\n",
    "Output: 0, 1, 2, 3, 4"
   ]
  },
  {
   "cell_type": "code",
   "execution_count": 33,
   "metadata": {},
   "outputs": [
    {
     "name": "stdout",
     "output_type": "stream",
     "text": [
      "Enter starting point-4\n",
      "Enter End point5\n",
      "[0, 1, 2, 3, 4, 5]\n"
     ]
    }
   ],
   "source": [
    "start=int(input('Enter starting point'))\n",
    "end=int(input('Enter End point'))\n",
    "pve=[x for x in range(start,end+1) if x>=0]\n",
    "print(pve)"
   ]
  },
  {
   "cell_type": "markdown",
   "metadata": {},
   "source": [
    "## Python program to print all negative numbers in a range\n",
    "Example:\n",
    "\n",
    "Input: start = -4, end = 5\n",
    "Output: -4, -3, -2, -1\n",
    "\n",
    "Input: start = -3, end = 4\n",
    "Output: -3, -2, -1"
   ]
  },
  {
   "cell_type": "code",
   "execution_count": 34,
   "metadata": {},
   "outputs": [
    {
     "name": "stdout",
     "output_type": "stream",
     "text": [
      "Enter starting point-4\n",
      "Enter End point5\n",
      "[-4, -3, -2, -1]\n"
     ]
    }
   ],
   "source": [
    "start=int(input('Enter starting point'))\n",
    "end=int(input('Enter End point'))\n",
    "nve=[x for x in range(start,end+1) if x<0]\n",
    "print(nve)"
   ]
  },
  {
   "cell_type": "markdown",
   "metadata": {},
   "source": [
    "## Python program to count positive and negative numbers in a list\n",
    "Example:\n",
    "\n",
    "Input: list1 = [2, -7, 5, -64, -14]\n",
    "Output: pos = 2, neg = 3\n",
    "\n",
    "Input: list2 = [-12, 14, 95, 3]\n",
    "Output: pos = 3, neg = 1"
   ]
  },
  {
   "cell_type": "code",
   "execution_count": 35,
   "metadata": {},
   "outputs": [
    {
     "name": "stdout",
     "output_type": "stream",
     "text": [
      "pos =  2\n",
      "neg =  3\n"
     ]
    }
   ],
   "source": [
    "lst=[2,-7,5,-64,-14]\n",
    "pov=[x for x in lst if x>=0]\n",
    "print('pos = ',len(pov))\n",
    "print('neg = ',len(lst)-len(pov))"
   ]
  },
  {
   "cell_type": "markdown",
   "metadata": {},
   "source": [
    "## Remove multiple elements from a list in Python\n",
    "Given a list of numbers, write a Python program to remove multiple elements from a list based on the given condition.\n",
    "Input: [12, 15, 3, 10]\n",
    "Output: Remove = [12, 3], New_List = [15, 10]\n",
    "\n",
    "Input: [11, 5, 17, 18, 23, 50]\n",
    "Output: Remove = [1:5], New_list = [11, 50]"
   ]
  },
  {
   "cell_type": "code",
   "execution_count": 36,
   "metadata": {},
   "outputs": [
    {
     "name": "stdout",
     "output_type": "stream",
     "text": [
      "New_list:  [15, 3, 5]\n"
     ]
    }
   ],
   "source": [
    "#Let’s say we want to delete each element in the list which is divisible by 2 or all the even numbers.\n",
    "lst=[12,15,3,10,4,5,8,20]\n",
    "lst=[x for x in lst if x%2!=0]\n",
    "print('New_list: ',lst)"
   ]
  },
  {
   "cell_type": "markdown",
   "metadata": {},
   "source": [
    "## Remove empty tuples from a list\n",
    "In this article, we will see how can we remove an empty tuple from a given list of tuples. We will find various ways, in which we can perform this task of removing tuples using various methods and ways in Python.\n",
    "\n",
    "Input : tuples = [(), ('ram','15','8'), (), ('laxman', 'sita'), \n",
    "                  ('krishna', 'akbar', '45'), ('',''),()]\n",
    "Output : [('ram', '15', '8'), ('laxman', 'sita'), \n",
    "          ('krishna', 'akbar', '45'), ('', '')]"
   ]
  },
  {
   "cell_type": "code",
   "execution_count": 37,
   "metadata": {},
   "outputs": [
    {
     "name": "stdout",
     "output_type": "stream",
     "text": [
      "[('ram', '15', '8'), ('laxman', 'sita'), ('krishna', 'akbar', '45'), ('', '')]\n"
     ]
    }
   ],
   "source": [
    "tuples = [(), ('ram','15','8'), (), ('laxman', 'sita'), ('krishna', 'akbar', '45'), ('',''),()]\n",
    "for x in tuples:\n",
    "    if x is tuple(''):\n",
    "        tuples.remove(x)\n",
    "print(tuples)"
   ]
  },
  {
   "cell_type": "code",
   "execution_count": 38,
   "metadata": {},
   "outputs": [
    {
     "name": "stdout",
     "output_type": "stream",
     "text": [
      "[('ram', '15', '8'), ('laxman', 'sita'), ('krishna', 'akbar', '45'), ('', '')]\n"
     ]
    }
   ],
   "source": [
    "# using list comprehension  \n",
    "tuples = [(), ('ram','15','8'), (), ('laxman', 'sita'),  \n",
    "          ('krishna', 'akbar', '45'), ('',''),()] \n",
    "tuples = [t for t in tuples if t]  \n",
    "print(tuples) "
   ]
  },
  {
   "cell_type": "markdown",
   "metadata": {},
   "source": [
    "## Program to print duplicates from a list of integers\n",
    "Examples :\n",
    "\n",
    "Input : list = [10, 20, 30, 20, 20, 30, 40, 50, -20, 60, 60, -20, -20]\n",
    "Output : output_list = [20, 30, -20, 60]"
   ]
  },
  {
   "cell_type": "code",
   "execution_count": 39,
   "metadata": {},
   "outputs": [
    {
     "name": "stdout",
     "output_type": "stream",
     "text": [
      "[20, -20, 30, 60]\n"
     ]
    }
   ],
   "source": [
    "lst = [10, 20, 30, 20, 20, 30, 40, 50, -20, 60, 60, -20, -20]\n",
    "dup=set('')\n",
    "for x in lst:\n",
    "    if lst.count(x) >1:\n",
    "        dup.add(x)\n",
    "print(list(dup))"
   ]
  },
  {
   "cell_type": "markdown",
   "metadata": {},
   "source": [
    "## Python program to find Cumulative sum of a list\n",
    "The problem statement asks to produce a new list whose  i^{th}  element will be equal to the sum of the  (i+1)  elements.\n",
    "\n",
    "Examples :\n",
    "\n",
    "Input : list = [10, 20, 30, 40, 50]\n",
    "Output : [10, 30, 60, 100, 150]\n",
    "\n",
    "Input : list = [4, 10, 15, 18, 20]\n",
    "Output : [4, 14, 29, 47, 67]"
   ]
  },
  {
   "cell_type": "code",
   "execution_count": 1,
   "metadata": {},
   "outputs": [
    {
     "name": "stdout",
     "output_type": "stream",
     "text": [
      "[10, 30, 60, 100, 150]\n"
     ]
    }
   ],
   "source": [
    "lst=[10,20,30,40,50]\n",
    "sum=0\n",
    "for i in range(len(lst)):\n",
    "    sum=sum+lst[i]\n",
    "    lst[i]=sum\n",
    "print(lst)"
   ]
  },
  {
   "cell_type": "markdown",
   "metadata": {},
   "source": [
    "## Break a list into chunks of size N in Python\n"
   ]
  },
  {
   "cell_type": "code",
   "execution_count": 5,
   "metadata": {},
   "outputs": [
    {
     "name": "stdout",
     "output_type": "stream",
     "text": [
      "[['geeks', 'for', 'geeks', 'like'], ['geeky', 'nerdy', 'geek', 'love'], ['questions', 'words', 'life']]\n"
     ]
    }
   ],
   "source": [
    "my_list = ['geeks', 'for', 'geeks', 'like', \n",
    "           'geeky','nerdy', 'geek', 'love', \n",
    "               'questions','words', 'life']\n",
    "new_list=[]\n",
    "n=4 # how much elements list contains\n",
    "i=0\n",
    "while i<len(my_list):\n",
    "    new_list.append(my_list[i:i+n])\n",
    "    i=i+n\n",
    "print(new_list)\n",
    "    "
   ]
  },
  {
   "cell_type": "markdown",
   "metadata": {},
   "source": [
    "## Sort the values of first list using second list\n",
    "Examples:\n",
    "\n",
    "Input : list1 = [\"a\", \"b\", \"c\", \"d\", \"e\", \"f\", \"g\", \"h\", \"i\"]\n",
    "        list2 = [ 0,   1,   1,    0,   1,   2,   2,   0,   1]\n",
    "\n",
    "Output :['a', 'd', 'h', 'b', 'c', 'e', 'i', 'f', 'g']"
   ]
  },
  {
   "cell_type": "code",
   "execution_count": null,
   "metadata": {},
   "outputs": [],
   "source": [
    "list1 = [\"a\", \"b\", \"c\", \"d\", \"e\", \"f\", \"g\", \"h\", \"i\"]\n",
    "list2 = [ 0, 1, 1, 0, 1, 2, 2, 0, 1]\n",
    "new_list=[]\n",
    "for ch in list1:\n",
    "    "
   ]
  }
 ],
 "metadata": {
  "kernelspec": {
   "display_name": "Python 3",
   "language": "python",
   "name": "python3"
  },
  "language_info": {
   "codemirror_mode": {
    "name": "ipython",
    "version": 3
   },
   "file_extension": ".py",
   "mimetype": "text/x-python",
   "name": "python",
   "nbconvert_exporter": "python",
   "pygments_lexer": "ipython3",
   "version": "3.7.4"
  }
 },
 "nbformat": 4,
 "nbformat_minor": 2
}
