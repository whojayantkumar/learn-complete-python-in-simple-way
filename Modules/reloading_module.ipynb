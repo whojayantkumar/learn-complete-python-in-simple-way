{
 "cells": [
  {
   "cell_type": "markdown",
   "metadata": {},
   "source": [
    "# Reloading a module:"
   ]
  },
  {
   "cell_type": "code",
   "execution_count": 13,
   "metadata": {},
   "outputs": [
    {
     "name": "stdout",
     "output_type": "stream",
     "text": [
      "Module mymath\n",
      "The Sum:  30\n",
      "The product:  200\n",
      "Enter into sleeping state\n",
      "Just wakeup ... trying to use module again\n"
     ]
    },
    {
     "ename": "AttributeError",
     "evalue": "module 'mymath' has no attribute 'sub'",
     "output_type": "error",
     "traceback": [
      "\u001b[1;31m---------------------------------------------------------------------------\u001b[0m",
      "\u001b[1;31mAttributeError\u001b[0m                            Traceback (most recent call last)",
      "\u001b[1;32m<ipython-input-13-d6d45815f971>\u001b[0m in \u001b[0;36m<module>\u001b[1;34m\u001b[0m\n\u001b[0;32m      8\u001b[0m \u001b[1;31m# I updated mymath module with sub() function\u001b[0m\u001b[1;33m\u001b[0m\u001b[1;33m\u001b[0m\u001b[1;33m\u001b[0m\u001b[0m\n\u001b[0;32m      9\u001b[0m \u001b[1;32mimport\u001b[0m \u001b[0mmymath\u001b[0m \u001b[1;31m# updated version is not available\u001b[0m\u001b[1;33m\u001b[0m\u001b[1;33m\u001b[0m\u001b[0m\n\u001b[1;32m---> 10\u001b[1;33m \u001b[0mmymath\u001b[0m\u001b[1;33m.\u001b[0m\u001b[0msub\u001b[0m\u001b[1;33m(\u001b[0m\u001b[1;36m20\u001b[0m\u001b[1;33m,\u001b[0m\u001b[1;36m10\u001b[0m\u001b[1;33m)\u001b[0m\u001b[1;33m\u001b[0m\u001b[1;33m\u001b[0m\u001b[0m\n\u001b[0m",
      "\u001b[1;31mAttributeError\u001b[0m: module 'mymath' has no attribute 'sub'"
     ]
    }
   ],
   "source": [
    "import mymath # mymath contain only add and product function at this time\n",
    "import time\n",
    "mymath.add(10,20)\n",
    "mymath.product(10,20)\n",
    "print('Enter into sleeping state')\n",
    "time.sleep(10)\n",
    "print('Just wakeup ... trying to use module again')\n",
    "# I updated mymath module with sub() function\n",
    "import mymath # updated version is not available\n",
    "mymath.sub(20,10)"
   ]
  },
  {
   "cell_type": "code",
   "execution_count": null,
   "metadata": {},
   "outputs": [],
   "source": [
    "#this time python virtual machine contain only old copy of module mymath\n",
    "# so, reloading a module is required "
   ]
  },
  {
   "cell_type": "markdown",
   "metadata": {},
   "source": [
    "## reload() function\n",
    "\n",
    "it is available inside imp module"
   ]
  },
  {
   "cell_type": "code",
   "execution_count": 14,
   "metadata": {},
   "outputs": [
    {
     "name": "stdout",
     "output_type": "stream",
     "text": [
      "Module mymath\n",
      "The Sum:  30\n",
      "The product:  200\n",
      "Enter into sleeping state\n",
      "Just wakeup ... trying to use module again\n",
      "The subtraction:  10\n"
     ]
    }
   ],
   "source": [
    "# i am trying to use same thing \n",
    "import mymath # mymath contain only add and product function at this time\n",
    "import time\n",
    "from imp import reload\n",
    "mymath.add(10,20)\n",
    "mymath.product(10,20)\n",
    "print('Enter into sleeping state')\n",
    "time.sleep(10)\n",
    "print('Just wakeup ... trying to use module again')\n",
    "# I updated mymath module with sub() function\n",
    "reload(mymath) # Now mymath is reloaded\n",
    "mymath.sub(20,10)"
   ]
  },
  {
   "cell_type": "code",
   "execution_count": null,
   "metadata": {},
   "outputs": [],
   "source": []
  }
 ],
 "metadata": {
  "kernelspec": {
   "display_name": "Python 3",
   "language": "python",
   "name": "python3"
  },
  "language_info": {
   "codemirror_mode": {
    "name": "ipython",
    "version": 3
   },
   "file_extension": ".py",
   "mimetype": "text/x-python",
   "name": "python",
   "nbconvert_exporter": "python",
   "pygments_lexer": "ipython3",
   "version": "3.7.4"
  }
 },
 "nbformat": 4,
 "nbformat_minor": 2
}
