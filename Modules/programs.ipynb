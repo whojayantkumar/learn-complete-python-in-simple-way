{
 "cells": [
  {
   "cell_type": "markdown",
   "metadata": {},
   "source": [
    "## Write a program to generate 6-digit random number, which can be used as OTP?"
   ]
  },
  {
   "cell_type": "code",
   "execution_count": 17,
   "metadata": {},
   "outputs": [
    {
     "name": "stdout",
     "output_type": "stream",
     "text": [
      "Your One Time Password is:  513898\n"
     ]
    }
   ],
   "source": [
    "from random import *\n",
    "def generate_otp():\n",
    "    otp=''\n",
    "    for i in range(6):\n",
    "        otp=otp+str(randint(0,9))\n",
    "    return otp\n",
    "print('Your One Time Password is: ',generate_otp())\n"
   ]
  },
  {
   "cell_type": "markdown",
   "metadata": {},
   "source": [
    "## Write a program to gernerate a random password of 8 length where 1,3,5,7 characters are alphabet symbols and 2,4,6,8 characters are digits?"
   ]
  },
  {
   "cell_type": "code",
   "execution_count": 23,
   "metadata": {},
   "outputs": [
    {
     "name": "stdout",
     "output_type": "stream",
     "text": [
      "Your Random password is:  s9x0B6J7\n"
     ]
    }
   ],
   "source": [
    "from random import *\n",
    "alphabets='AaBbCcDdEeFfGgHhIiJjKkLlMmNnOoPpQqRrSsTtUuVvWwXxYyZz'\n",
    "password=''\n",
    "for i in range(1,9):\n",
    "    if i%2==0:\n",
    "        password=password+str(randint(0,9))\n",
    "    else:\n",
    "        password=password+choice(alphabets)\n",
    "print('Your Random password is: ',password)"
   ]
  },
  {
   "cell_type": "markdown",
   "metadata": {},
   "source": [
    "## Write a program to generate Fake employee Date for database Testing?\n",
    "1. Employee Name\n",
    "2. Employee Number\n",
    "3. Employee Salary\n",
    "4. Employee city\n",
    "5. Employee mobile number\n",
    "6. Designation"
   ]
  },
  {
   "cell_type": "code",
   "execution_count": 61,
   "metadata": {},
   "outputs": [
    {
     "name": "stdout",
     "output_type": "stream",
     "text": [
      "How much Fake Employee Data You want10\n",
      "****************************************\n",
      "Employee Name : Wdhyw\n",
      "Employee Number : E-2987\n",
      "Employee Salary : 38784.1\n",
      "Employee City : Hydrabad\n",
      "Employee Mobile Number : 9505771441\n",
      "Employee Designation : Software Engineer\n",
      "##################################################\n",
      "****************************************\n",
      "Employee Name : Myinqepnm\n",
      "Employee Number : E-5818\n",
      "Employee Salary : 46331.83\n",
      "Employee City : Hydrabad\n",
      "Employee Mobile Number : 9864583292\n",
      "Employee Designation : Senior Software Engineer\n",
      "##################################################\n",
      "****************************************\n",
      "Employee Name : Tse\n",
      "Employee Number : E-9224\n",
      "Employee Salary : 49276.88\n",
      "Employee City : Hydrabad\n",
      "Employee Mobile Number : 7318735445\n",
      "Employee Designation : Project Manager\n",
      "##################################################\n",
      "****************************************\n",
      "Employee Name : Svxtoygxy\n",
      "Employee Number : E-5399\n",
      "Employee Salary : 42454.04\n",
      "Employee City : Hydrabad\n",
      "Employee Mobile Number : 9272618508\n",
      "Employee Designation : Project Manager\n",
      "##################################################\n",
      "****************************************\n",
      "Employee Name : Vhprugp\n",
      "Employee Number : E-5812\n",
      "Employee Salary : 10699.8\n",
      "Employee City : Mumbai\n",
      "Employee Mobile Number : 9526479412\n",
      "Employee Designation : Project Manager\n",
      "##################################################\n",
      "****************************************\n",
      "Employee Name : Onwnqzq\n",
      "Employee Number : E-1001\n",
      "Employee Salary : 16313.06\n",
      "Employee City : Pune\n",
      "Employee Mobile Number : 7972613952\n",
      "Employee Designation : Team Leader\n",
      "##################################################\n",
      "****************************************\n",
      "Employee Name : Ntdkuzu\n",
      "Employee Number : E-9611\n",
      "Employee Salary : 44731.49\n",
      "Employee City : Delhi\n",
      "Employee Mobile Number : 9367034550\n",
      "Employee Designation : Project Leader\n",
      "##################################################\n",
      "****************************************\n",
      "Employee Name : Xhfpf\n",
      "Employee Number : E-6696\n",
      "Employee Salary : 46025.43\n",
      "Employee City : Delhi\n",
      "Employee Mobile Number : 9512970008\n",
      "Employee Designation : Project Leader\n",
      "##################################################\n",
      "****************************************\n",
      "Employee Name : Pqsg\n",
      "Employee Number : E-5115\n",
      "Employee Salary : 43560.0\n",
      "Employee City : Pune\n",
      "Employee Mobile Number : 6106159782\n",
      "Employee Designation : Project Manager\n",
      "##################################################\n",
      "****************************************\n",
      "Employee Name : Kgviin\n",
      "Employee Number : E-8792\n",
      "Employee Salary : 39496.26\n",
      "Employee City : Bangalore\n",
      "Employee Mobile Number : 7695132791\n",
      "Employee Designation : Senior Software Engineer\n",
      "##################################################\n"
     ]
    }
   ],
   "source": [
    "from random import *\n",
    "alphabets='abcdefghijklmnopqrstuvwxyz'\n",
    "digits='0123456789'\n",
    "cities=['Hydrabad', 'Chennai', 'Bangalore', 'Pune', 'Delhi', 'Mumbai']\n",
    "designations=['Software Engineer', 'Senior Software Engineer', 'Team Leader', 'Project Leader', 'Project Manager']\n",
    "def get_fake_name():\n",
    "    emp_name=''\n",
    "    for i in range(randrange(3,11)):\n",
    "        emp_name=emp_name+choice(alphabets)\n",
    "    emp_name=emp_name.title()\n",
    "    return emp_name\n",
    "def get_fake_number():\n",
    "    emp_number='E-'\n",
    "    for i in range(4):\n",
    "        emp_number=emp_number+choice(digits)\n",
    "    return emp_number\n",
    "def get_emp_salary():\n",
    "    emp_salary=uniform(10000, 50001)\n",
    "    return round(emp_salary,2)\n",
    "def get_emp_city():\n",
    "    return choice(cities)\n",
    "def get_emp_mob():\n",
    "    emp_mob=choice('6789')\n",
    "    for i in range(9):\n",
    "        emp_mob=emp_mob+choice(digits)\n",
    "    return emp_mob\n",
    "def get_emp_designation():\n",
    "    return choice(designations)\n",
    "def get_fake_emp_data():\n",
    "    print('Employee Name :', get_fake_name())\n",
    "    print('Employee Number :', get_fake_number())\n",
    "    print('Employee Salary :', get_emp_salary())\n",
    "    print('Employee City :', get_emp_city())\n",
    "    print('Employee Mobile Number :', get_emp_mob())\n",
    "    print('Employee Designation :', get_emp_designation())\n",
    "emp_n=int(input('How much Fake Employee Data You want'))\n",
    "for i in range(emp_n):\n",
    "    print('*'*40)\n",
    "    get_fake_emp_data()\n",
    "    print('#'*50)\n"
   ]
  },
  {
   "cell_type": "code",
   "execution_count": null,
   "metadata": {},
   "outputs": [],
   "source": []
  },
  {
   "cell_type": "code",
   "execution_count": null,
   "metadata": {},
   "outputs": [],
   "source": []
  }
 ],
 "metadata": {
  "kernelspec": {
   "display_name": "Python 3",
   "language": "python",
   "name": "python3"
  },
  "language_info": {
   "codemirror_mode": {
    "name": "ipython",
    "version": 3
   },
   "file_extension": ".py",
   "mimetype": "text/x-python",
   "name": "python",
   "nbconvert_exporter": "python",
   "pygments_lexer": "ipython3",
   "version": "3.7.4"
  }
 },
 "nbformat": 4,
 "nbformat_minor": 2
}
