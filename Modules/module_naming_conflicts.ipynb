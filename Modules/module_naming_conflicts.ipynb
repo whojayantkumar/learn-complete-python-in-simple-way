{
 "cells": [
  {
   "cell_type": "markdown",
   "metadata": {},
   "source": [
    "# Module Naming Conflicts"
   ]
  },
  {
   "cell_type": "markdown",
   "metadata": {},
   "source": [
    "### rockkar and mymath module have same functions with same name"
   ]
  },
  {
   "cell_type": "code",
   "execution_count": 2,
   "metadata": {},
   "outputs": [
    {
     "name": "stdout",
     "output_type": "stream",
     "text": [
      "Module mymath\n",
      "The Sum:  30\n"
     ]
    }
   ],
   "source": [
    "from rockkar import *\n",
    "from mymath import * \n",
    "# mymath is most recent module \n",
    "add(10,20) # old add function override by new add function "
   ]
  },
  {
   "cell_type": "code",
   "execution_count": 3,
   "metadata": {},
   "outputs": [
    {
     "name": "stdout",
     "output_type": "stream",
     "text": [
      "Module mymath\n",
      "The Sum:  30\n",
      "rockkar module\n",
      "The Sum:  30\n"
     ]
    }
   ],
   "source": [
    "# If we want both functions\n",
    "# solution 1\n",
    "import mymath \n",
    "import rockkar\n",
    "mymath.add(10,20)\n",
    "rockkar.add(10,20)"
   ]
  },
  {
   "cell_type": "code",
   "execution_count": 4,
   "metadata": {},
   "outputs": [
    {
     "name": "stdout",
     "output_type": "stream",
     "text": [
      "Module mymath\n",
      "The Sum:  30\n",
      "rockkar module\n",
      "The Sum:  30\n"
     ]
    }
   ],
   "source": [
    "# solution2\n",
    "from mymath import add as a1\n",
    "from rockkar import add as a2\n",
    "a1(10,20)\n",
    "a2(10,20)"
   ]
  },
  {
   "cell_type": "code",
   "execution_count": null,
   "metadata": {},
   "outputs": [],
   "source": []
  }
 ],
 "metadata": {
  "kernelspec": {
   "display_name": "Python 3",
   "language": "python",
   "name": "python3"
  },
  "language_info": {
   "codemirror_mode": {
    "name": "ipython",
    "version": 3
   },
   "file_extension": ".py",
   "mimetype": "text/x-python",
   "name": "python",
   "nbconvert_exporter": "python",
   "pygments_lexer": "ipython3",
   "version": "3.7.4"
  }
 },
 "nbformat": 4,
 "nbformat_minor": 2
}
