{
 "cells": [
  {
   "cell_type": "markdown",
   "metadata": {},
   "source": [
    "# input two number and find out minimum number\n"
   ]
  },
  {
   "cell_type": "code",
   "execution_count": 3,
   "metadata": {},
   "outputs": [
    {
     "name": "stdout",
     "output_type": "stream",
     "text": [
      "Enter first Number15\n",
      "Enter second Number25\n",
      "Minimum Number: 15\n"
     ]
    }
   ],
   "source": [
    "firstN=int(input(\"Enter first Number\"))\n",
    "secondN=int(input(\"Enter second Number\"))\n",
    "min= firstN if firstN < secondN else secondN\n",
    "print(\"Minimum Number:\",min)"
   ]
  },
  {
   "cell_type": "markdown",
   "metadata": {},
   "source": [
    "## Input Three Number and find Maximum Number"
   ]
  },
  {
   "cell_type": "code",
   "execution_count": 5,
   "metadata": {},
   "outputs": [
    {
     "name": "stdout",
     "output_type": "stream",
     "text": [
      "Enter first Number5\n",
      "Enter second Number25\n",
      "Enter third Number45\n",
      "Maximum Number 45\n"
     ]
    }
   ],
   "source": [
    "firstN=int(input(\"Enter first Number\"))\n",
    "secondN=int(input(\"Enter second Number\"))\n",
    "thirdN=int(input(\"Enter third Number\"))\n",
    "max= firstN if firstN>secondN and firstN >thirdN else secondN if secondN > thirdN else thirdN\n",
    "print(\"Maximum Number\",max)"
   ]
  },
  {
   "cell_type": "code",
   "execution_count": null,
   "metadata": {},
   "outputs": [],
   "source": []
  }
 ],
 "metadata": {
  "kernelspec": {
   "display_name": "Python 3",
   "language": "python",
   "name": "python3"
  },
  "language_info": {
   "codemirror_mode": {
    "name": "ipython",
    "version": 3
   },
   "file_extension": ".py",
   "mimetype": "text/x-python",
   "name": "python",
   "nbconvert_exporter": "python",
   "pygments_lexer": "ipython3",
   "version": "3.7.4"
  }
 },
 "nbformat": 4,
 "nbformat_minor": 2
}
