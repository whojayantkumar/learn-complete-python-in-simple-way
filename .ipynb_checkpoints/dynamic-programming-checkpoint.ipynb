{
 "cells": [
  {
   "cell_type": "markdown",
   "metadata": {},
   "source": [
    "## Day 1 Challenge:\n",
    "There was a teacher in a small town who loves coading and he wants to create a program which prints out the whole multiplication table of an entered number for his students. Can you help him to write a program in Python?\n"
   ]
  },
  {
   "cell_type": "code",
   "execution_count": 1,
   "metadata": {},
   "outputs": [
    {
     "name": "stdout",
     "output_type": "stream",
     "text": [
      "Enter a number that table you want: 21\n",
      "1 x 21 = 21\n",
      "2 x 21 = 42\n",
      "3 x 21 = 63\n",
      "4 x 21 = 84\n",
      "5 x 21 = 105\n",
      "6 x 21 = 126\n",
      "7 x 21 = 147\n",
      "8 x 21 = 168\n",
      "9 x 21 = 189\n",
      "10 x 21 = 210\n"
     ]
    }
   ],
   "source": [
    "n=int(input(\"Enter a number that table you want: \"))\n",
    "for i in range(1,11):\n",
    "    print(\"{} x {} = {}\".format(i,n,i*n))"
   ]
  },
  {
   "cell_type": "markdown",
   "metadata": {},
   "source": [
    "## Day 2 Challenge:\n",
    "Can you help Alex to print double sided stair-case pattern in python."
   ]
  },
  {
   "cell_type": "code",
   "execution_count": 13,
   "metadata": {},
   "outputs": [
    {
     "name": "stdout",
     "output_type": "stream",
     "text": [
      "Enter Even value: 20\n",
      "         **         \n",
      "         **         \n",
      "        ****        \n",
      "        ****        \n",
      "       ******       \n",
      "       ******       \n",
      "      ********      \n",
      "      ********      \n",
      "     **********     \n",
      "     **********     \n",
      "    ************    \n",
      "    ************    \n",
      "   **************   \n",
      "   **************   \n",
      "  ****************  \n",
      "  ****************  \n",
      " ****************** \n",
      " ****************** \n",
      "********************\n",
      "********************\n"
     ]
    }
   ],
   "source": [
    "n= int(input(\"Enter Even value: \"))\n",
    "k=n//2-1\n",
    "for i in range(1,n+1,2):\n",
    "    for j in range(2):\n",
    "        print(\" \"*(k)+'*'*(i+1)+' '*k)\n",
    "    k=k-1"
   ]
  },
  {
   "cell_type": "markdown",
   "metadata": {},
   "source": [
    "## Day 3\n",
    "A chef was cooking something special which required exact 200ml water but he doesn't have 200ml cup he has a 500ml cup and a 300ml cup but that dish required exactly 200ml water.\n",
    "Can you solve this problem in python?"
   ]
  },
  {
   "cell_type": "code",
   "execution_count": 1,
   "metadata": {},
   "outputs": [
    {
     "name": "stdout",
     "output_type": "stream",
     "text": [
      "Water required for dish is in cup_500ml in 200 ml\n"
     ]
    }
   ],
   "source": [
    "cup_500ml=500\n",
    "cup_300ml=300\n",
    "cup_500ml=cup_500ml-cup_300ml\n",
    "print(\"Water required for dish is in cup_500ml in {} ml\".format(cup_500ml))"
   ]
  },
  {
   "cell_type": "markdown",
   "metadata": {},
   "source": [
    "## Day 4\n",
    "Jack bought 400 hot dogs for the school picnic. If they were contained in package of 8 hot dogs, how many total packages did he buy? Create a Python program without using \\ or % operator."
   ]
  },
  {
   "cell_type": "code",
   "execution_count": 1,
   "metadata": {},
   "outputs": [
    {
     "name": "stdout",
     "output_type": "stream",
     "text": [
      "Total Packages of hot dogs:  50\n"
     ]
    }
   ],
   "source": [
    "hot_dogs=400\n",
    "package=8\n",
    "count=0\n",
    "while hot_dogs>0:\n",
    "    hot_dogs=hot_dogs-package\n",
    "    count=count+1\n",
    "print('Total Packages of hot dogs: ',count)"
   ]
  },
  {
   "cell_type": "markdown",
   "metadata": {},
   "source": [
    "## Day 5\n",
    "Shoshanna achieves the following times in sec-rounds: 66,57,54,53,64,52,59. Found her best score use bubble sort."
   ]
  },
  {
   "cell_type": "code",
   "execution_count": 6,
   "metadata": {},
   "outputs": [
    {
     "name": "stdout",
     "output_type": "stream",
     "text": [
      "Shoshanna's best score:  52  seconds\n"
     ]
    }
   ],
   "source": [
    "time_sec=[66,57,54,53,64,52,59]\n",
    "for i in range(len(time_sec)-1):\n",
    "    for j in range(len(time_sec)-1):\n",
    "        if time_sec[j]>time_sec[j+1]:\n",
    "            temp=time_sec[j]\n",
    "            time_sec[j]=time_sec[j+1]\n",
    "            time_sec[j+1]=temp\n",
    "print(\"Shoshanna's best score: \",time_sec[0],' seconds')"
   ]
  },
  {
   "cell_type": "code",
   "execution_count": null,
   "metadata": {},
   "outputs": [],
   "source": []
  }
 ],
 "metadata": {
  "kernelspec": {
   "display_name": "Python 3",
   "language": "python",
   "name": "python3"
  },
  "language_info": {
   "codemirror_mode": {
    "name": "ipython",
    "version": 3
   },
   "file_extension": ".py",
   "mimetype": "text/x-python",
   "name": "python",
   "nbconvert_exporter": "python",
   "pygments_lexer": "ipython3",
   "version": "3.7.4"
  }
 },
 "nbformat": 4,
 "nbformat_minor": 2
}
