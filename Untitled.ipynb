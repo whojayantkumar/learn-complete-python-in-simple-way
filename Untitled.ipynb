{
 "cells": [
  {
   "cell_type": "code",
   "execution_count": 2,
   "metadata": {},
   "outputs": [
    {
     "name": "stdout",
     "output_type": "stream",
     "text": [
      "Enter Employee No:1234\n",
      "Enter Employee Name: Jayant\n",
      "Enter Employee salary: 70000\n",
      "Enter Employee Address: Tijara\n",
      "Is Employee Marrid or Not ?[Ture|False]False\n",
      "Please confirm entered Information\n",
      "1234\n",
      "Jayant\n",
      "70000.0\n",
      "Tijara\n",
      "False\n"
     ]
    }
   ],
   "source": [
    "eno=int(input('Enter Employee No:'))\n",
    "ename=input(\"Enter Employee Name: \")\n",
    "esal=float(input(\"Enter Employee salary: \"))\n",
    "eaddr=input('Enter Employee Address: ')\n",
    "emarrid=eval(input('Is Employee Marrid or Not ?[Ture|False]'))\n",
    "print(\"Please confirm entered Information\")\n",
    "print(eno)\n",
    "print(ename)\n",
    "print(esal)\n",
    "print(eaddr)\n",
    "print(emarrid)\n",
    "\n"
   ]
  },
  {
   "cell_type": "code",
   "execution_count": null,
   "metadata": {},
   "outputs": [],
   "source": []
  }
 ],
 "metadata": {
  "kernelspec": {
   "display_name": "Python 3",
   "language": "python",
   "name": "python3"
  },
  "language_info": {
   "codemirror_mode": {
    "name": "ipython",
    "version": 3
   },
   "file_extension": ".py",
   "mimetype": "text/x-python",
   "name": "python",
   "nbconvert_exporter": "python",
   "pygments_lexer": "ipython3",
   "version": "3.7.4"
  }
 },
 "nbformat": 4,
 "nbformat_minor": 2
}
