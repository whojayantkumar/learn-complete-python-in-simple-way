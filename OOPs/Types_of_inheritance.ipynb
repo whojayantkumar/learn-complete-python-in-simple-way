{
 "cells": [
  {
   "cell_type": "markdown",
   "metadata": {},
   "source": [
    "# Types of Inheritance"
   ]
  },
  {
   "cell_type": "markdown",
   "metadata": {},
   "source": [
    "- Single Inheritance\n",
    "- Multi Level Inheritance\n",
    "- Hierarchical Inheritance\n",
    "- Multiple Inheritance\n",
    "- Hybrid Inheritance\n",
    "- Cyclic Inheritance"
   ]
  },
  {
   "cell_type": "markdown",
   "metadata": {},
   "source": [
    "## 1. Single Inheritance\n",
    "The concept of inheriting the properties from one class to another class is known as single inheritance."
   ]
  },
  {
   "cell_type": "code",
   "execution_count": 1,
   "metadata": {},
   "outputs": [
    {
     "name": "stdout",
     "output_type": "stream",
     "text": [
      "Parent Method\n",
      "Child Method\n"
     ]
    }
   ],
   "source": [
    "# 1 Parent class\n",
    "# 1 child class\n",
    "# Example\n",
    "\n",
    "class P:\n",
    "    def m1(self):\n",
    "        print(\"Parent Method\")\n",
    "class C(P):\n",
    "    def m2(self):\n",
    "        print(\"Child Method\")\n",
    "c=C()\n",
    "c.m1()\n",
    "c.m2()"
   ]
  },
  {
   "cell_type": "markdown",
   "metadata": {},
   "source": [
    "## 2. Multi Level Inheritance:\n",
    "The concept of inheriting the properties from multiple classes to single class with the concept of one after another is known as multilevel inheritance."
   ]
  },
  {
   "cell_type": "code",
   "execution_count": 2,
   "metadata": {},
   "outputs": [
    {
     "name": "stdout",
     "output_type": "stream",
     "text": [
      "Grand Parent Method\n",
      "Parent Method\n",
      "Child Method\n"
     ]
    }
   ],
   "source": [
    "# child -> parent -> Grand Parent \n",
    "# Example\n",
    "\n",
    "class Gp:\n",
    "    def m1(self):\n",
    "        print(\"Grand Parent Method\")\n",
    "class P(Gp):\n",
    "    def m2(self):\n",
    "        print(\"Parent Method\")\n",
    "class C(P):\n",
    "    def m3(self):\n",
    "        print(\"Child Method\")\n",
    "c=C()\n",
    "c.m1()\n",
    "c.m2()\n",
    "c.m3()"
   ]
  },
  {
   "cell_type": "markdown",
   "metadata": {},
   "source": [
    "## 3. Hierarchical Inheritance:\n",
    "The concept of inheriting properties from one class into multiple classes which are present at same level is known as Hierarchical Inheritance"
   ]
  },
  {
   "cell_type": "code",
   "execution_count": 3,
   "metadata": {},
   "outputs": [
    {
     "name": "stdout",
     "output_type": "stream",
     "text": [
      "Parent Method\n",
      "Child1 Method\n"
     ]
    }
   ],
   "source": [
    "# c1 -> P <- c2\n",
    "class Parent:\n",
    "    def m1(self):\n",
    "        print(\"Parent Method\")\n",
    "class Child1(Parent):\n",
    "    def m2(self):\n",
    "        print(\"Child1 Method\")\n",
    "class Child2(Parent):\n",
    "    def m2(self):\n",
    "        print(\"Child2 Method\")\n",
    "c1=Child1()\n",
    "c1.m1()\n",
    "c1.m2()"
   ]
  },
  {
   "cell_type": "code",
   "execution_count": 4,
   "metadata": {},
   "outputs": [
    {
     "name": "stdout",
     "output_type": "stream",
     "text": [
      "Parent Method\n",
      "Child2 Method\n"
     ]
    }
   ],
   "source": [
    "c2=Child2()\n",
    "c2.m1()\n",
    "c2.m2()"
   ]
  },
  {
   "cell_type": "markdown",
   "metadata": {},
   "source": [
    "## 4. Multiple Inheritance\n",
    "The concept of inheriting the properties from multiple classes into a single class at a time, is known as multiple inheritance."
   ]
  },
  {
   "cell_type": "code",
   "execution_count": 8,
   "metadata": {},
   "outputs": [
    {
     "name": "stdout",
     "output_type": "stream",
     "text": [
      "P1 Method\n",
      "P2 Method\n",
      "P3 Method\n",
      "C Method\n"
     ]
    }
   ],
   "source": [
    "# Example\n",
    "\n",
    "class P1:\n",
    "    def m1(self):\n",
    "        print(\"P1 Method\")\n",
    "class P2:\n",
    "    def m2(self):\n",
    "        print(\"P2 Method\")\n",
    "class P3:\n",
    "    def m3(self):\n",
    "        print(\"P3 Method\")\n",
    "class C(P1,P2,P3):\n",
    "    def m4(self):\n",
    "        print(\"C Method\")\n",
    "c=C()\n",
    "c.m1()\n",
    "c.m2()\n",
    "c.m3()\n",
    "c.m4()"
   ]
  },
  {
   "cell_type": "markdown",
   "metadata": {},
   "source": [
    "How can solve python Diamand access Problem\n",
    "- If the same method is inherited from both parent classes, then Python will always consider the order of Parent classes in the declaration of the child class.\n",
    "- class C(P1, P2):  P1 method will be considered \n",
    "- class C(P2, P1):  P2 method will be considered"
   ]
  },
  {
   "cell_type": "code",
   "execution_count": 9,
   "metadata": {},
   "outputs": [
    {
     "name": "stdout",
     "output_type": "stream",
     "text": [
      "C Method\n"
     ]
    }
   ],
   "source": [
    "# example 1\n",
    "class P1:\n",
    "    def m1(self):\n",
    "        print(\"P1 Method\")\n",
    "class P2:\n",
    "    def m1(self):\n",
    "        print(\"P2 Method\")\n",
    "class C(P1,P2):\n",
    "    def m1(self):\n",
    "        print(\"C Method\")\n",
    "c=C()\n",
    "c.m1()"
   ]
  },
  {
   "cell_type": "code",
   "execution_count": 10,
   "metadata": {},
   "outputs": [
    {
     "name": "stdout",
     "output_type": "stream",
     "text": [
      "P1 Method\n"
     ]
    }
   ],
   "source": [
    "# example 2\n",
    "class P1:\n",
    "    def m1(self):\n",
    "        print(\"P1 Method\")\n",
    "class P2:\n",
    "    def m1(self):\n",
    "        print(\"P2 Method\")\n",
    "class C(P1,P2):\n",
    "    def m2(self):\n",
    "        print(\"C Method\")\n",
    "c=C()\n",
    "c.m1()"
   ]
  },
  {
   "cell_type": "code",
   "execution_count": 11,
   "metadata": {},
   "outputs": [
    {
     "name": "stdout",
     "output_type": "stream",
     "text": [
      "P2 Method\n"
     ]
    }
   ],
   "source": [
    "# example 3\n",
    "class P1:\n",
    "    def m1(self):\n",
    "        print(\"P1 Method\")\n",
    "class P2:\n",
    "    def m1(self):\n",
    "        print(\"P2 Method\")\n",
    "class C(P2,P1):\n",
    "    def m2(self):\n",
    "        print(\"C Method\")\n",
    "c=C()\n",
    "c.m1()"
   ]
  },
  {
   "cell_type": "markdown",
   "metadata": {},
   "source": [
    "## 5. Hybrid Inheritance\n",
    "Combination of Single, Multi level, multiple and Hierarchical inheritance is known as Hybrid Inheritance."
   ]
  },
  {
   "cell_type": "code",
   "execution_count": 19,
   "metadata": {},
   "outputs": [
    {
     "name": "stdout",
     "output_type": "stream",
     "text": [
      "P1 Method\n",
      "P2 Method\n",
      "C Method\n",
      "D Method\n",
      "E Method\n",
      "F Method\n"
     ]
    }
   ],
   "source": [
    "# example\n",
    "class P1:\n",
    "    def m1(self):\n",
    "        print(\"P1 Method\")\n",
    "class P2:\n",
    "    def m2(self):\n",
    "        print(\"P2 Method\")\n",
    "class C(P1,P2):\n",
    "    def m3(self):\n",
    "        print(\"C Method\")\n",
    "class D(C):\n",
    "    def m4(self):\n",
    "        print(\"D Method\")\n",
    "class E(D):\n",
    "    def m5(self):\n",
    "        print(\"E Method\")\n",
    "class F(E):\n",
    "    def m6(self):\n",
    "        print(\"F Method\")\n",
    "class G(E):\n",
    "    def m7(self):\n",
    "        print(\"G Method\")\n",
    "f=F()\n",
    "f.m1()\n",
    "f.m2()\n",
    "f.m3()\n",
    "f.m4()\n",
    "f.m5()\n",
    "f.m6()"
   ]
  },
  {
   "cell_type": "code",
   "execution_count": 22,
   "metadata": {},
   "outputs": [
    {
     "name": "stdout",
     "output_type": "stream",
     "text": [
      "P1 Method\n",
      "P2 Method\n",
      "C Method\n",
      "D Method\n",
      "E Method\n",
      "G Method\n"
     ]
    }
   ],
   "source": [
    "g=G()\n",
    "g.m1()\n",
    "g.m2()\n",
    "g.m3()\n",
    "g.m4()\n",
    "g.m5()\n",
    "g.m7()"
   ]
  },
  {
   "cell_type": "markdown",
   "metadata": {},
   "source": [
    "## 6. Cyclic Inheritance\n",
    "The concept of inheriting properties from one class to another class in cyclic way, is called Cyclic inheritance.Python won't support for Cyclic Inheritance of course it is really not required."
   ]
  },
  {
   "cell_type": "code",
   "execution_count": 14,
   "metadata": {},
   "outputs": [
    {
     "ename": "NameError",
     "evalue": "name 'A' is not defined",
     "output_type": "error",
     "traceback": [
      "\u001b[1;31m---------------------------------------------------------------------------\u001b[0m",
      "\u001b[1;31mNameError\u001b[0m                                 Traceback (most recent call last)",
      "\u001b[1;32m<ipython-input-14-f50245d041bc>\u001b[0m in \u001b[0;36m<module>\u001b[1;34m\u001b[0m\n\u001b[0;32m      1\u001b[0m \u001b[1;31m# example\u001b[0m\u001b[1;33m\u001b[0m\u001b[1;33m\u001b[0m\u001b[1;33m\u001b[0m\u001b[0m\n\u001b[1;32m----> 2\u001b[1;33m \u001b[1;32mclass\u001b[0m \u001b[0mA\u001b[0m\u001b[1;33m(\u001b[0m\u001b[0mA\u001b[0m\u001b[1;33m)\u001b[0m\u001b[1;33m:\u001b[0m \u001b[1;31m# python is not support cyclic inheritance\u001b[0m\u001b[1;33m\u001b[0m\u001b[1;33m\u001b[0m\u001b[0m\n\u001b[0m\u001b[0;32m      3\u001b[0m     \u001b[1;32mpass\u001b[0m\u001b[1;33m\u001b[0m\u001b[1;33m\u001b[0m\u001b[0m\n",
      "\u001b[1;31mNameError\u001b[0m: name 'A' is not defined"
     ]
    }
   ],
   "source": [
    "# example\n",
    "class A(A): # python is not support cyclic inheritance\n",
    "    pass"
   ]
  },
  {
   "cell_type": "code",
   "execution_count": 17,
   "metadata": {},
   "outputs": [
    {
     "ename": "NameError",
     "evalue": "name 'A' is not defined",
     "output_type": "error",
     "traceback": [
      "\u001b[1;31m---------------------------------------------------------------------------\u001b[0m",
      "\u001b[1;31mNameError\u001b[0m                                 Traceback (most recent call last)",
      "\u001b[1;32m<ipython-input-17-fdedd2c1c5dd>\u001b[0m in \u001b[0;36m<module>\u001b[1;34m\u001b[0m\n\u001b[1;32m----> 1\u001b[1;33m \u001b[1;32mclass\u001b[0m \u001b[0mB\u001b[0m\u001b[1;33m(\u001b[0m\u001b[0mA\u001b[0m\u001b[1;33m)\u001b[0m\u001b[1;33m:\u001b[0m\u001b[1;33m\u001b[0m\u001b[1;33m\u001b[0m\u001b[0m\n\u001b[0m\u001b[0;32m      2\u001b[0m     \u001b[1;32mpass\u001b[0m\u001b[1;33m\u001b[0m\u001b[1;33m\u001b[0m\u001b[0m\n\u001b[0;32m      3\u001b[0m \u001b[1;32mclass\u001b[0m \u001b[0mA\u001b[0m\u001b[1;33m(\u001b[0m\u001b[0mB\u001b[0m\u001b[1;33m)\u001b[0m\u001b[1;33m:\u001b[0m\u001b[1;33m\u001b[0m\u001b[1;33m\u001b[0m\u001b[0m\n\u001b[0;32m      4\u001b[0m     \u001b[1;32mpass\u001b[0m\u001b[1;33m\u001b[0m\u001b[1;33m\u001b[0m\u001b[0m\n",
      "\u001b[1;31mNameError\u001b[0m: name 'A' is not defined"
     ]
    }
   ],
   "source": [
    "class B(A):\n",
    "    pass\n",
    "class A(B):\n",
    "    pass"
   ]
  },
  {
   "cell_type": "code",
   "execution_count": null,
   "metadata": {},
   "outputs": [],
   "source": []
  }
 ],
 "metadata": {
  "kernelspec": {
   "display_name": "Python 3",
   "language": "python",
   "name": "python3"
  },
  "language_info": {
   "codemirror_mode": {
    "name": "ipython",
    "version": 3
   },
   "file_extension": ".py",
   "mimetype": "text/x-python",
   "name": "python",
   "nbconvert_exporter": "python",
   "pygments_lexer": "ipython3",
   "version": "3.7.4"
  }
 },
 "nbformat": 4,
 "nbformat_minor": 2
}
