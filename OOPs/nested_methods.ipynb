{
 "cells": [
  {
   "cell_type": "markdown",
   "metadata": {},
   "source": [
    "# Nested Methods"
   ]
  },
  {
   "cell_type": "markdown",
   "metadata": {},
   "source": [
    "method inside a method"
   ]
  },
  {
   "cell_type": "code",
   "execution_count": 3,
   "metadata": {},
   "outputs": [
    {
     "name": "stdout",
     "output_type": "stream",
     "text": [
      "The sum:  30\n",
      "The Difference:  -10\n",
      "The Product:  200\n",
      "The Average:  15.0\n",
      "\n",
      "The sum:  300\n",
      "The Difference:  -100\n",
      "The Product:  20000\n",
      "The Average:  150.0\n",
      "\n",
      "The sum:  3000\n",
      "The Difference:  -1000\n",
      "The Product:  2000000\n",
      "The Average:  1500.0\n",
      "\n"
     ]
    }
   ],
   "source": [
    "class Test:\n",
    "    def m1(self):\n",
    "        def calc(a,b):\n",
    "            print(\"The sum: \",a+b)\n",
    "            print(\"The Difference: \",a-b)\n",
    "            print(\"The Product: \",a*b)\n",
    "            print(\"The Average: \",(a+b)/2)\n",
    "            print()\n",
    "        calc(10,20)\n",
    "        calc(100,200)\n",
    "        calc(1000,2000)\n",
    "t=Test()\n",
    "t.m1()"
   ]
  },
  {
   "cell_type": "code",
   "execution_count": null,
   "metadata": {},
   "outputs": [],
   "source": []
  }
 ],
 "metadata": {
  "kernelspec": {
   "display_name": "Python 3",
   "language": "python",
   "name": "python3"
  },
  "language_info": {
   "codemirror_mode": {
    "name": "ipython",
    "version": 3
   },
   "file_extension": ".py",
   "mimetype": "text/x-python",
   "name": "python",
   "nbconvert_exporter": "python",
   "pygments_lexer": "ipython3",
   "version": "3.7.4"
  }
 },
 "nbformat": 4,
 "nbformat_minor": 2
}
