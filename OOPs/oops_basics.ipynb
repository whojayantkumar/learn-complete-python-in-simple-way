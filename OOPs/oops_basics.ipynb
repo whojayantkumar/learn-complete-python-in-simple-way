{
 "cells": [
  {
   "cell_type": "markdown",
   "metadata": {},
   "source": [
    "# Python's Object oriented Programming (OOPs)"
   ]
  },
  {
   "cell_type": "markdown",
   "metadata": {},
   "source": [
    "There important terms of OOPs.\n",
    "1. class\n",
    "2. Object\n",
    "3. Reference"
   ]
  },
  {
   "cell_type": "markdown",
   "metadata": {},
   "source": [
    "## How to define a class?"
   ]
  },
  {
   "cell_type": "code",
   "execution_count": 1,
   "metadata": {},
   "outputs": [],
   "source": [
    "class classname:\n",
    "    \"\"\"Documentation string\"\"\"\n",
    "    # variables => properties/ attributes\n",
    "    # methods => actions/ Behaviors"
   ]
  },
  {
   "cell_type": "markdown",
   "metadata": {},
   "source": [
    "### Inside a class three types of variables are allowed\n",
    "1. instance variable\n",
    "2. static variable\n",
    "3. local variable"
   ]
  },
  {
   "cell_type": "markdown",
   "metadata": {},
   "source": [
    "### Inside a class three types of methods are allowed\n",
    "1. Instance method\n",
    "2. class method\n",
    "3. Static Method"
   ]
  },
  {
   "cell_type": "code",
   "execution_count": 8,
   "metadata": {},
   "outputs": [],
   "source": [
    "# example\n",
    "class Student:\n",
    "    \"\"\"class developed by Rockkar for demo\"\"\"\n",
    "    def __init__(self,name,rollno,marks): # constractor \n",
    "        self.name=name\n",
    "        self.rollno=rollno\n",
    "        self.marks=marks\n",
    "    def talk(self):\n",
    "        print('Hello I am ',self.name)\n",
    "        print('My roll no is ',self.rollno)\n",
    "        print('My marks are ',self.marks)\n",
    "s1= Student('Sunny',101,90)# s is object of Student class\n",
    "s2= Student('Bunny',102, 95)"
   ]
  },
  {
   "cell_type": "code",
   "execution_count": 9,
   "metadata": {},
   "outputs": [
    {
     "name": "stdout",
     "output_type": "stream",
     "text": [
      "Hello I am  Sunny\n",
      "My roll no is  101\n",
      "My marks are  90\n"
     ]
    }
   ],
   "source": [
    "s1.talk()"
   ]
  },
  {
   "cell_type": "code",
   "execution_count": 10,
   "metadata": {},
   "outputs": [
    {
     "name": "stdout",
     "output_type": "stream",
     "text": [
      "Hello I am  Bunny\n",
      "My roll no is  102\n",
      "My marks are  95\n"
     ]
    }
   ],
   "source": [
    "s2.talk()"
   ]
  },
  {
   "cell_type": "markdown",
   "metadata": {},
   "source": [
    "## The complete Postmortem of self variable?\n",
    "self is a refrence variable this is always pointing to current object"
   ]
  },
  {
   "cell_type": "code",
   "execution_count": 12,
   "metadata": {},
   "outputs": [
    {
     "name": "stdout",
     "output_type": "stream",
     "text": [
      "Address of object pointed by self:  1398973777800\n",
      "Address of object pointed by t:  1398973777800\n"
     ]
    }
   ],
   "source": [
    "class Test:\n",
    "    def __init__(self):\n",
    "        print('Address of object pointed by self: ',id(self))\n",
    "t= Test() # if we use t within the class then a refrence variable required, this refrence variable is self\n",
    "print('Address of object pointed by t: ',id(t))"
   ]
  },
  {
   "cell_type": "markdown",
   "metadata": {},
   "source": [
    "## Constructor\n",
    "Constructor is a special method in python. ☕ The name of the constructor should be __init__(self) ☕ Constructor will be executed automatically at the time of object creation. ☕ The main purpose of constructor is to declare and initialize instance variables. ☕ Per object constructor will be exeucted only once. ☕ Constructor can take atleast one argument(atleast self) ☕ Constructor is optional and if we are not providing any constructor then python will provide default constructor."
   ]
  },
  {
   "cell_type": "code",
   "execution_count": 13,
   "metadata": {},
   "outputs": [
    {
     "name": "stdout",
     "output_type": "stream",
     "text": [
      "Python Constructor\n"
     ]
    }
   ],
   "source": [
    "class Test:\n",
    "    def __init__(self):\n",
    "        print('Python Constructor')\n",
    "t=Test()"
   ]
  },
  {
   "cell_type": "code",
   "execution_count": null,
   "metadata": {},
   "outputs": [],
   "source": []
  }
 ],
 "metadata": {
  "kernelspec": {
   "display_name": "Python 3",
   "language": "python",
   "name": "python3"
  },
  "language_info": {
   "codemirror_mode": {
    "name": "ipython",
    "version": 3
   },
   "file_extension": ".py",
   "mimetype": "text/x-python",
   "name": "python",
   "nbconvert_exporter": "python",
   "pygments_lexer": "ipython3",
   "version": "3.7.4"
  }
 },
 "nbformat": 4,
 "nbformat_minor": 2
}
