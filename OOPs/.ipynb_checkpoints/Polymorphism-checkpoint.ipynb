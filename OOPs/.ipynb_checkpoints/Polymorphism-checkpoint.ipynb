{
 "cells": [
  {
   "cell_type": "markdown",
   "metadata": {},
   "source": [
    "# Polymorphism\n",
    "- poly means many. Morphs means forms. \n",
    "- Polymorphism means 'Many Forms'."
   ]
  },
  {
   "cell_type": "markdown",
   "metadata": {},
   "source": [
    "Related to Polymorphism the following 4 topics are important\n",
    "- Duck Typing Philosophy of Python\n",
    "- Overloading 1) Operator Overloading 2) Method Overloading 3) Constructor Overloading\n",
    "- Overriding 1) Method Overriding 2) Constructor Overriding"
   ]
  },
  {
   "cell_type": "markdown",
   "metadata": {},
   "source": [
    "## 1. Operator Overloading: \n",
    "- We can use the same operator for multiple purposes, which is nothing but operator overloading.\n",
    "- Python supports operator overloading.\n",
    "Eg 1: + operator can be used for Arithmetic addition and String concatenation print(10+20)#30 print('durga'+'soft')#durgasoft"
   ]
  },
  {
   "cell_type": "code",
   "execution_count": 4,
   "metadata": {},
   "outputs": [
    {
     "ename": "TypeError",
     "evalue": "unsupported operand type(s) for +: 'Book' and 'Book'",
     "output_type": "error",
     "traceback": [
      "\u001b[1;31m---------------------------------------------------------------------------\u001b[0m",
      "\u001b[1;31mTypeError\u001b[0m                                 Traceback (most recent call last)",
      "\u001b[1;32m<ipython-input-4-88298676e411>\u001b[0m in \u001b[0;36m<module>\u001b[1;34m\u001b[0m\n\u001b[0;32m      5\u001b[0m \u001b[0mb1\u001b[0m\u001b[1;33m=\u001b[0m\u001b[0mBook\u001b[0m\u001b[1;33m(\u001b[0m\u001b[1;36m100\u001b[0m\u001b[1;33m)\u001b[0m\u001b[1;33m\u001b[0m\u001b[1;33m\u001b[0m\u001b[0m\n\u001b[0;32m      6\u001b[0m \u001b[0mb2\u001b[0m\u001b[1;33m=\u001b[0m\u001b[0mBook\u001b[0m\u001b[1;33m(\u001b[0m\u001b[1;36m200\u001b[0m\u001b[1;33m)\u001b[0m\u001b[1;33m\u001b[0m\u001b[1;33m\u001b[0m\u001b[0m\n\u001b[1;32m----> 7\u001b[1;33m \u001b[0mprint\u001b[0m\u001b[1;33m(\u001b[0m\u001b[0mb1\u001b[0m\u001b[1;33m+\u001b[0m\u001b[0mb2\u001b[0m\u001b[1;33m)\u001b[0m\u001b[1;33m\u001b[0m\u001b[1;33m\u001b[0m\u001b[0m\n\u001b[0m",
      "\u001b[1;31mTypeError\u001b[0m: unsupported operand type(s) for +: 'Book' and 'Book'"
     ]
    }
   ],
   "source": [
    "# Demo program to use + operator for our class objects:\n",
    "class Book:\n",
    "    def __init__(self,pages):\n",
    "        self.pages=pages\n",
    "b1=Book(100)\n",
    "b2=Book(200)\n",
    "print(b1+b2)"
   ]
  },
  {
   "cell_type": "markdown",
   "metadata": {},
   "source": [
    "- We can overload + operator to work with Book objects also. i.e Python supports Operator Overloading. \n",
    "- For every operator Magic Methods are available. To overload any operator we have to override that Method in our class. \n",
    "- Internally + operator is implemented by using __add__() method.This method is called magic method for + operator. We have to override this method in our class."
   ]
  },
  {
   "cell_type": "code",
   "execution_count": 7,
   "metadata": {},
   "outputs": [
    {
     "name": "stdout",
     "output_type": "stream",
     "text": [
      "400\n",
      "800\n",
      "600\n"
     ]
    }
   ],
   "source": [
    "# Demo Program to Overload + Operator for Our Book Class Objects:\n",
    "class Book:\n",
    "    def __init__(self,pages):\n",
    "        self.pages=pages\n",
    "    def __add__(self,other):\n",
    "        return self.pages+other.pages\n",
    "b1=Book(100)\n",
    "b2=Book(300)\n",
    "print(b1+b2)\n",
    "b3=Book(500)\n",
    "print(b2+b3)\n",
    "print(b1+b3)"
   ]
  },
  {
   "cell_type": "markdown",
   "metadata": {},
   "source": [
    "### Operator and Corresponding Magic Methods:"
   ]
  },
  {
   "cell_type": "code",
   "execution_count": 9,
   "metadata": {},
   "outputs": [
    {
     "data": {
      "text/plain": [
       "'\\n1. +    =>  __add__()\\n2. -    =>  __sub__()\\n3. *    =>  __mul__()\\n4. /    =>   __div__()\\n5. //   =>  __floordiv__()\\n6. %   =>  __mod__()\\n7. **  =>  __pow__()\\n8. +=   =>  __iadd__()\\n9. -=   =>  __isub__()\\n10. *=   =>  __imul__()\\n11. /=   =>  __idiv__()\\n12. //=   =>  __ifloordiv__()\\n13. %=   =>  __imod__()\\n14. **=   =>  __ipow__()\\n15. >   =>  __gt__()\\n16. <   =>  __lt__()\\n17. >=   =>  __ge__()\\n18. <=   =>  __le__()\\n19. ==   =>  __eq__()\\n20. !=   =>  __ne__()\\n\\n'"
      ]
     },
     "execution_count": 9,
     "metadata": {},
     "output_type": "execute_result"
    }
   ],
   "source": [
    "\"\"\"\n",
    "1. +    =>  __add__()\n",
    "2. -    =>  __sub__()\n",
    "3. *    =>  __mul__()\n",
    "4. /    =>   __div__()\n",
    "5. //   =>  __floordiv__()\n",
    "6. %   =>  __mod__()\n",
    "7. **  =>  __pow__()\n",
    "8. +=   =>  __iadd__()\n",
    "9. -=   =>  __isub__()\n",
    "10. *=   =>  __imul__()\n",
    "11. /=   =>  __idiv__()\n",
    "12. //=   =>  __ifloordiv__()\n",
    "13. %=   =>  __imod__()\n",
    "14. **=   =>  __ipow__()\n",
    "15. >   =>  __gt__()\n",
    "16. <   =>  __lt__()\n",
    "17. >=   =>  __ge__()\n",
    "18. <=   =>  __le__()\n",
    "19. ==   =>  __eq__()\n",
    "20. !=   =>  __ne__()\n",
    "\n",
    "\"\"\""
   ]
  },
  {
   "cell_type": "markdown",
   "metadata": {},
   "source": [
    "### Q. Overloading of > and <= operators for student class objects"
   ]
  },
  {
   "cell_type": "code",
   "execution_count": 19,
   "metadata": {},
   "outputs": [
    {
     "name": "stdout",
     "output_type": "stream",
     "text": [
      "False\n",
      "True\n"
     ]
    }
   ],
   "source": [
    "class Student:\n",
    "    def __init__(self,name,marks):\n",
    "        self.name=name\n",
    "        self.marks=marks\n",
    "    def __gt__(self,other):\n",
    "        return self.marks > other.marks\n",
    "s1=Student(\"Durga\",100)\n",
    "s2=Student(\"Ravi\",200)\n",
    "print(s1>s2)\n",
    "print(s1<s2)"
   ]
  },
  {
   "cell_type": "code",
   "execution_count": 26,
   "metadata": {},
   "outputs": [
    {
     "name": "stdout",
     "output_type": "stream",
     "text": [
      "True\n",
      "False\n"
     ]
    }
   ],
   "source": [
    "class Student:\n",
    "    def __init__(self,name,marks):\n",
    "        self.name=name\n",
    "        self.marks=marks\n",
    "    def __gt__(self,other):\n",
    "        return self.marks > other.marks\n",
    "    def __le__(self,other):\n",
    "        return self.marks <= other.marks\n",
    "s1=Student(\"Durga\",100)\n",
    "s2=Student(\"Ravi\",200)\n",
    "print(s1<=s2)\n",
    "print(s1>=s2)"
   ]
  },
  {
   "cell_type": "code",
   "execution_count": 28,
   "metadata": {},
   "outputs": [
    {
     "name": "stdout",
     "output_type": "stream",
     "text": [
      "False\n",
      "True\n"
     ]
    }
   ],
   "source": [
    "print(s1>s2)\n",
    "print(s1<s2)"
   ]
  },
  {
   "cell_type": "markdown",
   "metadata": {},
   "source": [
    "### Q. Program to overload multiplication operator to work on Employee objects."
   ]
  },
  {
   "cell_type": "code",
   "execution_count": 44,
   "metadata": {},
   "outputs": [
    {
     "name": "stdout",
     "output_type": "stream",
     "text": [
      "This Month Salary:  50000\n"
     ]
    }
   ],
   "source": [
    "class Employee:\n",
    "    def __init__(self,name,salPerDay):\n",
    "        self.name=name\n",
    "        self.salPerDay=salPerDay\n",
    "    def __mul__(self,other):\n",
    "        return self.salPerDay * other.workingDays\n",
    "class TimeSheet:\n",
    "    def __init__(self,name,workingDays):\n",
    "        self.name=name\n",
    "        self.workingDays=workingDays\n",
    "    def __mul__(self,other):\n",
    "        return self.workingDays*other.salPerDay\n",
    "e=Employee('Durga',2000)\n",
    "t=TimeSheet('Durga',25)\n",
    "print(\"This Month Salary: \", e*t)"
   ]
  },
  {
   "cell_type": "code",
   "execution_count": 45,
   "metadata": {},
   "outputs": [
    {
     "name": "stdout",
     "output_type": "stream",
     "text": [
      "50000\n"
     ]
    }
   ],
   "source": [
    "print(t*e)"
   ]
  },
  {
   "cell_type": "markdown",
   "metadata": {},
   "source": [
    "### Importance of __str__() method:\n",
    "- Whenever we are trying to print any object refrence, internally __str__() method will be called.\n",
    "- The default implementation of this method return the string in the following format:\n",
    "   <__main__.Classname object at 0x000000000280D748>\n",
    "- To provide meaningful string representation for our object, we have to override __str__() method in our class.\n"
   ]
  },
  {
   "cell_type": "code",
   "execution_count": 47,
   "metadata": {},
   "outputs": [
    {
     "name": "stdout",
     "output_type": "stream",
     "text": [
      "Name: Durga\n",
      "Rollno: 101\n",
      "Marks: 100\n"
     ]
    }
   ],
   "source": [
    "# Example\n",
    "class Student:\n",
    "    def __init__(self,name,rollno,marks):\n",
    "        self.name=name\n",
    "        self.rollno=rollno\n",
    "        self.marks=marks\n",
    "    def __str__(self):\n",
    "        return 'Name: {}\\nRollno: {}\\nMarks: {}'.format(self.name,self.rollno,self.marks)\n",
    "s1=Student(\"Durga\",101,100)\n",
    "s2=Student(\"Ravi\",102,98)\n",
    "print(s1)"
   ]
  },
  {
   "cell_type": "code",
   "execution_count": 48,
   "metadata": {},
   "outputs": [
    {
     "name": "stdout",
     "output_type": "stream",
     "text": [
      "Name: Ravi\n",
      "Rollno: 102\n",
      "Marks: 98\n"
     ]
    }
   ],
   "source": [
    "print(s2)"
   ]
  },
  {
   "cell_type": "markdown",
   "metadata": {},
   "source": [
    "### Overloading of + operator for Nesting Requirements:"
   ]
  },
  {
   "cell_type": "code",
   "execution_count": 80,
   "metadata": {},
   "outputs": [
    {
     "name": "stdout",
     "output_type": "stream",
     "text": [
      "Total Number of pages= 800\n"
     ]
    }
   ],
   "source": [
    "# Example\n",
    "class Book:\n",
    "    def __init__(self,pages):\n",
    "        self.pages=pages\n",
    "    def __add__(self,other):\n",
    "        return Book(self.pages+other.pages)\n",
    "    def __str__(self):\n",
    "        return \"Total Number of pages= {}\".format(self.pages)\n",
    "    def __mul__(self,other):\n",
    "        return Book(self.pages*other.pages)\n",
    "    def __sub__(self,other):\n",
    "        return Book(self.pages-other.pages)\n",
    "b1=Book(100)\n",
    "b2=Book(200)\n",
    "b3=Book(500)\n",
    "print(b1+b2+b3)"
   ]
  },
  {
   "cell_type": "code",
   "execution_count": 74,
   "metadata": {},
   "outputs": [
    {
     "name": "stdout",
     "output_type": "stream",
     "text": [
      "Total Number of pages= 2500\n"
     ]
    }
   ],
   "source": [
    "b4=Book(1000)\n",
    "b5=Book(300)\n",
    "b6=Book(400)\n",
    "print(b1+b2+b3+b4+b5+b6)"
   ]
  },
  {
   "cell_type": "code",
   "execution_count": 81,
   "metadata": {},
   "outputs": [
    {
     "name": "stdout",
     "output_type": "stream",
     "text": [
      "Total Number of pages= 40000\n"
     ]
    }
   ],
   "source": [
    "print(b1*b6)"
   ]
  },
  {
   "cell_type": "code",
   "execution_count": 82,
   "metadata": {},
   "outputs": [
    {
     "name": "stdout",
     "output_type": "stream",
     "text": [
      "Total Number of pages= 101100\n"
     ]
    }
   ],
   "source": [
    "print(b1+b2*b3+b4)"
   ]
  },
  {
   "cell_type": "code",
   "execution_count": 83,
   "metadata": {},
   "outputs": [
    {
     "name": "stdout",
     "output_type": "stream",
     "text": [
      "Total Number of pages= 109600\n"
     ]
    }
   ],
   "source": [
    "print(b3*b1-b6+b2*b5)"
   ]
  },
  {
   "cell_type": "markdown",
   "metadata": {},
   "source": [
    "## Method Overloading:\n",
    "- If 2 methods having same name but different type of arguments then those methods are said to be overloaded methods. \n",
    "Eg: m1(int a) m1(double d)\n",
    "- But in Python Method overloading is not possible. \n",
    "- If we are trying to declare multiple methods with same name and different number of arguments then Python will always consider only last method."
   ]
  },
  {
   "cell_type": "code",
   "execution_count": 3,
   "metadata": {},
   "outputs": [
    {
     "ename": "TypeError",
     "evalue": "m1() missing 1 required positional argument: 'age'",
     "output_type": "error",
     "traceback": [
      "\u001b[1;31m---------------------------------------------------------------------------\u001b[0m",
      "\u001b[1;31mTypeError\u001b[0m                                 Traceback (most recent call last)",
      "\u001b[1;32m<ipython-input-3-c1f0defe63fb>\u001b[0m in \u001b[0;36m<module>\u001b[1;34m\u001b[0m\n\u001b[0;32m      6\u001b[0m         \u001b[0mprint\u001b[0m\u001b[1;33m(\u001b[0m\u001b[1;34m\"Two argument method\"\u001b[0m\u001b[1;33m)\u001b[0m\u001b[1;33m\u001b[0m\u001b[1;33m\u001b[0m\u001b[0m\n\u001b[0;32m      7\u001b[0m \u001b[0mc\u001b[0m\u001b[1;33m=\u001b[0m\u001b[0mTest\u001b[0m\u001b[1;33m(\u001b[0m\u001b[1;33m)\u001b[0m\u001b[1;33m\u001b[0m\u001b[1;33m\u001b[0m\u001b[0m\n\u001b[1;32m----> 8\u001b[1;33m \u001b[0mc\u001b[0m\u001b[1;33m.\u001b[0m\u001b[0mm1\u001b[0m\u001b[1;33m(\u001b[0m\u001b[1;34m'Durga'\u001b[0m\u001b[1;33m)\u001b[0m\u001b[1;33m\u001b[0m\u001b[1;33m\u001b[0m\u001b[0m\n\u001b[0m",
      "\u001b[1;31mTypeError\u001b[0m: m1() missing 1 required positional argument: 'age'"
     ]
    }
   ],
   "source": [
    "# demo\n",
    "class Test:\n",
    "    def m1(self,name):\n",
    "        print(\"One argument Method\")\n",
    "    def m1(self,name,age):\n",
    "        print(\"Two argument method\")\n",
    "c=Test()\n",
    "c.m1('Durga')"
   ]
  },
  {
   "cell_type": "code",
   "execution_count": 4,
   "metadata": {},
   "outputs": [
    {
     "name": "stdout",
     "output_type": "stream",
     "text": [
      "Two argument method\n"
     ]
    }
   ],
   "source": [
    "c.m1(\"Durga\",48)"
   ]
  },
  {
   "cell_type": "markdown",
   "metadata": {},
   "source": [
    "### How we can handle Overloaded Method Requirements in Python:\n",
    "Most of the times, if method with variable number of arguments required then we can handle with default arguments or with variable number of argument methods."
   ]
  },
  {
   "cell_type": "code",
   "execution_count": 8,
   "metadata": {},
   "outputs": [
    {
     "name": "stdout",
     "output_type": "stream",
     "text": [
      "no Argument Method\n",
      "One Argument Method\n",
      "Two Argument Method\n",
      "Three Argument Method\n"
     ]
    }
   ],
   "source": [
    "# demo program with default arguments\n",
    "class Test:\n",
    "    def m1(self,a=None,b=None,c=None):\n",
    "        if a is not None and b is not None and c is not None:\n",
    "            print(\"Three Argument Method\")\n",
    "        elif a is not None and b is not None:\n",
    "            print(\"Two Argument Method\")\n",
    "        elif a is not None:\n",
    "            print(\"One Argument Method\")\n",
    "        else:\n",
    "            print(\"no Argument Method\")\n",
    "t=Test()\n",
    "t.m1()\n",
    "t.m1(10)\n",
    "t.m1(10,20)\n",
    "t.m1(10,20,30)"
   ]
  },
  {
   "cell_type": "code",
   "execution_count": 12,
   "metadata": {},
   "outputs": [
    {
     "name": "stdout",
     "output_type": "stream",
     "text": [
      "Variable length argument method\n",
      "Variable length argument method\n",
      "Variable length argument method\n",
      "Variable length argument method\n",
      "Variable length argument method\n"
     ]
    }
   ],
   "source": [
    "# demo program with variable length arguments\n",
    "class Test:\n",
    "    def m1(self,*args):\n",
    "        print(\"Variable length argument method\")\n",
    "t=Test()\n",
    "t.m1()\n",
    "t.m1(10)\n",
    "t.m1(10,20)\n",
    "t.m1(10,20,30,40)\n",
    "t.m1(10,20,30,40,50,60,70)"
   ]
  },
  {
   "cell_type": "code",
   "execution_count": 16,
   "metadata": {},
   "outputs": [
    {
     "name": "stdout",
     "output_type": "stream",
     "text": [
      "30\n",
      "60\n",
      "280\n"
     ]
    }
   ],
   "source": [
    "class Test:\n",
    "    def sum(self, *args):\n",
    "        total=0\n",
    "        for x in args:\n",
    "            total=total+x\n",
    "        return total\n",
    "t=Test()\n",
    "print(t.sum(10,20))\n",
    "print(t.sum(10,20,30))\n",
    "print(t.sum(10,20,30,40,50,60,70))"
   ]
  },
  {
   "cell_type": "markdown",
   "metadata": {},
   "source": [
    "## Constructor Overloading\n",
    "- Constructor overloading is not possible in Python. \n",
    "- If we define multiple constructors then the last constructor will be considered."
   ]
  },
  {
   "cell_type": "code",
   "execution_count": 18,
   "metadata": {},
   "outputs": [
    {
     "ename": "TypeError",
     "evalue": "__init__() missing 3 required positional arguments: 'a', 'b', and 'c'",
     "output_type": "error",
     "traceback": [
      "\u001b[1;31m---------------------------------------------------------------------------\u001b[0m",
      "\u001b[1;31mTypeError\u001b[0m                                 Traceback (most recent call last)",
      "\u001b[1;32m<ipython-input-18-55ec07a3a862>\u001b[0m in \u001b[0;36m<module>\u001b[1;34m\u001b[0m\n\u001b[0;32m      9\u001b[0m     \u001b[1;32mdef\u001b[0m \u001b[0m__init__\u001b[0m\u001b[1;33m(\u001b[0m\u001b[0mself\u001b[0m\u001b[1;33m,\u001b[0m\u001b[0ma\u001b[0m\u001b[1;33m,\u001b[0m\u001b[0mb\u001b[0m\u001b[1;33m,\u001b[0m\u001b[0mc\u001b[0m\u001b[1;33m)\u001b[0m\u001b[1;33m:\u001b[0m\u001b[1;33m\u001b[0m\u001b[1;33m\u001b[0m\u001b[0m\n\u001b[0;32m     10\u001b[0m         \u001b[0mprint\u001b[0m\u001b[1;33m(\u001b[0m\u001b[1;34m\"three-arg constructor\"\u001b[0m\u001b[1;33m)\u001b[0m\u001b[1;33m\u001b[0m\u001b[1;33m\u001b[0m\u001b[0m\n\u001b[1;32m---> 11\u001b[1;33m \u001b[0mt\u001b[0m\u001b[1;33m=\u001b[0m\u001b[0mTest\u001b[0m\u001b[1;33m(\u001b[0m\u001b[1;33m)\u001b[0m\u001b[1;33m\u001b[0m\u001b[1;33m\u001b[0m\u001b[0m\n\u001b[0m",
      "\u001b[1;31mTypeError\u001b[0m: __init__() missing 3 required positional arguments: 'a', 'b', and 'c'"
     ]
    }
   ],
   "source": [
    "# example\n",
    "class Test:\n",
    "    def __init__(self):\n",
    "        print(\"no-arg constructor\")\n",
    "    def __init__(self,a):\n",
    "        print(\"one-arg constructor\")\n",
    "    def __init__(self,a,b):\n",
    "        print(\"two-arg constructor\")\n",
    "    def __init__(self,a,b,c):\n",
    "        print(\"three-arg constructor\")\n",
    "t=Test()"
   ]
  },
  {
   "cell_type": "code",
   "execution_count": 19,
   "metadata": {},
   "outputs": [
    {
     "ename": "TypeError",
     "evalue": "__init__() missing 2 required positional arguments: 'b' and 'c'",
     "output_type": "error",
     "traceback": [
      "\u001b[1;31m---------------------------------------------------------------------------\u001b[0m",
      "\u001b[1;31mTypeError\u001b[0m                                 Traceback (most recent call last)",
      "\u001b[1;32m<ipython-input-19-04ee2f6a48a7>\u001b[0m in \u001b[0;36m<module>\u001b[1;34m\u001b[0m\n\u001b[1;32m----> 1\u001b[1;33m \u001b[0mt1\u001b[0m\u001b[1;33m=\u001b[0m\u001b[0mTest\u001b[0m\u001b[1;33m(\u001b[0m\u001b[1;36m10\u001b[0m\u001b[1;33m)\u001b[0m\u001b[1;33m\u001b[0m\u001b[1;33m\u001b[0m\u001b[0m\n\u001b[0m",
      "\u001b[1;31mTypeError\u001b[0m: __init__() missing 2 required positional arguments: 'b' and 'c'"
     ]
    }
   ],
   "source": [
    "t1=Test(10)"
   ]
  },
  {
   "cell_type": "code",
   "execution_count": 20,
   "metadata": {},
   "outputs": [
    {
     "ename": "TypeError",
     "evalue": "__init__() missing 1 required positional argument: 'c'",
     "output_type": "error",
     "traceback": [
      "\u001b[1;31m---------------------------------------------------------------------------\u001b[0m",
      "\u001b[1;31mTypeError\u001b[0m                                 Traceback (most recent call last)",
      "\u001b[1;32m<ipython-input-20-a6a6f12f8d51>\u001b[0m in \u001b[0;36m<module>\u001b[1;34m\u001b[0m\n\u001b[1;32m----> 1\u001b[1;33m \u001b[0mt2\u001b[0m\u001b[1;33m=\u001b[0m\u001b[0mTest\u001b[0m\u001b[1;33m(\u001b[0m\u001b[1;36m10\u001b[0m\u001b[1;33m,\u001b[0m\u001b[1;36m20\u001b[0m\u001b[1;33m)\u001b[0m\u001b[1;33m\u001b[0m\u001b[1;33m\u001b[0m\u001b[0m\n\u001b[0m",
      "\u001b[1;31mTypeError\u001b[0m: __init__() missing 1 required positional argument: 'c'"
     ]
    }
   ],
   "source": [
    "t2=Test(10,20)"
   ]
  },
  {
   "cell_type": "code",
   "execution_count": 21,
   "metadata": {},
   "outputs": [
    {
     "name": "stdout",
     "output_type": "stream",
     "text": [
      "three-arg constructor\n"
     ]
    }
   ],
   "source": [
    "t3=Test(10,20,30)"
   ]
  },
  {
   "cell_type": "markdown",
   "metadata": {},
   "source": [
    "### How to define a constructor with variable number of arguments"
   ]
  },
  {
   "cell_type": "code",
   "execution_count": 25,
   "metadata": {},
   "outputs": [
    {
     "name": "stdout",
     "output_type": "stream",
     "text": [
      "Constructor with 0|1|2|3 number of arguments\n",
      "Constructor with 0|1|2|3 number of arguments\n",
      "Constructor with 0|1|2|3 number of arguments\n",
      "Constructor with 0|1|2|3 number of arguments\n"
     ]
    }
   ],
   "source": [
    "# constructor with default arguments\n",
    "class Test:\n",
    "    def __init__(self,a=None,b=None,c=None):\n",
    "        print(\"Constructor with 0|1|2|3 number of arguments\")\n",
    "t=Test()\n",
    "t=Test(10)\n",
    "t=Test(10,20)\n",
    "t=Test(10,20,30)"
   ]
  },
  {
   "cell_type": "code",
   "execution_count": 28,
   "metadata": {},
   "outputs": [
    {
     "name": "stdout",
     "output_type": "stream",
     "text": [
      "constructor with variable length arguments\n",
      "constructor with variable length arguments\n",
      "constructor with variable length arguments\n",
      "constructor with variable length arguments\n",
      "constructor with variable length arguments\n"
     ]
    }
   ],
   "source": [
    "# constructor with variable length of arguments\n",
    "class Test:\n",
    "    def __init__(self,*args):\n",
    "        print(\"constructor with variable length arguments\")\n",
    "t=Test()\n",
    "t=Test(10)\n",
    "t=Test(10,20)\n",
    "t=Test(10,20,30)\n",
    "t=Test(10,20,30,40,50,60,70,80,90)"
   ]
  },
  {
   "cell_type": "markdown",
   "metadata": {},
   "source": [
    "# Overriding:-\n",
    "## 1. Method Overriding :\n",
    "- What ever members available in the parent class are bydefault available to the child class through inheritance. If the child class not satisfied with parent class implementation then child class is allowed to redefine that method in the child class based on its requirement. This concept is called overriding. \n",
    "- Overriding concept applicable for both methods and constructors."
   ]
  },
  {
   "cell_type": "code",
   "execution_count": 33,
   "metadata": {},
   "outputs": [
    {
     "name": "stdout",
     "output_type": "stream",
     "text": [
      "Land + GOld + cash + power\n",
      "Priya\n"
     ]
    }
   ],
   "source": [
    "class Person:\n",
    "    def property(self):\n",
    "        print(\"Land + GOld + cash + power\")\n",
    "    def merry(self):     # overridden method\n",
    "        print(\"Applamma\")\n",
    "class Child(Person):\n",
    "    def merry(self):    # method overriding\n",
    "        print(\"Priya\")\n",
    "c=Child()\n",
    "c.property()\n",
    "c.merry()"
   ]
  },
  {
   "cell_type": "markdown",
   "metadata": {},
   "source": [
    "- From Overriding method of child class,we can call parent class method also by using super() method."
   ]
  },
  {
   "cell_type": "code",
   "execution_count": 34,
   "metadata": {},
   "outputs": [
    {
     "name": "stdout",
     "output_type": "stream",
     "text": [
      "Land + GOld + cash + power\n",
      "Applamma\n",
      "Priya\n"
     ]
    }
   ],
   "source": [
    "class Person:\n",
    "    def property(self):\n",
    "        print(\"Land + GOld + cash + power\")\n",
    "    def merry(self):     # overridden method\n",
    "        print(\"Applamma\")\n",
    "class Child(Person):\n",
    "    def merry(self):    # method overriding\n",
    "        super().merry()\n",
    "        print(\"Priya\")\n",
    "c=Child()\n",
    "c.property()\n",
    "c.merry()"
   ]
  },
  {
   "cell_type": "markdown",
   "metadata": {},
   "source": [
    "## 2. Constructor Overriding\n",
    "Demo Program for Constructor Overriding:"
   ]
  },
  {
   "cell_type": "code",
   "execution_count": 7,
   "metadata": {},
   "outputs": [
    {
     "name": "stdout",
     "output_type": "stream",
     "text": [
      "Child class Constructor\n"
     ]
    }
   ],
   "source": [
    "class Parent:\n",
    "    def __init__(self):                       # overridden constructor\n",
    "        print(\"Parent class Constructor\")\n",
    "class Child:\n",
    "    def __init__(self):                       # overriding constructor\n",
    "        print(\"Child class Constructor\")\n",
    "c=Child()"
   ]
  },
  {
   "cell_type": "markdown",
   "metadata": {},
   "source": [
    "- Demo Program to call Parent Class Constructor by using super():"
   ]
  },
  {
   "cell_type": "code",
   "execution_count": 5,
   "metadata": {},
   "outputs": [],
   "source": [
    "class Parent:\n",
    "    def __init__(self):                       # overridden constructor\n",
    "        print(\"Parent class Constructor\")\n",
    "class Child:\n",
    "    def __init__(self):  # overriding constructor\n",
    "        super().__init__()\n",
    "c=Child()"
   ]
  },
  {
   "cell_type": "code",
   "execution_count": null,
   "metadata": {},
   "outputs": [],
   "source": []
  }
 ],
 "metadata": {
  "kernelspec": {
   "display_name": "Python 3",
   "language": "python",
   "name": "python3"
  },
  "language_info": {
   "codemirror_mode": {
    "name": "ipython",
    "version": 3
   },
   "file_extension": ".py",
   "mimetype": "text/x-python",
   "name": "python",
   "nbconvert_exporter": "python",
   "pygments_lexer": "ipython3",
   "version": "3.7.4"
  }
 },
 "nbformat": 4,
 "nbformat_minor": 2
}
