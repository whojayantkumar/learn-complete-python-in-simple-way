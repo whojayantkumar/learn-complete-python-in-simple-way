{
 "cells": [
  {
   "cell_type": "markdown",
   "metadata": {},
   "source": [
    "## Mini application to explain OOPs"
   ]
  },
  {
   "cell_type": "code",
   "execution_count": 3,
   "metadata": {},
   "outputs": [
    {
     "name": "stdout",
     "output_type": "stream",
     "text": [
      "\n",
      "Enter Movie Name: Bhahubali\n",
      "Enter Hero Name: Prabhas\n",
      "Enter Heroine Name: Tamana\n",
      "Movie added successfully ...\n",
      "Do you want to add another movie ?[Yes/No] :yes\n",
      "\n",
      "Enter Movie Name: Saho\n",
      "Enter Hero Name: Prabhas\n",
      "Enter Heroine Name: Shradha\n",
      "Movie added successfully ...\n",
      "Do you want to add another movie ?[Yes/No] :yes\n",
      "\n",
      "Enter Movie Name: Sultan\n",
      "Enter Hero Name: Salman\n",
      "Enter Heroine Name: Anushka\n",
      "Movie added successfully ...\n",
      "Do you want to add another movie ?[Yes/No] :yes\n",
      "\n",
      "Enter Movie Name: Dangal\n",
      "Enter Hero Name: Amir khan\n",
      "Enter Heroine Name: Jaira\n",
      "Movie added successfully ...\n",
      "Do you want to add another movie ?[Yes/No] :yes\n",
      "\n",
      "Enter Movie Name: Ramyan\n",
      "Enter Hero Name: Ram\n",
      "Enter Heroine Name: Seeta\n",
      "Movie added successfully ...\n",
      "Do you want to add another movie ?[Yes/No] :yes\n",
      "\n",
      "Enter Movie Name: Partner\n",
      "Enter Hero Name: Govinda\n",
      "Enter Heroine Name: Katrina kaif\n",
      "Movie added successfully ...\n",
      "Do you want to add another movie ?[Yes/No] :no\n",
      "\n",
      "Do you want to display all movies information ?[Yes/No] :yes\n",
      "\n",
      "Movie Name:  Bhahubali\n",
      "Movie Hero:  Prabhas\n",
      "Movie Heroine:  Tamana\n",
      "\n",
      "Movie Name:  Saho\n",
      "Movie Hero:  Prabhas\n",
      "Movie Heroine:  Shradha\n",
      "\n",
      "Movie Name:  Sultan\n",
      "Movie Hero:  Salman\n",
      "Movie Heroine:  Anushka\n",
      "\n",
      "Movie Name:  Dangal\n",
      "Movie Hero:  Amir khan\n",
      "Movie Heroine:  Jaira\n",
      "\n",
      "Movie Name:  Ramyan\n",
      "Movie Hero:  Ram\n",
      "Movie Heroine:  Seeta\n",
      "\n",
      "Movie Name:  Partner\n",
      "Movie Hero:  Govinda\n",
      "Movie Heroine:  Katrina kaif\n"
     ]
    }
   ],
   "source": [
    "class Movie:\n",
    "    def __init__(self,title,hero,heroine):\n",
    "        self.title=title\n",
    "        self.hero=hero\n",
    "        self.heroine=heroine\n",
    "    def movie_info(self):\n",
    "        print(\"Movie Name: \",self.title)\n",
    "        print(\"Movie Hero: \",self.hero)\n",
    "        print(\"Movie Heroine: \",self.heroine)\n",
    "list_of_movies =[]\n",
    "while True:\n",
    "    print()\n",
    "    title=input(\"Enter Movie Name: \")\n",
    "    hero=input(\"Enter Hero Name: \")\n",
    "    heroine=input(\"Enter Heroine Name: \")\n",
    "    m=Movie(title,hero,heroine)\n",
    "    list_of_movies.append(m)\n",
    "    print(\"Movie added successfully ...\")\n",
    "    option=input(\"Do you want to add another movie ?[Yes/No] :\")\n",
    "    if option.lower() == 'no':\n",
    "        break\n",
    "print()\n",
    "option=input(\"Do you want to display all movies information ?[Yes/No] :\")\n",
    "if option.lower() == 'yes':\n",
    "    for movie in list_of_movies:\n",
    "        print()\n",
    "        movie.movie_info()\n",
    "else:\n",
    "    print('Thank you !!!')"
   ]
  },
  {
   "cell_type": "code",
   "execution_count": null,
   "metadata": {},
   "outputs": [],
   "source": []
  }
 ],
 "metadata": {
  "kernelspec": {
   "display_name": "Python 3",
   "language": "python",
   "name": "python3"
  },
  "language_info": {
   "codemirror_mode": {
    "name": "ipython",
    "version": 3
   },
   "file_extension": ".py",
   "mimetype": "text/x-python",
   "name": "python",
   "nbconvert_exporter": "python",
   "pygments_lexer": "ipython3",
   "version": "3.7.4"
  }
 },
 "nbformat": 4,
 "nbformat_minor": 2
}
