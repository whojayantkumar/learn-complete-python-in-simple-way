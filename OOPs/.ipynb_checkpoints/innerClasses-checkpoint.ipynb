{
 "cells": [
  {
   "cell_type": "markdown",
   "metadata": {},
   "source": [
    "# Inner Classes"
   ]
  },
  {
   "cell_type": "markdown",
   "metadata": {},
   "source": [
    "- Sometimes we can declare a class inside another class, such type of classes are called inner classes.\n",
    "- Without existing one type of object if there is no chance of existing another type of object, then we should go for inner classes."
   ]
  },
  {
   "cell_type": "code",
   "execution_count": 1,
   "metadata": {},
   "outputs": [],
   "source": [
    "# example 1\n",
    "\n",
    "class University:      # outer class\n",
    "    class Department:  # inner class\n",
    "        pass"
   ]
  },
  {
   "cell_type": "code",
   "execution_count": 2,
   "metadata": {},
   "outputs": [],
   "source": [
    "# example 2\n",
    "\n",
    "class Car:\n",
    "    class Engine:\n",
    "        pass\n"
   ]
  },
  {
   "cell_type": "code",
   "execution_count": 4,
   "metadata": {},
   "outputs": [],
   "source": [
    "# example 3\n",
    "class Head:\n",
    "        class Brain:\n",
    "            pass\n"
   ]
  },
  {
   "cell_type": "code",
   "execution_count": 9,
   "metadata": {},
   "outputs": [
    {
     "name": "stdout",
     "output_type": "stream",
     "text": [
      "Outer object creation...\n",
      "Inner class object creation...\n",
      "Inner class Method\n"
     ]
    }
   ],
   "source": [
    "# Demo Program 1\n",
    "class Outer:\n",
    "    def __init__(self):\n",
    "        print(\"Outer object creation...\")\n",
    "    class Inner:\n",
    "        def __init__(self):\n",
    "            print(\"Inner class object creation...\")\n",
    "        def m1(self):\n",
    "            print(\"Inner class Method\")\n",
    "o=Outer()\n",
    "i=o.Inner()\n",
    "i.m1()"
   ]
  },
  {
   "cell_type": "code",
   "execution_count": 11,
   "metadata": {},
   "outputs": [
    {
     "name": "stdout",
     "output_type": "stream",
     "text": [
      "Outer object creation...\n",
      "Inner class object creation...\n",
      "Inner class Method\n"
     ]
    }
   ],
   "source": [
    "i=Outer().Inner()\n",
    "i.m1()"
   ]
  },
  {
   "cell_type": "code",
   "execution_count": 12,
   "metadata": {},
   "outputs": [
    {
     "name": "stdout",
     "output_type": "stream",
     "text": [
      "Outer object creation...\n",
      "Inner class object creation...\n",
      "Inner class Method\n"
     ]
    }
   ],
   "source": [
    "Outer().Inner().m1()"
   ]
  },
  {
   "cell_type": "markdown",
   "metadata": {},
   "source": [
    "## Nesting of Inner classes \n",
    "#### Demo program 1"
   ]
  },
  {
   "cell_type": "code",
   "execution_count": 29,
   "metadata": {},
   "outputs": [],
   "source": [
    "class Outer:\n",
    "    def __init__(self):\n",
    "        print(\"Outer classs object creation...\")\n",
    "    class Inner:\n",
    "        def __init__(self):\n",
    "            print(\"Inner class Object creation...\")\n",
    "        class InnerInner:\n",
    "            def __init__(self):\n",
    "                print(\"InnerInner class object creation...\")\n",
    "            def m1(self):\n",
    "                print(\"Nested Inner class Method\")\n",
    "            @staticmethod\n",
    "            def m2():\n",
    "                print(\"Nested Inner class Static Method...\")"
   ]
  },
  {
   "cell_type": "code",
   "execution_count": 32,
   "metadata": {},
   "outputs": [
    {
     "name": "stdout",
     "output_type": "stream",
     "text": [
      "Outer classs object creation...\n",
      "Inner class Object creation...\n",
      "InnerInner class object creation...\n",
      "Nested Inner class Method\n"
     ]
    }
   ],
   "source": [
    "Outer().Inner().InnerInner().m1()"
   ]
  },
  {
   "cell_type": "code",
   "execution_count": 33,
   "metadata": {},
   "outputs": [
    {
     "name": "stdout",
     "output_type": "stream",
     "text": [
      "Outer classs object creation...\n",
      "Inner class Object creation...\n",
      "InnerInner class object creation...\n",
      "Nested Inner class Method\n"
     ]
    }
   ],
   "source": [
    "o=Outer()\n",
    "i=o.Inner()\n",
    "ii=i.InnerInner()\n",
    "ii.m1()"
   ]
  },
  {
   "cell_type": "code",
   "execution_count": 34,
   "metadata": {},
   "outputs": [
    {
     "name": "stdout",
     "output_type": "stream",
     "text": [
      "Outer classs object creation...\n",
      "Inner class Object creation...\n",
      "Nested Inner class Static Method...\n"
     ]
    }
   ],
   "source": [
    "Outer().Inner().InnerInner.m2()"
   ]
  },
  {
   "cell_type": "markdown",
   "metadata": {},
   "source": [
    "#### Demo Program 2"
   ]
  },
  {
   "cell_type": "code",
   "execution_count": 39,
   "metadata": {},
   "outputs": [],
   "source": [
    "class Human:\n",
    "    class Head:\n",
    "        def talk(self):\n",
    "            print(\"Talking...\")\n",
    "        class Brain:\n",
    "            def think(self):\n",
    "                print(\"Thinking...\")\n"
   ]
  },
  {
   "cell_type": "code",
   "execution_count": 40,
   "metadata": {},
   "outputs": [
    {
     "name": "stdout",
     "output_type": "stream",
     "text": [
      "Talking...\n",
      "Thinking...\n"
     ]
    }
   ],
   "source": [
    "human=Human()\n",
    "head=human.Head()\n",
    "head.talk()\n",
    "brain=head.Brain()\n",
    "brain.think()"
   ]
  },
  {
   "cell_type": "code",
   "execution_count": 45,
   "metadata": {},
   "outputs": [
    {
     "name": "stdout",
     "output_type": "stream",
     "text": [
      "Hello, my self  Rockkar\n",
      "Talking...\n",
      "Thinking...\n"
     ]
    }
   ],
   "source": [
    "# another example\n",
    "class Human:\n",
    "    def __init__(self,name):\n",
    "        self.name=name\n",
    "        self.head=self.Head()\n",
    "    def info(self):\n",
    "        print(\"Hello, my self \",self.name)\n",
    "        self.head.talk()\n",
    "        self.head.brain.think()\n",
    "    class Head:\n",
    "        def __init__(self):\n",
    "            self.brain=self.Brain()\n",
    "        def talk(self):\n",
    "            print(\"Talking...\")\n",
    "        class Brain:\n",
    "            def think(self):\n",
    "                print(\"Thinking...\")\n",
    "human=Human('Rockkar')\n",
    "human.info()"
   ]
  },
  {
   "cell_type": "markdown",
   "metadata": {},
   "source": [
    "### Demo Program 3"
   ]
  },
  {
   "cell_type": "code",
   "execution_count": 6,
   "metadata": {},
   "outputs": [
    {
     "name": "stdout",
     "output_type": "stream",
     "text": [
      "Person class Object creation...\n",
      "Dob class object creation...\n",
      "Name:  Rockkar\n",
      "DOB: 10-4-2018\n"
     ]
    }
   ],
   "source": [
    "class Person:\n",
    "    def __init__(self,name,dd,mm,yyyy):\n",
    "        print(\"Person class Object creation...\")\n",
    "        self.name=name\n",
    "        self.dob=self.Dob(dd,mm,yyyy)\n",
    "    def info(self):\n",
    "        print(\"Name: \",self.name)\n",
    "        self.dob.display()\n",
    "    class Dob:\n",
    "        def __init__(self,dd,mm,yyyy):\n",
    "            print(\"Dob class object creation...\")\n",
    "            self.dd=dd\n",
    "            self.mm=mm\n",
    "            self.yyyy=yyyy\n",
    "        def display(self):\n",
    "            print(\"DOB: {}-{}-{}\".format(self.dd,self.mm,self.yyyy))\n",
    "p=Person('Rockkar',10,4,2018)\n",
    "p.info()"
   ]
  },
  {
   "cell_type": "code",
   "execution_count": null,
   "metadata": {},
   "outputs": [],
   "source": []
  }
 ],
 "metadata": {
  "kernelspec": {
   "display_name": "Python 3",
   "language": "python",
   "name": "python3"
  },
  "language_info": {
   "codemirror_mode": {
    "name": "ipython",
    "version": 3
   },
   "file_extension": ".py",
   "mimetype": "text/x-python",
   "name": "python",
   "nbconvert_exporter": "python",
   "pygments_lexer": "ipython3",
   "version": "3.7.4"
  }
 },
 "nbformat": 4,
 "nbformat_minor": 2
}
