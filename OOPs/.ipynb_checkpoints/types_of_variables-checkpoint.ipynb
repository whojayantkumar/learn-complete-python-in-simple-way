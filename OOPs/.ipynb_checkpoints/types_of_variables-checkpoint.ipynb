{
 "cells": [
  {
   "cell_type": "markdown",
   "metadata": {},
   "source": [
    "## Basic Idea about types of variables\n",
    "1. Instance\n",
    "2. Static\n",
    "3. Local"
   ]
  },
  {
   "cell_type": "code",
   "execution_count": 5,
   "metadata": {},
   "outputs": [],
   "source": [
    "# example\n",
    "class Student:\n",
    "    school_name=\"Durga soft\"           # static variable\n",
    "    def __init__(self,name,rollno):\n",
    "        self.name=name                 # Instance variable\n",
    "        self.rollno=rollno             # Instance variable\n",
    "    def info(self):\n",
    "        x=10                           # local variable\n",
    "        for i in range(x):             # i is local variable\n",
    "            print(i)\n",
    "s1=Student('Ram',101)"
   ]
  },
  {
   "cell_type": "code",
   "execution_count": 7,
   "metadata": {},
   "outputs": [
    {
     "name": "stdout",
     "output_type": "stream",
     "text": [
      "0\n",
      "1\n",
      "2\n",
      "3\n",
      "4\n",
      "5\n",
      "6\n",
      "7\n",
      "8\n",
      "9\n",
      "{'name': 'Ram', 'rollno': 101}\n"
     ]
    }
   ],
   "source": [
    "s1.info()\n",
    "print(s1.__dict__)"
   ]
  },
  {
   "cell_type": "markdown",
   "metadata": {},
   "source": [
    "## 1) Instance Variables:\n",
    "If the value of a variable is varied from object to object, then such type of variables are called instance variables.\n",
    "For every object a separate copy of instance variables will be created."
   ]
  },
  {
   "cell_type": "code",
   "execution_count": null,
   "metadata": {},
   "outputs": [],
   "source": []
  }
 ],
 "metadata": {
  "kernelspec": {
   "display_name": "Python 3",
   "language": "python",
   "name": "python3"
  },
  "language_info": {
   "codemirror_mode": {
    "name": "ipython",
    "version": 3
   },
   "file_extension": ".py",
   "mimetype": "text/x-python",
   "name": "python",
   "nbconvert_exporter": "python",
   "pygments_lexer": "ipython3",
   "version": "3.7.4"
  }
 },
 "nbformat": 4,
 "nbformat_minor": 2
}
