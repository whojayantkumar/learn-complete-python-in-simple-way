{
 "cells": [
  {
   "cell_type": "markdown",
   "metadata": {},
   "source": [
    "# Abstract Method: \n",
    "- Sometimes we don't know about implementation, still we can declare a method. Such types of methods are called abstract methods.i.e abstract method has only declaration but not implementation. \n",
    "- In python we can declare abstract method by using @abstractmethod decorator as follows.\n",
    "- @abstractmethod \n",
    "- def m1(self): pass\n",
    "- @abstractmethod decorator present in abc module. Hence compulsory we should import abc module,otherwise we will get error. \n",
    "- abc => abstract base class module"
   ]
  },
  {
   "cell_type": "code",
   "execution_count": 13,
   "metadata": {},
   "outputs": [],
   "source": [
    "class Test:\n",
    "    @abstractmethod # abstractmethod decorator but here is not available because it is a method of abc module\n",
    "    def m1(self):\n",
    "        pass"
   ]
  },
  {
   "cell_type": "code",
   "execution_count": 14,
   "metadata": {},
   "outputs": [],
   "source": [
    "from abc import *\n",
    "class Test:\n",
    "    @abstractmethod\n",
    "    def m1(self):\n",
    "        pass"
   ]
  },
  {
   "cell_type": "markdown",
   "metadata": {},
   "source": [
    "- Child classes are responsible to provide implemention for parent class abstract methods."
   ]
  },
  {
   "cell_type": "code",
   "execution_count": 10,
   "metadata": {},
   "outputs": [
    {
     "name": "stdout",
     "output_type": "stream",
     "text": [
      "3\n"
     ]
    }
   ],
   "source": [
    "from abc import abstractmethod,ABC\n",
    "class Vehicle(ABC):\n",
    "    @abstractmethod\n",
    "    def getWheelInfo(self):\n",
    "        pass\n",
    "class Auto(Vehicle):\n",
    "    def getWheelInfo(self):\n",
    "        return 3\n",
    "class Bus(Vehicle):\n",
    "    def getWheelInfo(self):\n",
    "        return 6\n",
    "class Bike(Vehicle):\n",
    "    def getWheelInfo(self):\n",
    "        return 2\n",
    "a=Auto()\n",
    "print(a.getWheelInfo())"
   ]
  },
  {
   "cell_type": "code",
   "execution_count": 11,
   "metadata": {},
   "outputs": [
    {
     "name": "stdout",
     "output_type": "stream",
     "text": [
      "6\n",
      "2\n"
     ]
    }
   ],
   "source": [
    "b=Bus()\n",
    "print(b.getWheelInfo())\n",
    "b=Bike()\n",
    "print(b.getWheelInfo())"
   ]
  },
  {
   "cell_type": "markdown",
   "metadata": {},
   "source": [
    "# Abstract class: \n",
    "Some times implementation of a class is not complete,such type of partially implementation classes are called abstract classes. Every abstract class in Python should be derived from ABC class which is present in abc module."
   ]
  },
  {
   "cell_type": "code",
   "execution_count": 19,
   "metadata": {},
   "outputs": [],
   "source": [
    "# Eg.\n",
    "from abc import *\n",
    "class Test(ABC):\n",
    "    pass"
   ]
  },
  {
   "cell_type": "markdown",
   "metadata": {},
   "source": [
    "## Conclusion: \n",
    "- If a class contains atleast one abstract method and if we are extending ABC class then instantiation is not possible.\n",
    "- \"abstract class with abstract method instantiation is not possible\"\n",
    "- Parent class abstract methods should be implemented in the child classes. Otherwise we cannot instantiate child class.If we are not creating child class object then we won't get any error."
   ]
  },
  {
   "cell_type": "code",
   "execution_count": 21,
   "metadata": {},
   "outputs": [],
   "source": [
    "from abc import *\n",
    "class Test(ABC): #abstract class\n",
    "    pass\n",
    "t=Test()"
   ]
  },
  {
   "cell_type": "code",
   "execution_count": 23,
   "metadata": {},
   "outputs": [
    {
     "ename": "TypeError",
     "evalue": "Can't instantiate abstract class Test with abstract methods m1",
     "output_type": "error",
     "traceback": [
      "\u001b[1;31m---------------------------------------------------------------------------\u001b[0m",
      "\u001b[1;31mTypeError\u001b[0m                                 Traceback (most recent call last)",
      "\u001b[1;32m<ipython-input-23-98d6ff7b2728>\u001b[0m in \u001b[0;36m<module>\u001b[1;34m\u001b[0m\n\u001b[0;32m      4\u001b[0m     \u001b[1;32mdef\u001b[0m \u001b[0mm1\u001b[0m\u001b[1;33m(\u001b[0m\u001b[0mself\u001b[0m\u001b[1;33m)\u001b[0m\u001b[1;33m:\u001b[0m\u001b[1;33m\u001b[0m\u001b[1;33m\u001b[0m\u001b[0m\n\u001b[0;32m      5\u001b[0m         \u001b[1;32mpass\u001b[0m\u001b[1;33m\u001b[0m\u001b[1;33m\u001b[0m\u001b[0m\n\u001b[1;32m----> 6\u001b[1;33m \u001b[0mt\u001b[0m\u001b[1;33m=\u001b[0m\u001b[0mTest\u001b[0m\u001b[1;33m(\u001b[0m\u001b[1;33m)\u001b[0m \u001b[1;31m# instantiation is not possible\u001b[0m\u001b[1;33m\u001b[0m\u001b[1;33m\u001b[0m\u001b[0m\n\u001b[0m",
      "\u001b[1;31mTypeError\u001b[0m: Can't instantiate abstract class Test with abstract methods m1"
     ]
    }
   ],
   "source": [
    "from abc import *\n",
    "class Test(ABC): #abstract class\n",
    "    @abstractmethod\n",
    "    def m1(self):\n",
    "        pass\n",
    "t=Test() # instantiation is not possible"
   ]
  },
  {
   "cell_type": "code",
   "execution_count": 24,
   "metadata": {},
   "outputs": [],
   "source": [
    "from abc import *\n",
    "class Test: #it is not abstract class\n",
    "    @abstractmethod\n",
    "    def m1(self):\n",
    "        pass\n",
    "t=Test()"
   ]
  },
  {
   "cell_type": "markdown",
   "metadata": {},
   "source": [
    "- If we are extending abstract class and does not override its abstract method then child class is also abstract and instantiation is not possible."
   ]
  },
  {
   "cell_type": "code",
   "execution_count": 25,
   "metadata": {},
   "outputs": [
    {
     "ename": "TypeError",
     "evalue": "Can't instantiate abstract class SubTest with abstract methods m1",
     "output_type": "error",
     "traceback": [
      "\u001b[1;31m---------------------------------------------------------------------------\u001b[0m",
      "\u001b[1;31mTypeError\u001b[0m                                 Traceback (most recent call last)",
      "\u001b[1;32m<ipython-input-25-13cc498cc5fa>\u001b[0m in \u001b[0;36m<module>\u001b[1;34m\u001b[0m\n\u001b[0;32m      6\u001b[0m \u001b[1;32mclass\u001b[0m \u001b[0mSubTest\u001b[0m\u001b[1;33m(\u001b[0m\u001b[0mTest\u001b[0m\u001b[1;33m)\u001b[0m\u001b[1;33m:\u001b[0m\u001b[1;33m\u001b[0m\u001b[1;33m\u001b[0m\u001b[0m\n\u001b[0;32m      7\u001b[0m     \u001b[1;32mpass\u001b[0m\u001b[1;33m\u001b[0m\u001b[1;33m\u001b[0m\u001b[0m\n\u001b[1;32m----> 8\u001b[1;33m \u001b[0mt\u001b[0m\u001b[1;33m=\u001b[0m\u001b[0mSubTest\u001b[0m\u001b[1;33m(\u001b[0m\u001b[1;33m)\u001b[0m\u001b[1;33m\u001b[0m\u001b[1;33m\u001b[0m\u001b[0m\n\u001b[0m",
      "\u001b[1;31mTypeError\u001b[0m: Can't instantiate abstract class SubTest with abstract methods m1"
     ]
    }
   ],
   "source": [
    "from abc import *\n",
    "class Test(ABC): #abstract class\n",
    "    @abstractmethod\n",
    "    def m1(self):\n",
    "        pass\n",
    "class SubTest(Test):\n",
    "    pass\n",
    "t=SubTest()"
   ]
  },
  {
   "cell_type": "code",
   "execution_count": 30,
   "metadata": {},
   "outputs": [
    {
     "name": "stdout",
     "output_type": "stream",
     "text": [
      "Test class Instance Method\n",
      "Test class abstract Method Implementation\n"
     ]
    }
   ],
   "source": [
    "from abc import *\n",
    "class Test(ABC): #abstract class\n",
    "    def m1(self):\n",
    "        print(\"Test class Instance Method\")\n",
    "    @abstractmethod\n",
    "    def m2(self):\n",
    "        pass\n",
    "class SubTest(Test):\n",
    "    def m2(self):\n",
    "        print(\"Test class abstract Method Implementation\")\n",
    "t=SubTest()\n",
    "t.m1()\n",
    "t.m2()"
   ]
  },
  {
   "cell_type": "code",
   "execution_count": null,
   "metadata": {},
   "outputs": [],
   "source": []
  }
 ],
 "metadata": {
  "kernelspec": {
   "display_name": "Python 3",
   "language": "python",
   "name": "python3"
  },
  "language_info": {
   "codemirror_mode": {
    "name": "ipython",
    "version": 3
   },
   "file_extension": ".py",
   "mimetype": "text/x-python",
   "name": "python",
   "nbconvert_exporter": "python",
   "pygments_lexer": "ipython3",
   "version": "3.7.4"
  }
 },
 "nbformat": 4,
 "nbformat_minor": 2
}
