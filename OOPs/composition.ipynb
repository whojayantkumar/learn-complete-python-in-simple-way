{
 "cells": [
  {
   "cell_type": "markdown",
   "metadata": {},
   "source": [
    "# Using Members of one class inside another class"
   ]
  },
  {
   "cell_type": "markdown",
   "metadata": {},
   "source": [
    "1. By Has-A Relationship (composition)\n",
    "2. By Is-A Relationship (Inharitance)"
   ]
  },
  {
   "cell_type": "markdown",
   "metadata": {},
   "source": [
    "## Has-A Relationship(Composition)"
   ]
  },
  {
   "cell_type": "markdown",
   "metadata": {},
   "source": [
    "- By using Class Name or by creating object we can access members of one class inside another class is nothing but composition (Has-A Relationship). \n",
    "- The main advantage of Has-A Relationship is Code Reusability."
   ]
  },
  {
   "cell_type": "code",
   "execution_count": 5,
   "metadata": {},
   "outputs": [
    {
     "name": "stdout",
     "output_type": "stream",
     "text": [
      "Car required Engine Functionality\n",
      "Engine Specific Functionality\n",
      "125CC\n"
     ]
    }
   ],
   "source": [
    "# Demo Program 1\n",
    "class Engine:\n",
    "    def __init__(self):\n",
    "        self.power='125CC'\n",
    "    def useEngine(self):\n",
    "        print(\"Engine Specific Functionality\")\n",
    "class Car:\n",
    "    def __init__(self):\n",
    "        self.engine=Engine()\n",
    "    def useCar(self):\n",
    "        print(\"Car required Engine Functionality\")\n",
    "        self.engine.useEngine()\n",
    "        print(self.engine.power)\n",
    "c=Car()\n",
    "c.useCar()"
   ]
  },
  {
   "cell_type": "code",
   "execution_count": 6,
   "metadata": {},
   "outputs": [
    {
     "name": "stdout",
     "output_type": "stream",
     "text": [
      "Employee Name:  Durga\n",
      "Employee No:  872425\n",
      "Employee Car Info.\n",
      "Car Name: Innova, Model: 2017, Color: white\n"
     ]
    }
   ],
   "source": [
    "# Demo Program 2\n",
    "class Car:\n",
    "    def __init__(self,name,model,color):\n",
    "        self.name=name\n",
    "        self.model=model\n",
    "        self.color=color\n",
    "    def getInfo(self):\n",
    "        print('Car Name: {}, Model: {}, Color: {}'.format(self.name,self.model,self.color))\n",
    "class Employee:\n",
    "    def __init__(self,ename,eno,car):\n",
    "        self.ename=ename\n",
    "        self.eno=eno\n",
    "        self.car=car\n",
    "    def empInfo(self):\n",
    "        print(\"Employee Name: \",self.ename)\n",
    "        print(\"Employee No: \",self.eno)\n",
    "        print(\"Employee Car Info.\")\n",
    "        self.car.getInfo()\n",
    "car=Car('Innova','2017','white')\n",
    "e=Employee(\"Durga\",872425,car)\n",
    "e.empInfo()"
   ]
  },
  {
   "cell_type": "code",
   "execution_count": 9,
   "metadata": {},
   "outputs": [
    {
     "name": "stdout",
     "output_type": "stream",
     "text": [
      "Welcome to Durga News:\n",
      "Sports Information 1\n",
      "Sports Information 2\n",
      "Sports Information 3\n",
      "Sports Information 4\n",
      "Movie Information 1\n",
      "Movie Information 2\n",
      "Movie Information 3\n",
      "Movie Information 4\n",
      "Politices Information 1\n",
      "Politices Information 2\n",
      "Politices Information 3\n",
      "Politices Information 4\n"
     ]
    }
   ],
   "source": [
    "# Has-A Relationship Demo Program 3\n",
    "class SportsNews:\n",
    "    def sportsInfo(self):\n",
    "        print(\"Sports Information 1\")\n",
    "        print(\"Sports Information 2\")\n",
    "        print(\"Sports Information 3\")\n",
    "        print(\"Sports Information 4\")\n",
    "class MoviesNews():\n",
    "    def moviesInfo(self):\n",
    "        print(\"Movie Information 1\")\n",
    "        print(\"Movie Information 2\")\n",
    "        print(\"Movie Information 3\")\n",
    "        print(\"Movie Information 4\")\n",
    "class PoliticesNews:\n",
    "    def politicesInfo(self):\n",
    "        print(\"Politices Information 1\")\n",
    "        print(\"Politices Information 2\")\n",
    "        print(\"Politices Information 3\")\n",
    "        print(\"Politices Information 4\")\n",
    "class DurgaNews:\n",
    "    def __init__(self):\n",
    "        self.sports=SportsNews()\n",
    "        self.movies=MoviesNews()\n",
    "        self.politics=PoliticesNews()\n",
    "    def getTotalNews(self):\n",
    "        print(\"Welcome to Durga News:\")\n",
    "        self.sports.sportsInfo()\n",
    "        self.movies.moviesInfo()\n",
    "        self.politics.politicesInfo()\n",
    "dnews=DurgaNews()\n",
    "dnews.getTotalNews()"
   ]
  },
  {
   "cell_type": "markdown",
   "metadata": {},
   "source": [
    "## Composition vs Aggregation"
   ]
  },
  {
   "cell_type": "code",
   "execution_count": 2,
   "metadata": {},
   "outputs": [],
   "source": [
    "#Composition\n",
    "# without existing container object there is no chance to exist contained object. \n",
    "class University:\n",
    "    def __init__(self):\n",
    "        self.dept=self.Department()\n",
    "    class Department:\n",
    "        pass\n",
    "u=University()"
   ]
  },
  {
   "cell_type": "code",
   "execution_count": 5,
   "metadata": {},
   "outputs": [],
   "source": [
    "#Aggregation\n",
    "# without existing container object there may be chance to exist contained object.\n",
    "class Professor:\n",
    "    pass\n",
    "class Department:\n",
    "    def __init__(self,prof):\n",
    "        self.prof=prof\n",
    "prof=Professor()\n",
    "csdept=Department(prof)\n",
    "itdept=Department(prof)"
   ]
  },
  {
   "cell_type": "code",
   "execution_count": null,
   "metadata": {},
   "outputs": [],
   "source": []
  }
 ],
 "metadata": {
  "kernelspec": {
   "display_name": "Python 3",
   "language": "python",
   "name": "python3"
  },
  "language_info": {
   "codemirror_mode": {
    "name": "ipython",
    "version": 3
   },
   "file_extension": ".py",
   "mimetype": "text/x-python",
   "name": "python",
   "nbconvert_exporter": "python",
   "pygments_lexer": "ipython3",
   "version": "3.7.4"
  }
 },
 "nbformat": 4,
 "nbformat_minor": 2
}
