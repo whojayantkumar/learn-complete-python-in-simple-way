{
 "cells": [
  {
   "cell_type": "markdown",
   "metadata": {},
   "source": [
    "# Types of Methods \n",
    "1. Instance Methods\n",
    "2. Class Methods\n",
    "3. Static Methods"
   ]
  },
  {
   "cell_type": "code",
   "execution_count": 1,
   "metadata": {},
   "outputs": [],
   "source": [
    "# example\n",
    "class Student:\n",
    "    school_name=\"Durga Soft\"\n",
    "    def __init__(self,name,rollno):\n",
    "        self.name=name\n",
    "        self.rollno=rollno\n",
    "    def getStudentInfo(self): # instance method\n",
    "        print(\"Student Name: \",self.name)\n",
    "        print(\"Student Rollno: \",self.rollno)\n",
    "    @classmethod\n",
    "    def getSchoolInfo(cls):  # class method\n",
    "        print(\"School Name: \",cls.school_name)\n",
    "    @staticmethod\n",
    "    def getSum(a,b):        # static method\n",
    "        return a+b\n"
   ]
  },
  {
   "cell_type": "code",
   "execution_count": 2,
   "metadata": {},
   "outputs": [],
   "source": [
    "s1=Student('Ram',101)"
   ]
  },
  {
   "cell_type": "code",
   "execution_count": 3,
   "metadata": {},
   "outputs": [
    {
     "name": "stdout",
     "output_type": "stream",
     "text": [
      "Student Name:  Ram\n",
      "Student Rollno:  101\n"
     ]
    }
   ],
   "source": [
    "s1.getStudentInfo()"
   ]
  },
  {
   "cell_type": "code",
   "execution_count": 4,
   "metadata": {},
   "outputs": [
    {
     "name": "stdout",
     "output_type": "stream",
     "text": [
      "School Name:  Durga Soft\n"
     ]
    }
   ],
   "source": [
    "s1.getSchoolInfo()"
   ]
  },
  {
   "cell_type": "code",
   "execution_count": 6,
   "metadata": {},
   "outputs": [
    {
     "name": "stdout",
     "output_type": "stream",
     "text": [
      "30\n"
     ]
    }
   ],
   "source": [
    "print(s1.getSum(10,20))"
   ]
  },
  {
   "cell_type": "markdown",
   "metadata": {},
   "source": [
    "## 1. Instance method"
   ]
  },
  {
   "cell_type": "markdown",
   "metadata": {},
   "source": [
    "1. Inside method implementation if we are using instance variables then such type of methods are called instance methods. \n",
    "2. Inside instance method declaration, we have to pass self variable. def m1(self): \n",
    "3. By using self variable inside method we can able to access instance variables. \n",
    "4. Within the class we can call instance method by using self variable and from outside of the class we can call by using object reference."
   ]
  },
  {
   "cell_type": "code",
   "execution_count": 6,
   "metadata": {},
   "outputs": [
    {
     "name": "stdout",
     "output_type": "stream",
     "text": [
      "Enter no. of students3\n",
      "student Name: s1\n",
      "Student Marks: 70\n",
      "student Name: s2\n",
      "Student Marks: 55\n",
      "student Name: s3\n",
      "Student Marks: 45\n",
      "Hi  s1\n",
      "Your marks are:  70.0\n",
      "You got First Devision\n",
      "\n",
      "Hi  s2\n",
      "Your marks are:  55.0\n",
      "You got Second Devision\n",
      "\n",
      "Hi  s3\n",
      "Your marks are:  45.0\n",
      "You got Third Devision\n",
      "\n"
     ]
    }
   ],
   "source": [
    "# demo program\n",
    "class Student:\n",
    "    def __init__(self,name,marks):\n",
    "        self.name=name\n",
    "        self.marks=marks\n",
    "    def display(self):s1\n",
    "        print(\"Hi \",self.name)\n",
    "        print(\"Your marks are: \",self.marks)\n",
    "    def grade(self):\n",
    "        if self.marks >=60:\n",
    "            print(\"You got First Devision\")\n",
    "        elif self.marks >=50:\n",
    "            print(\"You got Second Devision\")\n",
    "        elif self.marks >=35:\n",
    "            print(\"You got Third Devision\")\n",
    "        else:\n",
    "            print(\"You are Failed\")\n",
    "n=int(input(\"Enter no. of students\"))\n",
    "list_of_students=[]\n",
    "for i in range(n):\n",
    "    name=input(\"student Name: \")\n",
    "    marks=float(input(\"Student Marks: \"))\n",
    "    s=Student(name,marks)\n",
    "    list_of_students.append(s)\n",
    "for s in list_of_students:\n",
    "    s.display()\n",
    "    s.grade()\n",
    "    print()\n"
   ]
  },
  {
   "cell_type": "markdown",
   "metadata": {},
   "source": [
    "## Setter and Getter Methods\n",
    "We can set and get the values of instance variables by using setter and getter methods."
   ]
  },
  {
   "cell_type": "markdown",
   "metadata": {},
   "source": [
    "### setter method :\n",
    "setter methods can be used to set values to the instance variables. setter methods also known as mutator methods."
   ]
  },
  {
   "cell_type": "code",
   "execution_count": 9,
   "metadata": {},
   "outputs": [],
   "source": [
    "#Syntax: \n",
    "def setVariable(self,variable): \n",
    "    self.variable=variable"
   ]
  },
  {
   "cell_type": "markdown",
   "metadata": {},
   "source": [
    "### Getter Method: \n",
    "Getter methods can be used to get values of the instance variables. Getter methods also known as accessor methods."
   ]
  },
  {
   "cell_type": "code",
   "execution_count": 10,
   "metadata": {},
   "outputs": [],
   "source": [
    "#Syntax: \n",
    "def getVariable(self): \n",
    "     return self.variable"
   ]
  },
  {
   "cell_type": "code",
   "execution_count": 15,
   "metadata": {},
   "outputs": [
    {
     "name": "stdout",
     "output_type": "stream",
     "text": [
      "Enter no of students: 4\n",
      "Enter student Name: Jayant\n",
      "Enter student Marks: 80\n",
      "Enter student Name: Savita\n",
      "Enter student Marks: 78\n",
      "Enter student Name: Priya\n",
      "Enter student Marks: 99\n",
      "Enter student Name: Pooja\n",
      "Enter student Marks: 98\n",
      "Student Name:  Jayant\n",
      "Student Marks:  80.0\n",
      "\n",
      "Student Name:  Savita\n",
      "Student Marks:  78.0\n",
      "\n",
      "Student Name:  Priya\n",
      "Student Marks:  99.0\n",
      "\n",
      "Student Name:  Pooja\n",
      "Student Marks:  98.0\n",
      "\n"
     ]
    }
   ],
   "source": [
    "# demo program\n",
    "class Student:\n",
    "    def setName(self,name): # setter method\n",
    "        self.name=name\n",
    "    def setMarks(self,marks): # setter method\n",
    "        self.marks=marks\n",
    "    def getName(self):     # getter method\n",
    "        return self.name\n",
    "    def getMarks(self):    # getter method\n",
    "        return self.marks\n",
    "n=int(input(\"Enter no of students: \"))\n",
    "student=[]\n",
    "for i in range(n):\n",
    "    s=Student()\n",
    "    name=input(\"Enter student Name: \")\n",
    "    marks=float(input(\"Enter student Marks: \"))\n",
    "    s.setName(name)\n",
    "    s.setMarks(marks)\n",
    "    student.append(s)\n",
    "for st in student:    \n",
    "    print('Student Name: ',st.getName())\n",
    "    print('Student Marks: ',st.getMarks())\n",
    "    print()"
   ]
  },
  {
   "cell_type": "markdown",
   "metadata": {},
   "source": [
    "## 2. class Methods\n",
    "- Inside method implementation if we are using only class variables (static variables), then such type of methods we should declare as class method.\n",
    "- We can declare class method explicitly by using @classmethod decorator. \n",
    "- For class method we should provide cls variable at the time of declaration \n",
    "- We can call classmethod by using classname or object reference variable."
   ]
  },
  {
   "cell_type": "code",
   "execution_count": 17,
   "metadata": {},
   "outputs": [
    {
     "name": "stdout",
     "output_type": "stream",
     "text": [
      "Parrot flying with 2 wings\n"
     ]
    }
   ],
   "source": [
    "#demo programs\n",
    "class Bird:\n",
    "    wings=2\n",
    "    @classmethod\n",
    "    def fly(cls,name):\n",
    "        print('{} flying with {} wings'.format(name,cls.wings))\n",
    "Bird.fly('Parrot')"
   ]
  },
  {
   "cell_type": "code",
   "execution_count": 18,
   "metadata": {},
   "outputs": [
    {
     "name": "stdout",
     "output_type": "stream",
     "text": [
      "Eagle flying with 2 wings\n"
     ]
    }
   ],
   "source": [
    "Bird.fly('Eagle')"
   ]
  },
  {
   "cell_type": "markdown",
   "metadata": {},
   "source": [
    "## 3. Static Method\n",
    "- In general these methods are general utility methods. \n",
    "- Inside these methods we won't use any instance or class variables. \n",
    "- Here we won't provide self or cls arguments at the time of declaration. \n",
    "- We can declare static method explicitly by using @staticmethod decorator \n",
    "- We can access static methods by using classname or object reference"
   ]
  },
  {
   "cell_type": "code",
   "execution_count": 20,
   "metadata": {},
   "outputs": [
    {
     "name": "stdout",
     "output_type": "stream",
     "text": [
      "The Sum:  30\n"
     ]
    }
   ],
   "source": [
    "# demo program\n",
    "class Mymath:\n",
    "    @staticmethod\n",
    "    def add(a,b):\n",
    "        print(\"The Sum: \", a+b)\n",
    "    @staticmethod\n",
    "    def product(a,b):\n",
    "        print(\"The Product: \",a*b)\n",
    "    @staticmethod\n",
    "    def average(a,b):\n",
    "        print(\"The average: \", (a+b)/2)\n",
    "    @staticmethod\n",
    "    def difference(a,b):\n",
    "        print(\"The Difference: \", a-b)\n",
    "Mymath.add(10,20)"
   ]
  },
  {
   "cell_type": "code",
   "execution_count": 21,
   "metadata": {},
   "outputs": [
    {
     "name": "stdout",
     "output_type": "stream",
     "text": [
      "The Product:  200\n"
     ]
    }
   ],
   "source": [
    "Mymath.product(10,20)"
   ]
  },
  {
   "cell_type": "code",
   "execution_count": 22,
   "metadata": {},
   "outputs": [
    {
     "name": "stdout",
     "output_type": "stream",
     "text": [
      "The average:  15.0\n"
     ]
    }
   ],
   "source": [
    "Mymath.average(10,20)"
   ]
  },
  {
   "cell_type": "code",
   "execution_count": null,
   "metadata": {},
   "outputs": [],
   "source": [
    "Mymath.difference(20,10)"
   ]
  },
  {
   "cell_type": "code",
   "execution_count": null,
   "metadata": {},
   "outputs": [],
   "source": []
  }
 ],
 "metadata": {
  "kernelspec": {
   "display_name": "Python 3",
   "language": "python",
   "name": "python3"
  },
  "language_info": {
   "codemirror_mode": {
    "name": "ipython",
    "version": 3
   },
   "file_extension": ".py",
   "mimetype": "text/x-python",
   "name": "python",
   "nbconvert_exporter": "python",
   "pygments_lexer": "ipython3",
   "version": "3.7.4"
  }
 },
 "nbformat": 4,
 "nbformat_minor": 2
}
