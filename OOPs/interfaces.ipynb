{
 "cells": [
  {
   "cell_type": "markdown",
   "metadata": {},
   "source": [
    "## Interfaces In Python: \n",
    "In general if an abstract class contains only abstract methods such type of abstract class is considered as interface."
   ]
  },
  {
   "cell_type": "code",
   "execution_count": 2,
   "metadata": {},
   "outputs": [],
   "source": [
    "from abc import *\n",
    "class Test(ABC): # it is a abstract class\n",
    "    def m1(self):\n",
    "        print(\"Hi\")\n",
    "    @abstractmethod\n",
    "    def m2(self):\n",
    "        pass"
   ]
  },
  {
   "cell_type": "code",
   "execution_count": 3,
   "metadata": {},
   "outputs": [],
   "source": [
    "# interface contains only abstract method inside abstract class\n",
    "#eg. \n",
    "from abc import *\n",
    "class Test(ABC):\n",
    "    @abstractmethod\n",
    "    def m1(self):\n",
    "        pass\n",
    "    @abstractmethod\n",
    "    def m2(self):\n",
    "        pass"
   ]
  },
  {
   "cell_type": "code",
   "execution_count": 5,
   "metadata": {},
   "outputs": [
    {
     "name": "stdout",
     "output_type": "stream",
     "text": [
      "Connecting to Orcale Database...\n",
      "Connecting to Sybase Database...\n"
     ]
    }
   ],
   "source": [
    "#Demo program 1\n",
    "from abc import *\n",
    "class DbInterface(ABC):\n",
    "    @abstractmethod\n",
    "    def connect(self): pass\n",
    "    \n",
    "    @abstractmethod\n",
    "    def disconnect(self): pass\n",
    "class Orcale(DbInterface):\n",
    "    def connect(self):\n",
    "        print(\"Connecting to Orcale Database...\")\n",
    "    def disconnect(self):\n",
    "        print(\"Disconnecting to Oracle Database...\")\n",
    "class Sybase(DbInterface):\n",
    "    def connect(self):\n",
    "        print(\"Connecting to Sybase Database...\")\n",
    "    def disconnect(self):\n",
    "        print(\"Disconnecting to Sybase Database...\")\n",
    "o=Orcale()\n",
    "s=Sybase()\n",
    "o.connect()\n",
    "s.connect()"
   ]
  },
  {
   "cell_type": "code",
   "execution_count": 7,
   "metadata": {},
   "outputs": [
    {
     "name": "stdout",
     "output_type": "stream",
     "text": [
      "Disconnecting to Oracle Database...\n",
      "Disconnecting to Sybase Database...\n"
     ]
    }
   ],
   "source": [
    "o.disconnect()\n",
    "s.disconnect()"
   ]
  },
  {
   "cell_type": "code",
   "execution_count": null,
   "metadata": {},
   "outputs": [],
   "source": []
  }
 ],
 "metadata": {
  "kernelspec": {
   "display_name": "Python 3",
   "language": "python",
   "name": "python3"
  },
  "language_info": {
   "codemirror_mode": {
    "name": "ipython",
    "version": 3
   },
   "file_extension": ".py",
   "mimetype": "text/x-python",
   "name": "python",
   "nbconvert_exporter": "python",
   "pygments_lexer": "ipython3",
   "version": "3.7.4"
  }
 },
 "nbformat": 4,
 "nbformat_minor": 2
}
