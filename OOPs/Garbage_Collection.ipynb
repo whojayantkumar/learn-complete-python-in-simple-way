{
 "cells": [
  {
   "cell_type": "markdown",
   "metadata": {},
   "source": [
    "# Garbage Collection "
   ]
  },
  {
   "cell_type": "markdown",
   "metadata": {},
   "source": [
    "- In old languages like C++, programmer is responsible for both creation and destruction of objects.Usually programmer taking very much care while creating object, but nEglecting destruction of useless objects. Because of his nEglectance, total memory can be filled with useless objects which creates memory problems and total application will be down with Out of memory error.\n",
    "- But in Python, We have some assistant which is always running in the background to destroy useless objects.Because this assistant the chance of failing Python program with memory problems is very less. This assistant is nothing but Garbage Collector.\n",
    "- Hence the main objective of Garbage Collector is to destroy useless objects.\n",
    "- If an object does not have any reference variable then that object eligible for Garbage Collection."
   ]
  },
  {
   "cell_type": "markdown",
   "metadata": {},
   "source": [
    "### How to enable and disable Garbage collector in our program "
   ]
  },
  {
   "cell_type": "markdown",
   "metadata": {},
   "source": [
    "By default Gargbage collector is enabled, but we can disable based on our requirement. In this context we can use the following functions of gc module.\n",
    "1. gc.isenabled() => Returns True if GC enabled\n",
    "2. gc.disable() => To disable GC explicitly\n",
    "3. gc.enable() => To enable GC explicitly"
   ]
  },
  {
   "cell_type": "code",
   "execution_count": 5,
   "metadata": {},
   "outputs": [
    {
     "name": "stdout",
     "output_type": "stream",
     "text": [
      "False\n",
      "False\n",
      "True\n"
     ]
    }
   ],
   "source": [
    "import gc\n",
    "print(gc.isenabled())\n",
    "gc.disable()\n",
    "print(gc.isenabled())\n",
    "gc.enable()\n",
    "print(gc.isenabled())"
   ]
  },
  {
   "cell_type": "markdown",
   "metadata": {},
   "source": [
    "# Destructor"
   ]
  },
  {
   "cell_type": "markdown",
   "metadata": {},
   "source": [
    "- Destructor is a special method and the name should be __del__()\n",
    "- Just before destroying an object Garbage Collector always calls destructor to perform clean up activities (Resource deallocation activities like close database connection etc). \n",
    "- Once destructor execution completed then Garbage Collector automatically destroys that object."
   ]
  },
  {
   "cell_type": "markdown",
   "metadata": {},
   "source": [
    "- Note: The job of destructor is not to destroy object and it is just to perform clean up activities."
   ]
  },
  {
   "cell_type": "code",
   "execution_count": 20,
   "metadata": {},
   "outputs": [
    {
     "name": "stdout",
     "output_type": "stream",
     "text": [
      "Object Initialization Activities...\n",
      "Object Initialization Activities...\n",
      "End of application\n"
     ]
    }
   ],
   "source": [
    "# demo program 1\n",
    "import time\n",
    "class Test:\n",
    "    def __init__(self):\n",
    "        print(\"Object Initialization Activities...\")\n",
    "    def __del__(self):\n",
    "        print(\"Fulfilling last wish and Performing cleanup activities...\")\n",
    "t5=Test()\n",
    "t6=Test()\n",
    "print(\"End of application\")"
   ]
  },
  {
   "cell_type": "code",
   "execution_count": 22,
   "metadata": {},
   "outputs": [
    {
     "name": "stdout",
     "output_type": "stream",
     "text": [
      "Fulfilling last wish and Performing cleanup activities...\n",
      "Fulfilling last wish and Performing cleanup activities...\n",
      "End of application\n"
     ]
    }
   ],
   "source": [
    "t5=None\n",
    "t6=None\n",
    "time.sleep(10)\n",
    "print(\"End of application\")"
   ]
  },
  {
   "cell_type": "code",
   "execution_count": 1,
   "metadata": {},
   "outputs": [
    {
     "name": "stdout",
     "output_type": "stream",
     "text": [
      "Constructor Execution...\n",
      "Object not destroyed after deleting t1\n",
      "Object not destroyed even after deleting t2\n",
      "Destructor Execution...\n",
      "Deleting last refrence...\n",
      "End of Application\n"
     ]
    }
   ],
   "source": [
    "# demo program 2\n",
    "import time\n",
    "class Test:\n",
    "    def __init__(self):\n",
    "        print(\"Constructor Execution...\")\n",
    "    def __del__(self):\n",
    "        print(\"Destructor Execution...\")\n",
    "t1=Test()\n",
    "t2=t1\n",
    "t3=t1\n",
    "del t1\n",
    "time.sleep(10)\n",
    "print(\"Object not destroyed after deleting t1\")\n",
    "del t2\n",
    "time.sleep(10)\n",
    "print(\"Object not destroyed even after deleting t2\")\n",
    "del t3\n",
    "print(\"Deleting last refrence...\")\n",
    "time.sleep(10)\n",
    "print(\"End of Application\")"
   ]
  },
  {
   "cell_type": "code",
   "execution_count": 2,
   "metadata": {},
   "outputs": [
    {
     "name": "stdout",
     "output_type": "stream",
     "text": [
      "Constructor execution...\n",
      "Constructor execution...\n",
      "Constructor execution...\n",
      "[<__main__.Test object at 0x0000017B124D3248>, <__main__.Test object at 0x0000017B124D3348>, <__main__.Test object at 0x0000017B124D3448>]\n",
      "Destructor execution...\n",
      "Destructor execution...\n",
      "Destructor execution...\n"
     ]
    }
   ],
   "source": [
    "# demo program 3\n",
    "class Test:\n",
    "    def __init__(self):\n",
    "        print(\"Constructor execution...\")\n",
    "    def __del__(self):\n",
    "        print(\"Destructor execution...\")\n",
    "l=[Test(),Test(),Test()]\n",
    "print(l)\n",
    "del l"
   ]
  },
  {
   "cell_type": "code",
   "execution_count": null,
   "metadata": {},
   "outputs": [],
   "source": []
  }
 ],
 "metadata": {
  "kernelspec": {
   "display_name": "Python 3",
   "language": "python",
   "name": "python3"
  },
  "language_info": {
   "codemirror_mode": {
    "name": "ipython",
    "version": 3
   },
   "file_extension": ".py",
   "mimetype": "text/x-python",
   "name": "python",
   "nbconvert_exporter": "python",
   "pygments_lexer": "ipython3",
   "version": "3.7.4"
  }
 },
 "nbformat": 4,
 "nbformat_minor": 2
}
