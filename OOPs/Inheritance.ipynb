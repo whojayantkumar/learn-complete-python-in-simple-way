{
 "cells": [
  {
   "cell_type": "markdown",
   "metadata": {},
   "source": [
    "# Is-A relationship (Inheritance)"
   ]
  },
  {
   "cell_type": "markdown",
   "metadata": {},
   "source": [
    "- What ever variables, methods and constructors available in the parent class by default available to the child classes and we are not required to rewrite. Hence the main advantage of inheritance is Code Reusability and we can extend existing functionality with some more extra functionality."
   ]
  },
  {
   "cell_type": "code",
   "execution_count": 4,
   "metadata": {},
   "outputs": [
    {
     "name": "stdout",
     "output_type": "stream",
     "text": [
      "Parent Constructor...\n",
      "10\n",
      "20\n",
      "Parent Instance Method...\n",
      "Parrent classMethod...\n",
      "Parrent static Method...\n"
     ]
    }
   ],
   "source": [
    "# Demo Program 1:\n",
    "class Parent:\n",
    "    a=10\n",
    "    def __init__(self):\n",
    "        print(\"Parent Constructor...\")\n",
    "        self.b=20\n",
    "    def m1(self):\n",
    "        print(\"Parent Instance Method...\")\n",
    "    @classmethod\n",
    "    def m2(cls):\n",
    "        print(\"Parrent classMethod...\")\n",
    "    @staticmethod\n",
    "    def m3():\n",
    "        print(\"Parrent static Method...\")\n",
    "class child(Parent):\n",
    "    pass\n",
    "c=child()\n",
    "print(c.a)\n",
    "print(c.b)\n",
    "c.m1()\n",
    "c.m2()\n",
    "c.m3()"
   ]
  },
  {
   "cell_type": "code",
   "execution_count": 8,
   "metadata": {},
   "outputs": [
    {
     "name": "stdout",
     "output_type": "stream",
     "text": [
      "Eat Burger and Drink Beer\n",
      "Coading Python Program:\n",
      "Durga\n",
      "48\n",
      "872425\n",
      "10000\n"
     ]
    }
   ],
   "source": [
    "# Demo Program \n",
    "class Person:\n",
    "    def __init__(self,name,age):\n",
    "        self.name=name\n",
    "        self.age=age\n",
    "    def eatndrink(self):\n",
    "        print(\"Eat Burger and Drink Beer\")\n",
    "class Employee(Person):\n",
    "    def __init__(self,name,age,eno,esal):\n",
    "        super().__init__(name,age)\n",
    "        self.eno=eno\n",
    "        self.esal=esal\n",
    "    def work(self):\n",
    "        print(\"Coading Python Program:\")\n",
    "    def empInfo(self):\n",
    "        print(self.name)\n",
    "        print(self.age)\n",
    "        print(self.eno)\n",
    "        print(self.esal)\n",
    "e=Employee(\"Durga\",48,872425,10000)\n",
    "e.eatndrink()\n",
    "e.work()\n",
    "e.empInfo()\n",
    "    "
   ]
  },
  {
   "cell_type": "markdown",
   "metadata": {},
   "source": [
    "## IS-A vs HAS-A Relationship"
   ]
  },
  {
   "cell_type": "code",
   "execution_count": 9,
   "metadata": {},
   "outputs": [
    {
     "name": "stdout",
     "output_type": "stream",
     "text": [
      "Eating Food & Drinking cold drink\n",
      "Coading Python Program:\n",
      "Durga\n",
      "48\n",
      "872524\n",
      "48000\n",
      "Employee Car Information: \n",
      "Car Name: Audie\n",
      "Car Model: 2020\n",
      "Car color: Red\n"
     ]
    }
   ],
   "source": [
    "class Car:\n",
    "    def __init__(self,name,model,color):\n",
    "        self.name=name\n",
    "        self.model=model\n",
    "        self.color=color\n",
    "    def getInfo(self):\n",
    "        print(\"Car Name: {}\\nCar Model: {}\\nCar color: {}\".format(self.name,self.model,self.color))\n",
    "class Person:\n",
    "    def __init__(self,name,age):\n",
    "        self.name=name\n",
    "        self.age=age\n",
    "    def eatndrink(self):\n",
    "        print(\"Eating Food & Drinking cold drink\")\n",
    "class Employee(Person):\n",
    "    def __init__(self,name,age,eno,esal,car):\n",
    "        super().__init__(name,age)\n",
    "        self.eno=eno\n",
    "        self.esal=esal\n",
    "        self.car=car\n",
    "    def work(self):\n",
    "        print(\"Coading Python Program:\")\n",
    "    def empInfo(self):\n",
    "        print(self.name)\n",
    "        print(self.age)\n",
    "        print(self.eno)\n",
    "        print(self.esal)\n",
    "        print('Employee Car Information: ')\n",
    "        self.car.getInfo()\n",
    "car=Car('Audie',2020,'Red')\n",
    "e=Employee(\"Durga\",48,872524,48000,car)\n",
    "e.eatndrink()\n",
    "e.work()\n",
    "e.empInfo()"
   ]
  },
  {
   "cell_type": "code",
   "execution_count": null,
   "metadata": {},
   "outputs": [],
   "source": []
  }
 ],
 "metadata": {
  "kernelspec": {
   "display_name": "Python 3",
   "language": "python",
   "name": "python3"
  },
  "language_info": {
   "codemirror_mode": {
    "name": "ipython",
    "version": 3
   },
   "file_extension": ".py",
   "mimetype": "text/x-python",
   "name": "python",
   "nbconvert_exporter": "python",
   "pygments_lexer": "ipython3",
   "version": "3.7.4"
  }
 },
 "nbformat": 4,
 "nbformat_minor": 2
}
