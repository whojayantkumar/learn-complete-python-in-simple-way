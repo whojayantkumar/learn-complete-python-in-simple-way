{
 "cells": [
  {
   "cell_type": "markdown",
   "metadata": {},
   "source": [
    "## Basic Idea about types of variables\n",
    "1. Instance\n",
    "2. Static\n",
    "3. Local"
   ]
  },
  {
   "cell_type": "code",
   "execution_count": 5,
   "metadata": {},
   "outputs": [],
   "source": [
    "# example\n",
    "class Student:\n",
    "    school_name=\"Durga soft\"           # static variable\n",
    "    def __init__(self,name,rollno):\n",
    "        self.name=name                 # Instance variable\n",
    "        self.rollno=rollno             # Instance variable\n",
    "    def info(self):\n",
    "        x=10                           # local variable\n",
    "        for i in range(x):             # i is local variable\n",
    "            print(i)\n",
    "s1=Student('Ram',101)"
   ]
  },
  {
   "cell_type": "code",
   "execution_count": 7,
   "metadata": {},
   "outputs": [
    {
     "name": "stdout",
     "output_type": "stream",
     "text": [
      "0\n",
      "1\n",
      "2\n",
      "3\n",
      "4\n",
      "5\n",
      "6\n",
      "7\n",
      "8\n",
      "9\n",
      "{'name': 'Ram', 'rollno': 101}\n"
     ]
    }
   ],
   "source": [
    "s1.info()\n",
    "print(s1.__dict__)"
   ]
  },
  {
   "cell_type": "markdown",
   "metadata": {},
   "source": [
    "## 1) Instance Variables:\n",
    "If the value of a variable is varied from object to object, then such type of variables are called instance variables.\n",
    "For every object a separate copy of instance variables will be created."
   ]
  },
  {
   "cell_type": "markdown",
   "metadata": {},
   "source": [
    "### Various places to declare Instance variables"
   ]
  },
  {
   "cell_type": "markdown",
   "metadata": {},
   "source": [
    "1. Inside Constructor by using self variable \n",
    "2. Inside Instance Method by using self variable \n",
    "3. Outside of the class by using object reference variable"
   ]
  },
  {
   "cell_type": "code",
   "execution_count": 2,
   "metadata": {},
   "outputs": [
    {
     "name": "stdout",
     "output_type": "stream",
     "text": [
      "{'a': 10, 'b': 20}\n"
     ]
    }
   ],
   "source": [
    "# inside constructor\n",
    "class Test:\n",
    "    def __init__(self): \n",
    "        self.a=10 \n",
    "        self.b=20\n",
    "t=Test()\n",
    "print(t.__dict__)"
   ]
  },
  {
   "cell_type": "code",
   "execution_count": 5,
   "metadata": {},
   "outputs": [
    {
     "name": "stdout",
     "output_type": "stream",
     "text": [
      "{'a': 10, 'b': 20}\n"
     ]
    }
   ],
   "source": [
    "# inside instance method\n",
    "class Test:\n",
    "    def __init__(self): # constructor\n",
    "        self.a=10       # instance variable inside constructor\n",
    "        self.b=20\n",
    "    def m(self): # instance method\n",
    "        self.c=30 # instance variable inside instance method\n",
    "t=Test()\n",
    "print(t.__dict__) "
   ]
  },
  {
   "cell_type": "code",
   "execution_count": 6,
   "metadata": {},
   "outputs": [
    {
     "name": "stdout",
     "output_type": "stream",
     "text": [
      "{'a': 10, 'b': 20, 'c': 30}\n"
     ]
    }
   ],
   "source": [
    "t.m()\n",
    "print(t.__dict__)"
   ]
  },
  {
   "cell_type": "code",
   "execution_count": 7,
   "metadata": {},
   "outputs": [
    {
     "name": "stdout",
     "output_type": "stream",
     "text": [
      "{'a': 10, 'b': 20, 'c': 30, 'd': 40}\n"
     ]
    }
   ],
   "source": [
    "# outside of the class\n",
    "class Test:\n",
    "    def __init__(self): # constructor\n",
    "        self.a=10       # instance variable inside constructor\n",
    "        self.b=20\n",
    "    def m(self): # instance method\n",
    "        self.c=30 # instance variable inside instance method\n",
    "t=Test() #a,b will be added to object\n",
    "t.m()    # c will be added to object\n",
    "t.d=40   # d will be added to object\n",
    "print(t.__dict__) "
   ]
  },
  {
   "cell_type": "code",
   "execution_count": 8,
   "metadata": {},
   "outputs": [
    {
     "name": "stdout",
     "output_type": "stream",
     "text": [
      "{'a': 10, 'b': 20}\n"
     ]
    }
   ],
   "source": [
    "t2=Test()\n",
    "print(t2.__dict__)"
   ]
  },
  {
   "cell_type": "markdown",
   "metadata": {},
   "source": [
    "### How to delete instance variable?"
   ]
  },
  {
   "cell_type": "markdown",
   "metadata": {},
   "source": [
    "### Within the class:\n",
    "del self.variable_name\n",
    "### from outside of class:\n",
    "def refrence_variable.variable_name\n"
   ]
  },
  {
   "cell_type": "code",
   "execution_count": 26,
   "metadata": {},
   "outputs": [
    {
     "name": "stdout",
     "output_type": "stream",
     "text": [
      "t1:  {'a': 10, 'b': 20, 'c': 30, 'd': 40}\n"
     ]
    }
   ],
   "source": [
    "# Example\n",
    "class Test:\n",
    "    def __init__(self):\n",
    "        self.a=10\n",
    "        self.b=20\n",
    "        self.c=30\n",
    "        self.d=40\n",
    "    def delete_variable(self):\n",
    "        del self.c # within class delete c\n",
    "t1=Test()\n",
    "print('t1: ',t1.__dict__)"
   ]
  },
  {
   "cell_type": "code",
   "execution_count": 16,
   "metadata": {},
   "outputs": [
    {
     "name": "stdout",
     "output_type": "stream",
     "text": [
      "t1:  {'a': 10, 'b': 20, 'd': 40}\n"
     ]
    }
   ],
   "source": [
    "t1.delete_variable() # because of this line c will be deleted\n",
    "print('t1: ',t1.__dict__)"
   ]
  },
  {
   "cell_type": "code",
   "execution_count": 22,
   "metadata": {},
   "outputs": [
    {
     "name": "stdout",
     "output_type": "stream",
     "text": [
      "t2:  {'a': 10, 'b': 20, 'c': 30, 'd': 40}\n"
     ]
    }
   ],
   "source": [
    "t2=Test()\n",
    "print('t2: ',t2.__dict__)"
   ]
  },
  {
   "cell_type": "code",
   "execution_count": 23,
   "metadata": {},
   "outputs": [
    {
     "name": "stdout",
     "output_type": "stream",
     "text": [
      "t2:  {'a': 10, 'c': 30}\n"
     ]
    }
   ],
   "source": [
    "# outside of class\n",
    "del t2.b, t2.d    #  because of this line b,d will be deleted\n",
    "print('t2: ',t2.__dict__)"
   ]
  },
  {
   "cell_type": "markdown",
   "metadata": {},
   "source": [
    "## 2. Static variables\n",
    "1. If the value of a variable is not varied from object to object, such type of variables we have to declare with in the class directly but outside of methods. Such types of variables are called Static variables. \n",
    "2. For total class only one copy of static variable will be created and shared by all objects of that class. \n",
    "3. We can access static variables either by class name or by object reference. But recommended to use class name."
   ]
  },
  {
   "cell_type": "code",
   "execution_count": 2,
   "metadata": {},
   "outputs": [
    {
     "name": "stdout",
     "output_type": "stream",
     "text": [
      "10\n"
     ]
    }
   ],
   "source": [
    "class Test:\n",
    "    x=10 # static variable\n",
    "print(Test.x)"
   ]
  },
  {
   "cell_type": "markdown",
   "metadata": {},
   "source": [
    "## Various Places to declare Static variable\n",
    "1. In general we can declare within the class directly but from out side of any method \n",
    "2. Inside constructor by using class name \n",
    "3. Inside instance method by using class name \n",
    "4. Inside classmethod by using either class name or cls variable \n",
    "5. Inside static method by using class name\n",
    "6. From outside of the class by using class name."
   ]
  },
  {
   "cell_type": "code",
   "execution_count": 8,
   "metadata": {},
   "outputs": [
    {
     "name": "stdout",
     "output_type": "stream",
     "text": [
      "{'__module__': '__main__', 'a': 10, '__init__': <function Test.__init__ at 0x000002560F21F168>, 'm1': <function Test.m1 at 0x000002560F21F1F8>, 'm2': <classmethod object at 0x000002560F2190C8>, 'm3': <staticmethod object at 0x000002560F219448>, '__dict__': <attribute '__dict__' of 'Test' objects>, '__weakref__': <attribute '__weakref__' of 'Test' objects>, '__doc__': None, 'g': 70}\n",
      "{'__module__': '__main__', 'a': 10, '__init__': <function Test.__init__ at 0x000002560F21F168>, 'm1': <function Test.m1 at 0x000002560F21F1F8>, 'm2': <classmethod object at 0x000002560F2190C8>, 'm3': <staticmethod object at 0x000002560F219448>, '__dict__': <attribute '__dict__' of 'Test' objects>, '__weakref__': <attribute '__weakref__' of 'Test' objects>, '__doc__': None, 'g': 70, 'b': 20, 'c': 30}\n",
      "{'__module__': '__main__', 'a': 10, '__init__': <function Test.__init__ at 0x000002560F21F168>, 'm1': <function Test.m1 at 0x000002560F21F1F8>, 'm2': <classmethod object at 0x000002560F2190C8>, 'm3': <staticmethod object at 0x000002560F219448>, '__dict__': <attribute '__dict__' of 'Test' objects>, '__weakref__': <attribute '__weakref__' of 'Test' objects>, '__doc__': None, 'g': 70, 'b': 20, 'c': 30, 'd': 40, 'e': 50}\n",
      "{'__module__': '__main__', 'a': 10, '__init__': <function Test.__init__ at 0x000002560F21F168>, 'm1': <function Test.m1 at 0x000002560F21F1F8>, 'm2': <classmethod object at 0x000002560F2190C8>, 'm3': <staticmethod object at 0x000002560F219448>, '__dict__': <attribute '__dict__' of 'Test' objects>, '__weakref__': <attribute '__weakref__' of 'Test' objects>, '__doc__': None, 'g': 70, 'b': 20, 'c': 30, 'd': 40, 'e': 50, 'f': 60}\n"
     ]
    }
   ],
   "source": [
    "class Test:\n",
    "    a=10                  # within class but from out side of any method\n",
    "    def __init__(self):\n",
    "        Test.b=20         #inside constructor\n",
    "    def m1(self):\n",
    "        Test.c=30       # inside instance method\n",
    "    @classmethod\n",
    "    def m2(cls):\n",
    "        cls.d=40         # inside class method by using cls variable\n",
    "        Test.e=50       #inside class method\n",
    "    @staticmethod\n",
    "    def m3():\n",
    "        Test.f=60        # inside static method\n",
    "Test.g=70 # outside of class\n",
    "print(Test.__dict__)\n",
    "t=Test()\n",
    "t.m1()\n",
    "print(Test.__dict__)\n",
    "t.m2()\n",
    "print(Test.__dict__)\n",
    "t.m3()\n",
    "print(Test.__dict__)\n",
    "\n",
    "    "
   ]
  },
  {
   "cell_type": "markdown",
   "metadata": {},
   "source": [
    "## How to access static variable"
   ]
  },
  {
   "cell_type": "code",
   "execution_count": 10,
   "metadata": {},
   "outputs": [
    {
     "name": "stdout",
     "output_type": "stream",
     "text": [
      "10\n",
      "10\n"
     ]
    }
   ],
   "source": [
    "# inside constructor by using self or classname\n",
    "class Test:\n",
    "    a=10\n",
    "    def __init__(self):\n",
    "        print(self.a)     # by using refrence variable\n",
    "        print(Test.a)     # by using class name\n",
    "t=Test()"
   ]
  },
  {
   "cell_type": "code",
   "execution_count": 13,
   "metadata": {},
   "outputs": [
    {
     "name": "stdout",
     "output_type": "stream",
     "text": [
      "20\n",
      "20\n"
     ]
    }
   ],
   "source": [
    "# inside instance method by using self or classname\n",
    "class Test:\n",
    "    a=20\n",
    "    def m1(self):\n",
    "        print(self.a)\n",
    "        print(Test.a)\n",
    "t=Test()\n",
    "t.m1()"
   ]
  },
  {
   "cell_type": "code",
   "execution_count": 19,
   "metadata": {},
   "outputs": [
    {
     "name": "stdout",
     "output_type": "stream",
     "text": [
      "21\n",
      "21\n"
     ]
    }
   ],
   "source": [
    "# inside class method by using cls or classname\n",
    "class Test:\n",
    "    a=21\n",
    "    @classmethod\n",
    "    def m1(cls): # here cls is a class refrence variable\n",
    "        print(cls.a)\n",
    "        print(Test.a)\n",
    "        \n",
    "t=Test()\n",
    "t.m1()"
   ]
  },
  {
   "cell_type": "code",
   "execution_count": 21,
   "metadata": {},
   "outputs": [
    {
     "name": "stdout",
     "output_type": "stream",
     "text": [
      "30\n"
     ]
    }
   ],
   "source": [
    "# inside static method by using classname\n",
    "class Test:\n",
    "    a=30\n",
    "    @staticmethod\n",
    "    def m1():\n",
    "        print(Test.a)\n",
    "t=Test()\n",
    "t.m1()"
   ]
  },
  {
   "cell_type": "code",
   "execution_count": 23,
   "metadata": {},
   "outputs": [
    {
     "name": "stdout",
     "output_type": "stream",
     "text": [
      "40\n",
      "40\n"
     ]
    }
   ],
   "source": [
    "# outside of the class either by object refrence or by classname\n",
    "class Test:\n",
    "    a=40\n",
    "print(Test.a)\n",
    "t=Test()\n",
    "print(t.a)"
   ]
  },
  {
   "cell_type": "markdown",
   "metadata": {},
   "source": [
    "## Where we can modify the value of static variable"
   ]
  },
  {
   "cell_type": "code",
   "execution_count": 38,
   "metadata": {},
   "outputs": [
    {
     "name": "stdout",
     "output_type": "stream",
     "text": [
      "10\n"
     ]
    }
   ],
   "source": [
    "# only classname or cls variable \n",
    "class Test:\n",
    "    a=10\n",
    "    def __init__(self):\n",
    "        Test.a=20\n",
    "    def method(self):\n",
    "        Test.a=25\n",
    "    @classmethod\n",
    "    def m1(cls):\n",
    "        cls.a=30\n",
    "    @staticmethod\n",
    "    def m2():\n",
    "        Test.a=40\n",
    "print(Test.a)"
   ]
  },
  {
   "cell_type": "code",
   "execution_count": 39,
   "metadata": {},
   "outputs": [
    {
     "name": "stdout",
     "output_type": "stream",
     "text": [
      "20\n"
     ]
    }
   ],
   "source": [
    "t=Test()\n",
    "print(Test.a)"
   ]
  },
  {
   "cell_type": "code",
   "execution_count": 46,
   "metadata": {},
   "outputs": [
    {
     "name": "stdout",
     "output_type": "stream",
     "text": [
      "25\n"
     ]
    }
   ],
   "source": [
    "t.method()\n",
    "print(Test.a)"
   ]
  },
  {
   "cell_type": "code",
   "execution_count": 44,
   "metadata": {},
   "outputs": [
    {
     "name": "stdout",
     "output_type": "stream",
     "text": [
      "30\n"
     ]
    }
   ],
   "source": [
    "Test.m1()\n",
    "print(Test.a)"
   ]
  },
  {
   "cell_type": "code",
   "execution_count": 47,
   "metadata": {},
   "outputs": [
    {
     "name": "stdout",
     "output_type": "stream",
     "text": [
      "40\n"
     ]
    }
   ],
   "source": [
    "Test.m2()\n",
    "print(Test.a)"
   ]
  },
  {
   "cell_type": "code",
   "execution_count": 48,
   "metadata": {},
   "outputs": [
    {
     "name": "stdout",
     "output_type": "stream",
     "text": [
      "100\n"
     ]
    }
   ],
   "source": [
    "Test.a=100\n",
    "print(Test.a)"
   ]
  },
  {
   "cell_type": "markdown",
   "metadata": {},
   "source": [
    "## How to delete static varaiables?\n",
    "by using classname or cls variable"
   ]
  },
  {
   "cell_type": "code",
   "execution_count": 60,
   "metadata": {},
   "outputs": [
    {
     "name": "stdout",
     "output_type": "stream",
     "text": [
      "{'__module__': '__main__', 'a': 888, 'b': 999, 'm1': <classmethod object at 0x00000256111FC648>, '__dict__': <attribute '__dict__' of 'Test' objects>, '__weakref__': <attribute '__weakref__' of 'Test' objects>, '__doc__': None}\n",
      "{'__module__': '__main__', 'b': 999, 'm1': <classmethod object at 0x00000256111FC648>, '__dict__': <attribute '__dict__' of 'Test' objects>, '__weakref__': <attribute '__weakref__' of 'Test' objects>, '__doc__': None}\n"
     ]
    }
   ],
   "source": [
    "class Test:\n",
    "    a=888\n",
    "    b=999\n",
    "    @classmethod\n",
    "    def m1(cls):\n",
    "        del cls.a\n",
    "print(Test.__dict__)\n",
    "Test.m1()\n",
    "print(Test.__dict__)"
   ]
  },
  {
   "cell_type": "code",
   "execution_count": 61,
   "metadata": {},
   "outputs": [
    {
     "name": "stdout",
     "output_type": "stream",
     "text": [
      "{'__module__': '__main__', 'm1': <classmethod object at 0x00000256111FC648>, '__dict__': <attribute '__dict__' of 'Test' objects>, '__weakref__': <attribute '__weakref__' of 'Test' objects>, '__doc__': None}\n"
     ]
    }
   ],
   "source": [
    "del Test.b\n",
    "print(Test.__dict__)"
   ]
  },
  {
   "cell_type": "markdown",
   "metadata": {},
   "source": [
    "## Local Variables:\n",
    "method level variables, temporary variables"
   ]
  },
  {
   "cell_type": "code",
   "execution_count": 67,
   "metadata": {},
   "outputs": [
    {
     "name": "stdout",
     "output_type": "stream",
     "text": [
      "30.0\n"
     ]
    }
   ],
   "source": [
    "class Test:\n",
    "    @staticmethod\n",
    "    def average(list1):\n",
    "        result= sum(list1)/len(list1) # here list1 and result are local variable\n",
    "        return result\n",
    "list1=[10,20,30,40,50]\n",
    "print(Test.average(list1))"
   ]
  },
  {
   "cell_type": "markdown",
   "metadata": {},
   "source": [
    "### Passing Members of One Class to Another Class:"
   ]
  },
  {
   "cell_type": "code",
   "execution_count": 70,
   "metadata": {},
   "outputs": [
    {
     "name": "stdout",
     "output_type": "stream",
     "text": [
      "Employee No. :  101\n",
      "Employee Name:  Durga\n",
      "Employee Salary:  55000\n"
     ]
    }
   ],
   "source": [
    "class Employee:\n",
    "    def __init__(self,eno,ename,esal):\n",
    "        self.eno=eno\n",
    "        self.ename=ename\n",
    "        self.esal=esal\n",
    "    def display(self):\n",
    "        print(\"Employee No. : \",self.eno)\n",
    "        print(\"Employee Name: \",self.ename)\n",
    "        print(\"Employee Salary: \",self.esal)\n",
    "class Manager:\n",
    "    def updateEmpSal(emp):\n",
    "        emp.esal=emp.esal+10000\n",
    "        emp.display()\n",
    "emp=Employee(101,'Durga',45000)\n",
    "Manager.updateEmpSal(emp)"
   ]
  },
  {
   "cell_type": "code",
   "execution_count": null,
   "metadata": {},
   "outputs": [],
   "source": []
  }
 ],
 "metadata": {
  "kernelspec": {
   "display_name": "Python 3",
   "language": "python",
   "name": "python3"
  },
  "language_info": {
   "codemirror_mode": {
    "name": "ipython",
    "version": 3
   },
   "file_extension": ".py",
   "mimetype": "text/x-python",
   "name": "python",
   "nbconvert_exporter": "python",
   "pygments_lexer": "ipython3",
   "version": "3.7.4"
  }
 },
 "nbformat": 4,
 "nbformat_minor": 2
}
