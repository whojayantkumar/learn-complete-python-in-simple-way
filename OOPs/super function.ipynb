{
 "cells": [
  {
   "cell_type": "markdown",
   "metadata": {},
   "source": [
    "# super() Function\n",
    "super() is a built-in method which is useful to call the super class constructors,variables and methods from the child class."
   ]
  },
  {
   "cell_type": "code",
   "execution_count": 1,
   "metadata": {},
   "outputs": [
    {
     "ename": "RecursionError",
     "evalue": "maximum recursion depth exceeded",
     "output_type": "error",
     "traceback": [
      "\u001b[1;31m---------------------------------------------------------------------------\u001b[0m",
      "\u001b[1;31mRecursionError\u001b[0m                            Traceback (most recent call last)",
      "\u001b[1;32m<ipython-input-1-03c56635dba1>\u001b[0m in \u001b[0;36m<module>\u001b[1;34m\u001b[0m\n\u001b[0;32m      7\u001b[0m         \u001b[0mprint\u001b[0m\u001b[1;33m(\u001b[0m\u001b[1;34m\"C method\"\u001b[0m\u001b[1;33m)\u001b[0m\u001b[1;33m\u001b[0m\u001b[1;33m\u001b[0m\u001b[0m\n\u001b[0;32m      8\u001b[0m \u001b[0mc\u001b[0m\u001b[1;33m=\u001b[0m\u001b[0mC\u001b[0m\u001b[1;33m(\u001b[0m\u001b[1;33m)\u001b[0m\u001b[1;33m\u001b[0m\u001b[1;33m\u001b[0m\u001b[0m\n\u001b[1;32m----> 9\u001b[1;33m \u001b[0mc\u001b[0m\u001b[1;33m.\u001b[0m\u001b[0mm1\u001b[0m\u001b[1;33m(\u001b[0m\u001b[1;33m)\u001b[0m\u001b[1;33m\u001b[0m\u001b[1;33m\u001b[0m\u001b[0m\n\u001b[0m",
      "\u001b[1;32m<ipython-input-1-03c56635dba1>\u001b[0m in \u001b[0;36mm1\u001b[1;34m(self)\u001b[0m\n\u001b[0;32m      4\u001b[0m \u001b[1;32mclass\u001b[0m \u001b[0mC\u001b[0m\u001b[1;33m(\u001b[0m\u001b[0mP\u001b[0m\u001b[1;33m)\u001b[0m\u001b[1;33m:\u001b[0m\u001b[1;33m\u001b[0m\u001b[1;33m\u001b[0m\u001b[0m\n\u001b[0;32m      5\u001b[0m     \u001b[1;32mdef\u001b[0m \u001b[0mm1\u001b[0m\u001b[1;33m(\u001b[0m\u001b[0mself\u001b[0m\u001b[1;33m)\u001b[0m\u001b[1;33m:\u001b[0m\u001b[1;33m\u001b[0m\u001b[1;33m\u001b[0m\u001b[0m\n\u001b[1;32m----> 6\u001b[1;33m         \u001b[0mself\u001b[0m\u001b[1;33m.\u001b[0m\u001b[0mm1\u001b[0m\u001b[1;33m(\u001b[0m\u001b[1;33m)\u001b[0m\u001b[1;33m\u001b[0m\u001b[1;33m\u001b[0m\u001b[0m\n\u001b[0m\u001b[0;32m      7\u001b[0m         \u001b[0mprint\u001b[0m\u001b[1;33m(\u001b[0m\u001b[1;34m\"C method\"\u001b[0m\u001b[1;33m)\u001b[0m\u001b[1;33m\u001b[0m\u001b[1;33m\u001b[0m\u001b[0m\n\u001b[0;32m      8\u001b[0m \u001b[0mc\u001b[0m\u001b[1;33m=\u001b[0m\u001b[0mC\u001b[0m\u001b[1;33m(\u001b[0m\u001b[1;33m)\u001b[0m\u001b[1;33m\u001b[0m\u001b[1;33m\u001b[0m\u001b[0m\n",
      "... last 1 frames repeated, from the frame below ...\n",
      "\u001b[1;32m<ipython-input-1-03c56635dba1>\u001b[0m in \u001b[0;36mm1\u001b[1;34m(self)\u001b[0m\n\u001b[0;32m      4\u001b[0m \u001b[1;32mclass\u001b[0m \u001b[0mC\u001b[0m\u001b[1;33m(\u001b[0m\u001b[0mP\u001b[0m\u001b[1;33m)\u001b[0m\u001b[1;33m:\u001b[0m\u001b[1;33m\u001b[0m\u001b[1;33m\u001b[0m\u001b[0m\n\u001b[0;32m      5\u001b[0m     \u001b[1;32mdef\u001b[0m \u001b[0mm1\u001b[0m\u001b[1;33m(\u001b[0m\u001b[0mself\u001b[0m\u001b[1;33m)\u001b[0m\u001b[1;33m:\u001b[0m\u001b[1;33m\u001b[0m\u001b[1;33m\u001b[0m\u001b[0m\n\u001b[1;32m----> 6\u001b[1;33m         \u001b[0mself\u001b[0m\u001b[1;33m.\u001b[0m\u001b[0mm1\u001b[0m\u001b[1;33m(\u001b[0m\u001b[1;33m)\u001b[0m\u001b[1;33m\u001b[0m\u001b[1;33m\u001b[0m\u001b[0m\n\u001b[0m\u001b[0;32m      7\u001b[0m         \u001b[0mprint\u001b[0m\u001b[1;33m(\u001b[0m\u001b[1;34m\"C method\"\u001b[0m\u001b[1;33m)\u001b[0m\u001b[1;33m\u001b[0m\u001b[1;33m\u001b[0m\u001b[0m\n\u001b[0;32m      8\u001b[0m \u001b[0mc\u001b[0m\u001b[1;33m=\u001b[0m\u001b[0mC\u001b[0m\u001b[1;33m(\u001b[0m\u001b[1;33m)\u001b[0m\u001b[1;33m\u001b[0m\u001b[1;33m\u001b[0m\u001b[0m\n",
      "\u001b[1;31mRecursionError\u001b[0m: maximum recursion depth exceeded"
     ]
    }
   ],
   "source": [
    "class P:\n",
    "    def m1(self):\n",
    "        print(\"P method\")\n",
    "class C(P):\n",
    "    def m1(self):\n",
    "        self.m1()\n",
    "        print(\"C method\")\n",
    "c=C()\n",
    "c.m1()"
   ]
  },
  {
   "cell_type": "code",
   "execution_count": 2,
   "metadata": {},
   "outputs": [
    {
     "name": "stdout",
     "output_type": "stream",
     "text": [
      "P method\n",
      "C method\n"
     ]
    }
   ],
   "source": [
    "# so we required super() function to solve this type of problem\n",
    "class P:\n",
    "    def m1(self):\n",
    "        print(\"P method\")\n",
    "class C(P):\n",
    "    def m1(self):\n",
    "        super().m1()\n",
    "        print(\"C method\")\n",
    "c=C()\n",
    "c.m1()"
   ]
  },
  {
   "cell_type": "code",
   "execution_count": 15,
   "metadata": {},
   "outputs": [
    {
     "name": "stdout",
     "output_type": "stream",
     "text": [
      "C constructor\n",
      "10\n",
      "P instance_method\n",
      "P class_method\n",
      "P static_method\n",
      "C constructor\n"
     ]
    }
   ],
   "source": [
    "# Demo Program 1\n",
    "class P:\n",
    "    a=10\n",
    "    def __init__(self):\n",
    "        print(\"P Constructor\")\n",
    "    def m1(self):\n",
    "        print(\"P instance_method\")\n",
    "    @classmethod\n",
    "    def m2(cls):\n",
    "        print(\"P class_method\")\n",
    "    @staticmethod\n",
    "    def m3():\n",
    "        print(\"P static_method\")\n",
    "class C(P):\n",
    "    def __init__(self):\n",
    "        print(\"C constructor\")\n",
    "    def method1(self):\n",
    "        print(self.a)\n",
    "        self.m1()\n",
    "        self.m2()\n",
    "        self.m3()\n",
    "        super().__init__() # naming conflict so we use super() instead of self\n",
    "c=C()\n",
    "c.method1()"
   ]
  },
  {
   "cell_type": "code",
   "execution_count": 23,
   "metadata": {},
   "outputs": [
    {
     "name": "stdout",
     "output_type": "stream",
     "text": [
      "Name:  Ravi\n",
      "Age:  24\n",
      "Height:  5.7\n",
      "Weight:  70\n",
      "Rollno:  101\n",
      "Marks:  95\n"
     ]
    }
   ],
   "source": [
    "# Demo Program 2\n",
    "class Person:\n",
    "    def __init__(self,name,age,height,weight):\n",
    "        self.name=name\n",
    "        self.age=age\n",
    "        self.height=height\n",
    "        self.weight=weight\n",
    "    def display(self):\n",
    "        print(\"Name: \",self.name)\n",
    "        print(\"Age: \",self.age)\n",
    "        print(\"Height: \",self.height)\n",
    "        print(\"Weight: \",self.weight)\n",
    "class Student(Person):\n",
    "    def __init__(self,name,age,height,weight,rollno,marks):\n",
    "        super().__init__(name,age,height,weight)\n",
    "        self.rollno=rollno\n",
    "        self.marks=marks\n",
    "    def display(self):\n",
    "        super().display()\n",
    "        print(\"Rollno: \",self.rollno)\n",
    "        print(\"Marks: \",self.marks)\n",
    "s=Student('Ravi',24,5.7,70,101,95)\n",
    "s.display()"
   ]
  },
  {
   "cell_type": "markdown",
   "metadata": {},
   "source": [
    "## How to Call Method of a Particular Super Class: \n",
    "We can use the following approaches"
   ]
  },
  {
   "cell_type": "markdown",
   "metadata": {},
   "source": [
    "1. super(D, self).m1() It will call m1() method of super class of D.\n",
    "2. A.m1(self) It will call A class m1() method"
   ]
  },
  {
   "cell_type": "code",
   "execution_count": 26,
   "metadata": {},
   "outputs": [
    {
     "name": "stdout",
     "output_type": "stream",
     "text": [
      "A class Method\n",
      "C class Method\n"
     ]
    }
   ],
   "source": [
    "#Example\n",
    "class A:\n",
    "    def m1(self):\n",
    "        print('A class Method')\n",
    "class B(A):\n",
    "    def m1(self):\n",
    "        print('B class Method')\n",
    "class C(B):\n",
    "    def m1(self):\n",
    "        print('C class Method')\n",
    "class D(C):\n",
    "    def m1(self):\n",
    "        print('D class Method')\n",
    "class E(D):\n",
    "    def m1(self):\n",
    "        A.m1(self)        # it calls A class Method\n",
    "        super(D,self).m1() # it calls C class m1 method\n",
    "e=E()\n",
    "e.m1()\n",
    "        "
   ]
  },
  {
   "cell_type": "markdown",
   "metadata": {},
   "source": [
    "###  Various Important Points about super():\n",
    "- Case-1: From child class we are not allowed to access parent class instance variables by using super(), Compulsory we should use self only. But we can access parent class static variables by using super()."
   ]
  },
  {
   "cell_type": "code",
   "execution_count": 27,
   "metadata": {},
   "outputs": [
    {
     "name": "stdout",
     "output_type": "stream",
     "text": [
      "888\n",
      "999\n",
      "888\n"
     ]
    },
    {
     "ename": "AttributeError",
     "evalue": "'super' object has no attribute 'b'",
     "output_type": "error",
     "traceback": [
      "\u001b[1;31m---------------------------------------------------------------------------\u001b[0m",
      "\u001b[1;31mAttributeError\u001b[0m                            Traceback (most recent call last)",
      "\u001b[1;32m<ipython-input-27-90610fb80394>\u001b[0m in \u001b[0;36m<module>\u001b[1;34m\u001b[0m\n\u001b[0;32m     10\u001b[0m         \u001b[0mprint\u001b[0m\u001b[1;33m(\u001b[0m\u001b[0msuper\u001b[0m\u001b[1;33m(\u001b[0m\u001b[1;33m)\u001b[0m\u001b[1;33m.\u001b[0m\u001b[0mb\u001b[0m\u001b[1;33m)\u001b[0m  \u001b[1;31m#invalid\u001b[0m\u001b[1;33m\u001b[0m\u001b[1;33m\u001b[0m\u001b[0m\n\u001b[0;32m     11\u001b[0m \u001b[0mc\u001b[0m\u001b[1;33m=\u001b[0m\u001b[0mC\u001b[0m\u001b[1;33m(\u001b[0m\u001b[1;33m)\u001b[0m\u001b[1;33m\u001b[0m\u001b[1;33m\u001b[0m\u001b[0m\n\u001b[1;32m---> 12\u001b[1;33m \u001b[0mc\u001b[0m\u001b[1;33m.\u001b[0m\u001b[0mm1\u001b[0m\u001b[1;33m(\u001b[0m\u001b[1;33m)\u001b[0m\u001b[1;33m\u001b[0m\u001b[1;33m\u001b[0m\u001b[0m\n\u001b[0m",
      "\u001b[1;32m<ipython-input-27-90610fb80394>\u001b[0m in \u001b[0;36mm1\u001b[1;34m(self)\u001b[0m\n\u001b[0;32m      8\u001b[0m         \u001b[0mprint\u001b[0m\u001b[1;33m(\u001b[0m\u001b[0mself\u001b[0m\u001b[1;33m.\u001b[0m\u001b[0mb\u001b[0m\u001b[1;33m)\u001b[0m \u001b[1;31m# valid\u001b[0m\u001b[1;33m\u001b[0m\u001b[1;33m\u001b[0m\u001b[0m\n\u001b[0;32m      9\u001b[0m         \u001b[0mprint\u001b[0m\u001b[1;33m(\u001b[0m\u001b[0msuper\u001b[0m\u001b[1;33m(\u001b[0m\u001b[1;33m)\u001b[0m\u001b[1;33m.\u001b[0m\u001b[0ma\u001b[0m\u001b[1;33m)\u001b[0m  \u001b[1;31m# valid\u001b[0m\u001b[1;33m\u001b[0m\u001b[1;33m\u001b[0m\u001b[0m\n\u001b[1;32m---> 10\u001b[1;33m         \u001b[0mprint\u001b[0m\u001b[1;33m(\u001b[0m\u001b[0msuper\u001b[0m\u001b[1;33m(\u001b[0m\u001b[1;33m)\u001b[0m\u001b[1;33m.\u001b[0m\u001b[0mb\u001b[0m\u001b[1;33m)\u001b[0m  \u001b[1;31m#invalid\u001b[0m\u001b[1;33m\u001b[0m\u001b[1;33m\u001b[0m\u001b[0m\n\u001b[0m\u001b[0;32m     11\u001b[0m \u001b[0mc\u001b[0m\u001b[1;33m=\u001b[0m\u001b[0mC\u001b[0m\u001b[1;33m(\u001b[0m\u001b[1;33m)\u001b[0m\u001b[1;33m\u001b[0m\u001b[1;33m\u001b[0m\u001b[0m\n\u001b[0;32m     12\u001b[0m \u001b[0mc\u001b[0m\u001b[1;33m.\u001b[0m\u001b[0mm1\u001b[0m\u001b[1;33m(\u001b[0m\u001b[1;33m)\u001b[0m\u001b[1;33m\u001b[0m\u001b[1;33m\u001b[0m\u001b[0m\n",
      "\u001b[1;31mAttributeError\u001b[0m: 'super' object has no attribute 'b'"
     ]
    }
   ],
   "source": [
    "class P:\n",
    "    a=888\n",
    "    def __init__(self):\n",
    "        self.b=999\n",
    "class C(P):\n",
    "    def m1(self):\n",
    "        print(self.a)  #valid\n",
    "        print(self.b) # valid\n",
    "        print(super().a)  # valid\n",
    "        print(super().b)  #invalid\n",
    "c=C()\n",
    "c.m1()"
   ]
  },
  {
   "cell_type": "markdown",
   "metadata": {},
   "source": [
    "- Case-2: From child class constructor and instance method, we can access parent class instance method, static method and class method by using super()\n",
    "- Case-3: From child class, class method we cannot access parent class instance methods and constructors by using super() directly(but indirectly possible). But we can access parent class static and class methods."
   ]
  },
  {
   "cell_type": "code",
   "execution_count": 33,
   "metadata": {},
   "outputs": [
    {
     "name": "stdout",
     "output_type": "stream",
     "text": [
      "P Constructor\n",
      "P instance_method\n",
      "P class_method\n",
      "P static_method\n",
      "P Constructor\n",
      "P instance_method\n",
      "P class_method\n",
      "P static_method\n",
      "P class_method\n",
      "P static_method\n"
     ]
    }
   ],
   "source": [
    "class P:\n",
    "    def __init__(self):\n",
    "        print(\"P Constructor\")\n",
    "    def m1(self):\n",
    "        print(\"P instance_method\")\n",
    "    @classmethod\n",
    "    def m2(cls):\n",
    "        print(\"P class_method\")\n",
    "    @staticmethod\n",
    "    def m3():\n",
    "        print(\"P static_method\")\n",
    "class C(P):\n",
    "    def __init__(self):\n",
    "        super().__init__()\n",
    "        super().m1()\n",
    "        super().m2()\n",
    "        super().m3()\n",
    "    def m1(self):\n",
    "        super().__init__()\n",
    "        super().m1()\n",
    "        super().m2()\n",
    "        super().m3()\n",
    "    @classmethod\n",
    "    def m2(cls):\n",
    "        #super().__init__()  #invalid\n",
    "        #super().m1()        #invalid\n",
    "        super().m2()\n",
    "        super().m3()\n",
    "    @staticmethod\n",
    "    def m3():\n",
    "        #super().__init__() #invalid\n",
    "        #super().m1()    #invalid\n",
    "        #super().m2()       #invalid\n",
    "        #super().m3()      #invalid\n",
    "        pass\n",
    "c=C()\n",
    "c.m1()\n",
    "c.m2()\n",
    "c.m3()\n"
   ]
  },
  {
   "cell_type": "markdown",
   "metadata": {},
   "source": [
    "- How to Call Parent Class Static Method from Child Class Static Method by using super():"
   ]
  },
  {
   "cell_type": "code",
   "execution_count": 4,
   "metadata": {},
   "outputs": [
    {
     "name": "stdout",
     "output_type": "stream",
     "text": [
      "P constructor\n",
      "P Instance Method\n",
      "P class_method\n",
      "P static_method\n"
     ]
    }
   ],
   "source": [
    "class P:\n",
    "    def __init__(self):\n",
    "        print(\"P constructor\")\n",
    "    def m1(self):\n",
    "        print(\"P Instance Method\")\n",
    "    @classmethod\n",
    "    def m2(cls):\n",
    "        print(\"P class_method\")\n",
    "    @staticmethod\n",
    "    def m3():\n",
    "        print(\"P static_method\")\n",
    "class C(P):\n",
    "    @classmethod\n",
    "    def m4(cls):\n",
    "        super(C,cls).__init__(cls)\n",
    "        super(C,cls).m1(cls)\n",
    "    @staticmethod\n",
    "    def m5():\n",
    "        super(C,C).m2()\n",
    "        super(C,C).m3()\n",
    "C.m4()\n",
    "C.m5()"
   ]
  },
  {
   "cell_type": "markdown",
   "metadata": {},
   "source": []
  }
 ],
 "metadata": {
  "kernelspec": {
   "display_name": "Python 3",
   "language": "python",
   "name": "python3"
  },
  "language_info": {
   "codemirror_mode": {
    "name": "ipython",
    "version": 3
   },
   "file_extension": ".py",
   "mimetype": "text/x-python",
   "name": "python",
   "nbconvert_exporter": "python",
   "pygments_lexer": "ipython3",
   "version": "3.7.4"
  }
 },
 "nbformat": 4,
 "nbformat_minor": 2
}
