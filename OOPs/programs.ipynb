{
 "cells": [
  {
   "cell_type": "markdown",
   "metadata": {},
   "source": [
    "## Mini application to explain OOPs"
   ]
  },
  {
   "cell_type": "code",
   "execution_count": 3,
   "metadata": {},
   "outputs": [
    {
     "name": "stdout",
     "output_type": "stream",
     "text": [
      "\n",
      "Enter Movie Name: Bhahubali\n",
      "Enter Hero Name: Prabhas\n",
      "Enter Heroine Name: Tamana\n",
      "Movie added successfully ...\n",
      "Do you want to add another movie ?[Yes/No] :yes\n",
      "\n",
      "Enter Movie Name: Saho\n",
      "Enter Hero Name: Prabhas\n",
      "Enter Heroine Name: Shradha\n",
      "Movie added successfully ...\n",
      "Do you want to add another movie ?[Yes/No] :yes\n",
      "\n",
      "Enter Movie Name: Sultan\n",
      "Enter Hero Name: Salman\n",
      "Enter Heroine Name: Anushka\n",
      "Movie added successfully ...\n",
      "Do you want to add another movie ?[Yes/No] :yes\n",
      "\n",
      "Enter Movie Name: Dangal\n",
      "Enter Hero Name: Amir khan\n",
      "Enter Heroine Name: Jaira\n",
      "Movie added successfully ...\n",
      "Do you want to add another movie ?[Yes/No] :yes\n",
      "\n",
      "Enter Movie Name: Ramyan\n",
      "Enter Hero Name: Ram\n",
      "Enter Heroine Name: Seeta\n",
      "Movie added successfully ...\n",
      "Do you want to add another movie ?[Yes/No] :yes\n",
      "\n",
      "Enter Movie Name: Partner\n",
      "Enter Hero Name: Govinda\n",
      "Enter Heroine Name: Katrina kaif\n",
      "Movie added successfully ...\n",
      "Do you want to add another movie ?[Yes/No] :no\n",
      "\n",
      "Do you want to display all movies information ?[Yes/No] :yes\n",
      "\n",
      "Movie Name:  Bhahubali\n",
      "Movie Hero:  Prabhas\n",
      "Movie Heroine:  Tamana\n",
      "\n",
      "Movie Name:  Saho\n",
      "Movie Hero:  Prabhas\n",
      "Movie Heroine:  Shradha\n",
      "\n",
      "Movie Name:  Sultan\n",
      "Movie Hero:  Salman\n",
      "Movie Heroine:  Anushka\n",
      "\n",
      "Movie Name:  Dangal\n",
      "Movie Hero:  Amir khan\n",
      "Movie Heroine:  Jaira\n",
      "\n",
      "Movie Name:  Ramyan\n",
      "Movie Hero:  Ram\n",
      "Movie Heroine:  Seeta\n",
      "\n",
      "Movie Name:  Partner\n",
      "Movie Hero:  Govinda\n",
      "Movie Heroine:  Katrina kaif\n"
     ]
    }
   ],
   "source": [
    "class Movie:\n",
    "    def __init__(self,title,hero,heroine):\n",
    "        self.title=title\n",
    "        self.hero=hero\n",
    "        self.heroine=heroine\n",
    "    def movie_info(self):\n",
    "        print(\"Movie Name: \",self.title)\n",
    "        print(\"Movie Hero: \",self.hero)\n",
    "        print(\"Movie Heroine: \",self.heroine)\n",
    "list_of_movies =[]\n",
    "while True:\n",
    "    print()\n",
    "    title=input(\"Enter Movie Name: \")\n",
    "    hero=input(\"Enter Hero Name: \")\n",
    "    heroine=input(\"Enter Heroine Name: \")\n",
    "    m=Movie(title,hero,heroine)\n",
    "    list_of_movies.append(m)\n",
    "    print(\"Movie added successfully ...\")\n",
    "    option=input(\"Do you want to add another movie ?[Yes/No] :\")\n",
    "    if option.lower() == 'no':\n",
    "        break\n",
    "print()\n",
    "option=input(\"Do you want to display all movies information ?[Yes/No] :\")\n",
    "if option.lower() == 'yes':\n",
    "    for movie in list_of_movies:\n",
    "        print()\n",
    "        movie.movie_info()\n",
    "else:\n",
    "    print('Thank you !!!')"
   ]
  },
  {
   "cell_type": "markdown",
   "metadata": {},
   "source": [
    "## What happens if we provide method name same as class name?"
   ]
  },
  {
   "cell_type": "code",
   "execution_count": 9,
   "metadata": {},
   "outputs": [],
   "source": [
    "class Test:\n",
    "    def Test(self):\n",
    "        print('Method')\n",
    "t=Test() # here default constructor is executed"
   ]
  },
  {
   "cell_type": "code",
   "execution_count": 10,
   "metadata": {},
   "outputs": [
    {
     "name": "stdout",
     "output_type": "stream",
     "text": [
      "Method\n"
     ]
    }
   ],
   "source": [
    "t.Test() # here Test() method  will be execuited"
   ]
  },
  {
   "cell_type": "markdown",
   "metadata": {},
   "source": [
    "## Mini Bank application"
   ]
  },
  {
   "cell_type": "code",
   "execution_count": 6,
   "metadata": {},
   "outputs": [
    {
     "name": "stdout",
     "output_type": "stream",
     "text": [
      "##################################################\n",
      "Welcome to  Rockkar Bank\n",
      "##################################################\n",
      "Enter your name: Jayant\n",
      "**************************************************\n",
      "Options =>\n",
      "d for deposit\n",
      "w for withdraw\n",
      "e for exit\n",
      "**************************************************\n",
      "Enter your option: d\n",
      "Enter amount:10000\n",
      "After deposit, balance:  10000.0\n",
      "**************************************************\n",
      "Options =>\n",
      "d for deposit\n",
      "w for withdraw\n",
      "e for exit\n",
      "**************************************************\n",
      "Enter your option: d\n",
      "Enter amount:50000\n",
      "After deposit, balance:  60000.0\n",
      "**************************************************\n",
      "Options =>\n",
      "d for deposit\n",
      "w for withdraw\n",
      "e for exit\n",
      "**************************************************\n",
      "Enter your option: w\n",
      "Enter amount:10000\n",
      "After withdraw, balance:  50000.0\n",
      "**************************************************\n",
      "Options =>\n",
      "d for deposit\n",
      "w for withdraw\n",
      "e for exit\n",
      "**************************************************\n",
      "Enter your option: w\n",
      "Enter amount:60000\n",
      "Insufficient Funds...\n",
      "Can't perform this operation...\n",
      "**************************************************\n",
      "Options =>\n",
      "d for deposit\n",
      "w for withdraw\n",
      "e for exit\n",
      "**************************************************\n",
      "Enter your option: x\n",
      "Invalid option please try again\n",
      "**************************************************\n",
      "Options =>\n",
      "d for deposit\n",
      "w for withdraw\n",
      "e for exit\n",
      "**************************************************\n",
      "Enter your option: e\n",
      "Thanks for banking...\n"
     ]
    }
   ],
   "source": [
    "class Customer:\n",
    "    \"\"\"This class developed by Rockkar and describes bank operations\"\"\"\n",
    "    bank_name=\"Rockkar Bank\"\n",
    "    def __init__(self,name,balance=0.0):\n",
    "        self.name=name\n",
    "        self.balance=balance\n",
    "    def deposit(self,amount):\n",
    "        self.balance=self.balance+ amount\n",
    "        print(\"After deposit, balance: \",self.balance)\n",
    "    def withdraw(self,amount):\n",
    "        if amount <= self.balance:\n",
    "            self.balance=self.balance - amount\n",
    "            print('After withdraw, balance: ',self.balance)\n",
    "        else:\n",
    "            print(\"Insufficient Funds...\")\n",
    "            print(\"Can't perform this operation...\")\n",
    "print(\"#\"*50)\n",
    "print(\"Welcome to \",Customer.bank_name)\n",
    "print('#'*50)\n",
    "name=input(\"Enter your name: \")\n",
    "c=Customer(name)\n",
    "while True:\n",
    "    print('*'*50)\n",
    "    print('Options =>')\n",
    "    print('d for deposit')\n",
    "    print('w for withdraw')\n",
    "    print('e for exit')\n",
    "    print('*'*50)\n",
    "    choice=input(\"Enter your option: \")\n",
    "    if choice.lower()=='d':\n",
    "        amount=float(input(\"Enter amount:\"))\n",
    "        c.deposit(amount)\n",
    "    elif choice.lower()=='w':\n",
    "        amount=float(input(\"Enter amount:\"))\n",
    "        c.withdraw(amount)\n",
    "    elif choice.lower()=='e':\n",
    "        print(\"Thanks for banking...\")\n",
    "        break\n",
    "    else:\n",
    "        print('Invalid option please try again')"
   ]
  },
  {
   "cell_type": "markdown",
   "metadata": {},
   "source": [
    "## Program to track number of objects created for a class?"
   ]
  },
  {
   "cell_type": "code",
   "execution_count": 12,
   "metadata": {},
   "outputs": [
    {
     "name": "stdout",
     "output_type": "stream",
     "text": [
      "The Number of objects created :  0\n"
     ]
    }
   ],
   "source": [
    "class Test:\n",
    "    count=0\n",
    "    def __init__(self):\n",
    "        Test.count=Test.count+1\n",
    "    @classmethod\n",
    "    def getNoofObjects(cls):\n",
    "        print(\"The Number of objects created : \",cls.count)\n",
    "Test.getNoofObjects()"
   ]
  },
  {
   "cell_type": "code",
   "execution_count": 13,
   "metadata": {},
   "outputs": [
    {
     "name": "stdout",
     "output_type": "stream",
     "text": [
      "The Number of objects created :  4\n"
     ]
    }
   ],
   "source": [
    "t1=Test()\n",
    "t2=Test()\n",
    "t3=Test()\n",
    "t4=Test()\n",
    "Test.getNoofObjects()"
   ]
  },
  {
   "cell_type": "markdown",
   "metadata": {},
   "source": [
    "### Q. What is the difference between del t1 and t1=None ?"
   ]
  },
  {
   "cell_type": "code",
   "execution_count": 4,
   "metadata": {},
   "outputs": [
    {
     "name": "stdout",
     "output_type": "stream",
     "text": [
      "Constructor...\n",
      "Destructor...\n"
     ]
    },
    {
     "ename": "NameError",
     "evalue": "name 't1' is not defined",
     "output_type": "error",
     "traceback": [
      "\u001b[1;31m---------------------------------------------------------------------------\u001b[0m",
      "\u001b[1;31mNameError\u001b[0m                                 Traceback (most recent call last)",
      "\u001b[1;32m<ipython-input-4-286e817fc50b>\u001b[0m in \u001b[0;36m<module>\u001b[1;34m\u001b[0m\n\u001b[0;32m      7\u001b[0m \u001b[0mt1\u001b[0m\u001b[1;33m=\u001b[0m\u001b[0mTest\u001b[0m\u001b[1;33m(\u001b[0m\u001b[1;33m)\u001b[0m\u001b[1;33m\u001b[0m\u001b[1;33m\u001b[0m\u001b[0m\n\u001b[0;32m      8\u001b[0m \u001b[1;32mdel\u001b[0m \u001b[0mt1\u001b[0m \u001b[1;31m# here we delete the refrence variable\u001b[0m\u001b[1;33m\u001b[0m\u001b[1;33m\u001b[0m\u001b[0m\n\u001b[1;32m----> 9\u001b[1;33m \u001b[0mprint\u001b[0m\u001b[1;33m(\u001b[0m\u001b[0mt1\u001b[0m\u001b[1;33m)\u001b[0m\u001b[1;33m\u001b[0m\u001b[1;33m\u001b[0m\u001b[0m\n\u001b[0m",
      "\u001b[1;31mNameError\u001b[0m: name 't1' is not defined"
     ]
    }
   ],
   "source": [
    "# for del t1\n",
    "class Test:\n",
    "    def __init__(self):\n",
    "        print(\"Constructor...\")\n",
    "    def __del__(self):\n",
    "        print(\"Destructor...\")\n",
    "t1=Test()\n",
    "del t1 # here we delete the refrence variable\n",
    "print(t1) # here you can't access t1 after deletion"
   ]
  },
  {
   "cell_type": "code",
   "execution_count": 6,
   "metadata": {},
   "outputs": [
    {
     "name": "stdout",
     "output_type": "stream",
     "text": [
      "Constructor...\n",
      "Destructor...\n",
      "None\n"
     ]
    }
   ],
   "source": [
    "# for t1=None\n",
    "class Test:\n",
    "    def __init__(self):\n",
    "        print(\"Constructor...\")\n",
    "    def __del__(self):\n",
    "        print(\"Destructor...\")\n",
    "t1=Test()\n",
    "t1=None # reassigning the refrence variable with None object\n",
    "print(t1) # here you can access t1"
   ]
  },
  {
   "cell_type": "markdown",
   "metadata": {},
   "source": [
    "### Q. How to find number of refrences of an object?"
   ]
  },
  {
   "cell_type": "code",
   "execution_count": 12,
   "metadata": {},
   "outputs": [
    {
     "name": "stdout",
     "output_type": "stream",
     "text": [
      "2\n",
      "5\n",
      "3\n"
     ]
    }
   ],
   "source": [
    "import sys\n",
    "class Test:\n",
    "    pass\n",
    "t1=Test()\n",
    "print(sys.getrefcount(t1))\n",
    "t2=t1\n",
    "t3=t2\n",
    "t4=t3\n",
    "print(sys.getrefcount(t1))\n",
    "del t3,t4\n",
    "print(sys.getrefcount(t1))"
   ]
  },
  {
   "cell_type": "markdown",
   "metadata": {},
   "source": [
    "### Q. What is the difference between constructor and destructor?"
   ]
  },
  {
   "cell_type": "code",
   "execution_count": 13,
   "metadata": {},
   "outputs": [
    {
     "name": "stdout",
     "output_type": "stream",
     "text": [
      "Constructor...\n",
      "Destructor...\n",
      "End of application\n"
     ]
    }
   ],
   "source": [
    "class Test:\n",
    "    def __init__(self): # constructor, Perform initialization activities\n",
    "        print(\"Constructor...\") # it is call just before creating an object \n",
    "        self.a=10\n",
    "    def __del__(self):        # to perform cleanup activities\n",
    "        print(\"Destructor...\") # just before destroying an object\n",
    "t1=Test() \n",
    "del t1\n",
    "print(\"End of application\")"
   ]
  },
  {
   "cell_type": "code",
   "execution_count": null,
   "metadata": {},
   "outputs": [],
   "source": []
  }
 ],
 "metadata": {
  "kernelspec": {
   "display_name": "Python 3",
   "language": "python",
   "name": "python3"
  },
  "language_info": {
   "codemirror_mode": {
    "name": "ipython",
    "version": 3
   },
   "file_extension": ".py",
   "mimetype": "text/x-python",
   "name": "python",
   "nbconvert_exporter": "python",
   "pygments_lexer": "ipython3",
   "version": "3.7.4"
  }
 },
 "nbformat": 4,
 "nbformat_minor": 2
}
