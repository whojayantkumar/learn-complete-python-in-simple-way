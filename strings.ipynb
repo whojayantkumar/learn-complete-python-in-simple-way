{
 "cells": [
  {
   "cell_type": "markdown",
   "metadata": {},
   "source": [
    "## Program to display all Positions of Substring in a given Main String"
   ]
  },
  {
   "cell_type": "code",
   "execution_count": 3,
   "metadata": {},
   "outputs": [
    {
     "name": "stdout",
     "output_type": "stream",
     "text": [
      "Enter main string: abcabcabca\n",
      "Enter sub string: bc\n",
      "bc present at 1 index\n",
      "bc present at 4 index\n",
      "bc present at 7 index\n"
     ]
    }
   ],
   "source": [
    "main_string=input(\"Enter main string: \")\n",
    "sub_string=input(\"Enter sub string: \")\n",
    "i=main_string.find(sub_string)\n",
    "mlen=len(main_string)\n",
    "while i!=-1:\n",
    "    print(\"{} present at {} index\".format(sub_string,i))\n",
    "    i=main_string.find(sub_string,i+len(sub_string),mlen)\n",
    "print(\"\")"
   ]
  },
  {
   "cell_type": "markdown",
   "metadata": {},
   "source": [
    "## Write a program to REVERSE content of the given String by using slice operator."
   ]
  },
  {
   "cell_type": "code",
   "execution_count": 8,
   "metadata": {},
   "outputs": [
    {
     "name": "stdout",
     "output_type": "stream",
     "text": [
      "Enter a string: jayant\n",
      "Reverse string is:  tnayaj\n"
     ]
    }
   ],
   "source": [
    "s=input(\"Enter a string: \")\n",
    "print(\"Reverse string is: \",s[::-1])"
   ]
  },
  {
   "cell_type": "markdown",
   "metadata": {},
   "source": [
    "## Program to REVERSE content of the given string by using reversed() function."
   ]
  },
  {
   "cell_type": "code",
   "execution_count": 16,
   "metadata": {},
   "outputs": [
    {
     "name": "stdout",
     "output_type": "stream",
     "text": [
      "Enter a string: python is very is \n",
      " si yrev si nohtyp\n"
     ]
    }
   ],
   "source": [
    "s=input(\"Enter a string: \")\n",
    "rev=reversed(s) # return reversed object \n",
    "out=''.join(rev)\n",
    "print(out)"
   ]
  },
  {
   "cell_type": "markdown",
   "metadata": {},
   "source": [
    "## Write a program to REVERSE content of the given string by using while loop."
   ]
  },
  {
   "cell_type": "code",
   "execution_count": 22,
   "metadata": {},
   "outputs": [
    {
     "name": "stdout",
     "output_type": "stream",
     "text": [
      "Enter a string: Python is very easy\n",
      "ysae yrev si nohtyP\n"
     ]
    }
   ],
   "source": [
    "s=input(\"Enter a string: \")\n",
    "i=len(s)-1\n",
    "r=''\n",
    "while i!=-1:\n",
    "    r=r+s[i]\n",
    "    i=i-1\n",
    "print(r)\n",
    "    "
   ]
  },
  {
   "cell_type": "markdown",
   "metadata": {},
   "source": [
    "## Write a program to REVERSE order of words present in the given string."
   ]
  },
  {
   "cell_type": "code",
   "execution_count": 2,
   "metadata": {},
   "outputs": [
    {
     "name": "stdout",
     "output_type": "stream",
     "text": [
      "Enter a string of words: python vs java\n",
      "java vs python \n",
      "java vs python\n"
     ]
    }
   ],
   "source": [
    "s=input('Enter a string of words: ')\n",
    "words=s.split()\n",
    "out=''\n",
    "for i in words:\n",
    "    out=''.join(i)+' '+out\n",
    "print(out)\n",
    "\n",
    "#by using slice\n",
    "words1=words[::-1]\n",
    "output=' '.join(words1)\n",
    "print(output)"
   ]
  },
  {
   "cell_type": "markdown",
   "metadata": {},
   "source": [
    "## Write a Program to REVERSE internal content of each word."
   ]
  },
  {
   "cell_type": "code",
   "execution_count": 3,
   "metadata": {},
   "outputs": [
    {
     "name": "stdout",
     "output_type": "stream",
     "text": [
      "Enter a string: python vs java\n",
      "nohtyp sv avaj \n"
     ]
    }
   ],
   "source": [
    "s=input('Enter a string: ')\n",
    "words=s.split()\n",
    "output=''\n",
    "for i in words:\n",
    "    output=output+i[::-1]+' '\n",
    "print(output)"
   ]
  },
  {
   "cell_type": "markdown",
   "metadata": {},
   "source": [
    "## Program to Recerse internal content of every 2nd word present in given string."
   ]
  },
  {
   "cell_type": "code",
   "execution_count": 5,
   "metadata": {},
   "outputs": [
    {
     "name": "stdout",
     "output_type": "stream",
     "text": [
      "Enter a string: java\n",
      "java \n"
     ]
    }
   ],
   "source": [
    "s=input(\"Enter a string: \")\n",
    "words=s.split()\n",
    "output=''\n",
    "for i in range(len(words)):\n",
    "    if i%2==0:\n",
    "        output=output+words[i]+' '\n",
    "    else:\n",
    "        temp=words[i]\n",
    "        output=output+temp[::-1]+' '\n",
    "print(output)\n",
    "    "
   ]
  },
  {
   "cell_type": "markdown",
   "metadata": {},
   "source": [
    "## Write a Program to print characters present at even index & odd index seperately for the given index."
   ]
  },
  {
   "cell_type": "code",
   "execution_count": 18,
   "metadata": {},
   "outputs": [
    {
     "name": "stdout",
     "output_type": "stream",
     "text": [
      "Enter a string: java vs python vs javascript\n",
      "Characters present at even index:  jv spto sjvsrp\n",
      "Characters present at odd index:  aav yhnv aacit\n"
     ]
    }
   ],
   "source": [
    "s=input(\"Enter a string: \")\n",
    "print(\"Characters present at even index: \",s[::2])\n",
    "print(\"Characters present at odd index: \",s[1::2])"
   ]
  },
  {
   "cell_type": "markdown",
   "metadata": {},
   "source": [
    "## Program to merge characters of 2 strings by taking characters alternatively."
   ]
  },
  {
   "cell_type": "code",
   "execution_count": 7,
   "metadata": {},
   "outputs": [
    {
     "name": "stdout",
     "output_type": "stream",
     "text": [
      "Enter first string: 357\n",
      "Enter second string: 864\n",
      "385674\n"
     ]
    }
   ],
   "source": [
    "s1=input(\"Enter first string: \")\n",
    "s2=input(\"Enter second string: \")\n",
    "i=0\n",
    "output=''\n",
    "j=0\n",
    "while i<len(s1) or j<len(s2):\n",
    "    if i<len(s1):\n",
    "        output=output+s1[i]\n",
    "    if j<len(s2):\n",
    "        output=output+s2[j]\n",
    "    i=i+1\n",
    "    j=j+1\n",
    "print(output)"
   ]
  },
  {
   "cell_type": "markdown",
   "metadata": {},
   "source": [
    "## Assume input string contains only alphabet symbols and digits. Write a program to sort characters of the string, first alphabet symbols followed by digits?"
   ]
  },
  {
   "cell_type": "code",
   "execution_count": 2,
   "metadata": {},
   "outputs": [
    {
     "name": "stdout",
     "output_type": "stream",
     "text": [
      "Enter a string: 123jayant\n",
      "aajnty123\n"
     ]
    }
   ],
   "source": [
    "s=input('Enter a string: ')\n",
    "digit,alpha='',''\n",
    "for i in s:\n",
    "    if i.isdigit():\n",
    "        digit=digit+i\n",
    "    else:\n",
    "        alpha=alpha+i\n",
    "alpha=sorted(alpha)\n",
    "digit=sorted(digit)\n",
    "print(''.join(alpha)+''.join(digit))\n",
    "    "
   ]
  },
  {
   "cell_type": "markdown",
   "metadata": {},
   "source": [
    "## Write a program for the following requirement?\n",
    "input: a4b3c2\n",
    "output: aaaabbbcc"
   ]
  },
  {
   "cell_type": "code",
   "execution_count": 9,
   "metadata": {},
   "outputs": [
    {
     "name": "stdout",
     "output_type": "stream",
     "text": [
      "Enter some string where alphabet symbol should be followed by digit: a3z2b4\n",
      "aaazzbbbb\n"
     ]
    }
   ],
   "source": [
    "\"\"\"\n",
    "s='a4b3c2'\n",
    "output=''\n",
    "i=0\n",
    "while i<len(s):\n",
    "    output=output+s[i]*int(s[i+1])\n",
    "    i=i+2\n",
    "print(output)\n",
    "\"\"\"\n",
    "\n",
    "# method 2 for user input\n",
    "s=input('Enter some string where alphabet symbol should be followed by digits: ')\n",
    "output=''\n",
    "for ch in s:\n",
    "    if ch.isalpha():\n",
    "        temp=ch\n",
    "    else:\n",
    "        output=output+temp*int(ch)\n",
    "print(output)"
   ]
  },
  {
   "cell_type": "markdown",
   "metadata": {},
   "source": [
    "## Write a program for following requirement?\n",
    "input: a3z2b4\n",
    "output: aaabbbbzz"
   ]
  },
  {
   "cell_type": "code",
   "execution_count": 12,
   "metadata": {},
   "outputs": [
    {
     "name": "stdout",
     "output_type": "stream",
     "text": [
      "Enter some string where alphabet symbols should be followed by digits: a4b5e6c6\n",
      "aaaabbbbbcccccceeeeee\n"
     ]
    }
   ],
   "source": [
    "s=input('Enter some string where alphabet symbols should be followed by digits: ')\n",
    "output=''\n",
    "for ch in s:\n",
    "    if ch.isalpha():\n",
    "        temp=ch\n",
    "    else:\n",
    "        output=output+temp*int(ch)\n",
    "output=''.join(sorted(output))\n",
    "print(output)"
   ]
  },
  {
   "cell_type": "markdown",
   "metadata": {},
   "source": [
    "## Write a program for following requirement?\n",
    "input: aaaabbbccz output: 4a3b2c1z"
   ]
  },
  {
   "cell_type": "code",
   "execution_count": 17,
   "metadata": {},
   "outputs": [
    {
     "name": "stdout",
     "output_type": "stream",
     "text": [
      "Enter a string: abbcddzuuuuq4\n",
      "141a2b1c2d1q4u1z\n"
     ]
    }
   ],
   "source": [
    "s=input(\"Enter a string: \")\n",
    "l1=sorted(s)\n",
    "output=''\n",
    "i=0\n",
    "while i<len(l1):\n",
    "    temp=l1.count(l1[i])\n",
    "    output=output+str(temp)+l1[i]\n",
    "    i=i+temp\n",
    "print(output)\n",
    "    "
   ]
  },
  {
   "cell_type": "markdown",
   "metadata": {},
   "source": [
    "## Write a program for following requirement?\n",
    "input: a4k3b2 output: aeknbd"
   ]
  },
  {
   "cell_type": "code",
   "execution_count": 19,
   "metadata": {},
   "outputs": [
    {
     "name": "stdout",
     "output_type": "stream",
     "text": [
      "Enter some string: a5b6e6s3\n",
      "afbheksv\n"
     ]
    }
   ],
   "source": [
    "s=input('Enter some string: ')\n",
    "output=''\n",
    "for i in s:\n",
    "    if i.isalpha():\n",
    "        previous=i\n",
    "        output=output+i\n",
    "    else:\n",
    "        output=output+chr((ord(previous)+int(i)))\n",
    "print(output)"
   ]
  },
  {
   "cell_type": "markdown",
   "metadata": {},
   "source": [
    "## Write a program to remove duplicate characters from the given input string?\n",
    "input: AZZZBCDABBCDABBBBCCCCDDDDEEEEF\n",
    "output: AZBCDEF"
   ]
  },
  {
   "cell_type": "code",
   "execution_count": 2,
   "metadata": {},
   "outputs": [
    {
     "name": "stdout",
     "output_type": "stream",
     "text": [
      "Enter a string: aaaaaaaabhhhhhhhhhhhcccsdj\n",
      "abhcsdj\n"
     ]
    }
   ],
   "source": [
    "# 1st way\n",
    "s=input('Enter a string: ')\n",
    "output=''\n",
    "for ch in s:\n",
    "    if ch not in output:\n",
    "        output=output+ch\n",
    "print(output)\n"
   ]
  },
  {
   "cell_type": "code",
   "execution_count": 3,
   "metadata": {},
   "outputs": [
    {
     "name": "stdout",
     "output_type": "stream",
     "text": [
      "Enter a string: aaaaaaaaaaabbbbbbbbjjjjjjjddd\n",
      "abjd\n"
     ]
    }
   ],
   "source": [
    "# 2nd way : using list\n",
    "s=input('Enter a string: ')\n",
    "l=[]\n",
    "for ch in s:\n",
    "    if ch not in l:\n",
    "        l.append(ch)\n",
    "output=''.join(l)\n",
    "print(output)\n"
   ]
  },
  {
   "cell_type": "code",
   "execution_count": 4,
   "metadata": {},
   "outputs": [
    {
     "name": "stdout",
     "output_type": "stream",
     "text": [
      "Enter a string: aaaaaaaaadddddddddddjjjjjjjjjjjjj\n",
      "dja\n"
     ]
    }
   ],
   "source": [
    "# 3rd way: using set, but there was a problem in characters order.\n",
    "s=set(input('Enter a string: '))\n",
    "output=''.join(s)\n",
    "print(output)"
   ]
  },
  {
   "cell_type": "markdown",
   "metadata": {},
   "source": [
    "## Write a program to find no of occurances of each character present in given string with count()."
   ]
  },
  {
   "cell_type": "code",
   "execution_count": 8,
   "metadata": {},
   "outputs": [
    {
     "name": "stdout",
     "output_type": "stream",
     "text": [
      "Enter a string:jayant\n",
      "a occur 2 times\n",
      "j occur 1 times\n",
      "n occur 1 times\n",
      "t occur 1 times\n",
      "y occur 1 times\n"
     ]
    }
   ],
   "source": [
    "s=input(\"Enter a string:\")\n",
    "char=[]\n",
    "for ch in s:\n",
    "    if ch not in char:\n",
    "        char.append(ch)\n",
    "for ch in sorted(char):\n",
    "    print('{} occur {} times'.format(ch,s.count(ch)))\n",
    "    "
   ]
  },
  {
   "cell_type": "markdown",
   "metadata": {},
   "source": [
    "## Write a program to find the no of occurences of each character present in the given string? without using count() method"
   ]
  },
  {
   "cell_type": "code",
   "execution_count": 13,
   "metadata": {},
   "outputs": [
    {
     "name": "stdout",
     "output_type": "stream",
     "text": [
      "Enter a string: aaaaaaaaaaaaaaaaaaaaaaaaaaaaaabbbbbbbbbbbbbbbbbbbbb                dddddddddddddddddddddddffffffffffffffffffffffffffff\n",
      "  occurs 16 times\n",
      "a occurs 30 times\n",
      "b occurs 21 times\n",
      "d occurs 23 times\n",
      "f occurs 28 times\n"
     ]
    }
   ],
   "source": [
    "s=input('Enter a string: ')\n",
    "d={}\n",
    "for ch in s:\n",
    "    d[ch]=d.get(ch,0)+1\n",
    "for k,v in sorted(d.items()):\n",
    "    print('{} occurs {} times'.format(k,v))"
   ]
  },
  {
   "cell_type": "markdown",
   "metadata": {},
   "source": [
    "## Write a program for following requirement.\n",
    "input: ABAABBCA\n",
    "output: 4A3B1C"
   ]
  },
  {
   "cell_type": "code",
   "execution_count": 15,
   "metadata": {},
   "outputs": [
    {
     "name": "stdout",
     "output_type": "stream",
     "text": [
      "Enter some string: ABACHDHAHVCHAHACHADHCAH\n",
      "7A1B4C2D8H1V\n"
     ]
    }
   ],
   "source": [
    "s=input(\"Enter some string: \")\n",
    "d={}\n",
    "output=''\n",
    "for ch in s:\n",
    "    d[ch]=d.get(ch,0)+1\n",
    "for k,v in sorted(d.items()):\n",
    "    output=output+str(v)+k\n",
    "print(output)"
   ]
  },
  {
   "cell_type": "markdown",
   "metadata": {},
   "source": [
    "## Write a program for following requirement.\n",
    "input: ABAABBCA output: A4B3C1"
   ]
  },
  {
   "cell_type": "code",
   "execution_count": 17,
   "metadata": {},
   "outputs": [
    {
     "name": "stdout",
     "output_type": "stream",
     "text": [
      "Enter a string: ABAABBCABBCA\n",
      "A5B5C2\n"
     ]
    }
   ],
   "source": [
    "s=input('Enter a string: ')\n",
    "d={}\n",
    "out=''\n",
    "for ch in s:\n",
    "    d[ch]=d.get(ch,0)+1\n",
    "for k,v in sorted(d.items()):\n",
    "    out=out+k+str(v)\n",
    "print(out)"
   ]
  },
  {
   "cell_type": "markdown",
   "metadata": {},
   "source": [
    "## Write a program to find the number of occurences of each vowel present in the given string?\n"
   ]
  },
  {
   "cell_type": "code",
   "execution_count": 24,
   "metadata": {},
   "outputs": [
    {
     "name": "stdout",
     "output_type": "stream",
     "text": [
      "Enter some string: jython\n",
      "o occures 1 times\n"
     ]
    }
   ],
   "source": [
    "s=input('Enter some string: ')\n",
    "vowel={'a','e','i','o','u','A','E','I','O','U'}\n",
    "d={}\n",
    "for ch in s:\n",
    "    if ch in vowel:\n",
    "        d[ch]=d.get(ch,0)+1\n",
    "for k,v in sorted(d.items()):\n",
    "    print('{} occures {} times'.format(k,v))"
   ]
  },
  {
   "cell_type": "markdown",
   "metadata": {},
   "source": [
    "## Write a program to check whether the given two strings are anagrams or not?\n",
    "two strings said to be anagrams if both strings have same characters, order may be different or same."
   ]
  },
  {
   "cell_type": "code",
   "execution_count": 30,
   "metadata": {},
   "outputs": [
    {
     "name": "stdout",
     "output_type": "stream",
     "text": [
      "Enter first string: lazy\n",
      "Enter second string: zaly\n",
      "Both strings are anagrams\n"
     ]
    }
   ],
   "source": [
    "s1=input('Enter first string: ')\n",
    "s2=input('Enter second string: ')\n",
    "if sorted(s1)==sorted(s2):\n",
    "    print('Both strings are anagrams')\n",
    "else:\n",
    "    print('Strings are not anagrams')"
   ]
  },
  {
   "cell_type": "markdown",
   "metadata": {},
   "source": [
    "## Write a program to check whether the given string is palindrome or not?\n",
    "A string said to be palindrome if original string and its reserved strings are equal."
   ]
  },
  {
   "cell_type": "code",
   "execution_count": 1,
   "metadata": {},
   "outputs": [
    {
     "name": "stdout",
     "output_type": "stream",
     "text": [
      "Enter a string: madam\n",
      "The given string is palindrome\n"
     ]
    }
   ],
   "source": [
    "s=input('Enter a string: ')\n",
    "if s==s[::-1]:\n",
    "    print('The given string is palindrome')\n",
    "else:\n",
    "    print('The given string is not palindrome')"
   ]
  },
  {
   "cell_type": "markdown",
   "metadata": {},
   "source": [
    "## Program to generate words from the given input strings by taking characters alternatively?\n",
    "input:\n",
    "    s1='abcdefg'   s2='xyz'   s3='12345'\n",
    "output: ax1, by2, cz3, d4, e5, f, g"
   ]
  },
  {
   "cell_type": "code",
   "execution_count": 1,
   "metadata": {},
   "outputs": [
    {
     "name": "stdout",
     "output_type": "stream",
     "text": [
      "Enter first string: abcdefg\n",
      "Enter second string: xyz\n",
      "Enter third string: 12345\n",
      "ax1, by2, cz3, d4, e5, f, g, \n"
     ]
    }
   ],
   "source": [
    "s1=input('Enter first string: ')\n",
    "s2=input('Enter second string: ')\n",
    "s3=input('Enter third string: ')\n",
    "i=0\n",
    "output=''\n",
    "while i<len(s1) or i<len(s2) or i<len(s3):\n",
    "    if i<len(s1):\n",
    "        output=output+s1[i]\n",
    "    if i<len(s2):\n",
    "        output=output+s2[i]\n",
    "    if i<len(s3):\n",
    "        output=output+s3[i]\n",
    "    output=output+', '\n",
    "    i=i+1\n",
    "print(output)\n",
    "    "
   ]
  }
 ],
 "metadata": {
  "kernelspec": {
   "display_name": "Python 3",
   "language": "python",
   "name": "python3"
  },
  "language_info": {
   "codemirror_mode": {
    "name": "ipython",
    "version": 3
   },
   "file_extension": ".py",
   "mimetype": "text/x-python",
   "name": "python",
   "nbconvert_exporter": "python",
   "pygments_lexer": "ipython3",
   "version": "3.8.3"
  }
 },
 "nbformat": 4,
 "nbformat_minor": 2
}
