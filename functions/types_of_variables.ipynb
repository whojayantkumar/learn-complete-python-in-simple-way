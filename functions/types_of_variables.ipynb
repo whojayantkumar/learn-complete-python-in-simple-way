{
 "cells": [
  {
   "cell_type": "markdown",
   "metadata": {},
   "source": [
    "# Types of variables\n",
    "### 1. Global variable\n",
    "variable declare outside of function. This variable available for all the function \n",
    "### 2. Local variable\n",
    "it is declare inside a function. This is available for within the function only "
   ]
  },
  {
   "cell_type": "code",
   "execution_count": 1,
   "metadata": {},
   "outputs": [
    {
     "name": "stdout",
     "output_type": "stream",
     "text": [
      "10\n",
      "10\n"
     ]
    }
   ],
   "source": [
    "a=10 # global variable\n",
    "def f1():\n",
    "    print(a)\n",
    "def f2():\n",
    "    print(a)\n",
    "f1()\n",
    "f2()"
   ]
  },
  {
   "cell_type": "code",
   "execution_count": 2,
   "metadata": {},
   "outputs": [
    {
     "name": "stdout",
     "output_type": "stream",
     "text": [
      "10\n"
     ]
    },
    {
     "ename": "NameError",
     "evalue": "name 'b' is not defined",
     "output_type": "error",
     "traceback": [
      "\u001b[1;31m---------------------------------------------------------------------------\u001b[0m",
      "\u001b[1;31mNameError\u001b[0m                                 Traceback (most recent call last)",
      "\u001b[1;32m<ipython-input-2-da1ca7efb107>\u001b[0m in \u001b[0;36m<module>\u001b[1;34m\u001b[0m\n\u001b[0;32m      5\u001b[0m     \u001b[0mprint\u001b[0m\u001b[1;33m(\u001b[0m\u001b[0mb\u001b[0m\u001b[1;33m)\u001b[0m\u001b[1;33m\u001b[0m\u001b[1;33m\u001b[0m\u001b[0m\n\u001b[0;32m      6\u001b[0m \u001b[0mf1\u001b[0m\u001b[1;33m(\u001b[0m\u001b[1;33m)\u001b[0m\u001b[1;33m\u001b[0m\u001b[1;33m\u001b[0m\u001b[0m\n\u001b[1;32m----> 7\u001b[1;33m \u001b[0mf2\u001b[0m\u001b[1;33m(\u001b[0m\u001b[1;33m)\u001b[0m\u001b[1;33m\u001b[0m\u001b[1;33m\u001b[0m\u001b[0m\n\u001b[0m",
      "\u001b[1;32m<ipython-input-2-da1ca7efb107>\u001b[0m in \u001b[0;36mf2\u001b[1;34m()\u001b[0m\n\u001b[0;32m      3\u001b[0m     \u001b[0mprint\u001b[0m\u001b[1;33m(\u001b[0m\u001b[0mb\u001b[0m\u001b[1;33m)\u001b[0m\u001b[1;33m\u001b[0m\u001b[1;33m\u001b[0m\u001b[0m\n\u001b[0;32m      4\u001b[0m \u001b[1;32mdef\u001b[0m \u001b[0mf2\u001b[0m\u001b[1;33m(\u001b[0m\u001b[1;33m)\u001b[0m\u001b[1;33m:\u001b[0m\u001b[1;33m\u001b[0m\u001b[1;33m\u001b[0m\u001b[0m\n\u001b[1;32m----> 5\u001b[1;33m     \u001b[0mprint\u001b[0m\u001b[1;33m(\u001b[0m\u001b[0mb\u001b[0m\u001b[1;33m)\u001b[0m\u001b[1;33m\u001b[0m\u001b[1;33m\u001b[0m\u001b[0m\n\u001b[0m\u001b[0;32m      6\u001b[0m \u001b[0mf1\u001b[0m\u001b[1;33m(\u001b[0m\u001b[1;33m)\u001b[0m\u001b[1;33m\u001b[0m\u001b[1;33m\u001b[0m\u001b[0m\n\u001b[0;32m      7\u001b[0m \u001b[0mf2\u001b[0m\u001b[1;33m(\u001b[0m\u001b[1;33m)\u001b[0m\u001b[1;33m\u001b[0m\u001b[1;33m\u001b[0m\u001b[0m\n",
      "\u001b[1;31mNameError\u001b[0m: name 'b' is not defined"
     ]
    }
   ],
   "source": [
    "def f1():\n",
    "    b=10 # local variable\n",
    "    print(b)\n",
    "def f2(): \n",
    "    print(b) # NameError: name 'b' is not defined\n",
    "f1()\n",
    "f2()"
   ]
  },
  {
   "cell_type": "code",
   "execution_count": 3,
   "metadata": {},
   "outputs": [
    {
     "name": "stdout",
     "output_type": "stream",
     "text": [
      "20\n",
      "10\n"
     ]
    }
   ],
   "source": [
    "a=10 # global variable\n",
    "def f1():\n",
    "    a=20 # local variable\n",
    "    print(a)\n",
    "def f2():\n",
    "    print(a)\n",
    "f1()\n",
    "f2()"
   ]
  },
  {
   "cell_type": "markdown",
   "metadata": {},
   "source": [
    "## global keyword\n",
    "- To make global variable available to the function, so that we can perform required modifications.\n",
    "\n",
    "- To declare global variables inside function explicitly"
   ]
  },
  {
   "cell_type": "code",
   "execution_count": 6,
   "metadata": {},
   "outputs": [
    {
     "name": "stdout",
     "output_type": "stream",
     "text": [
      "20\n",
      "20\n"
     ]
    }
   ],
   "source": [
    "a=10 # global variable\n",
    "def f1():\n",
    "    global a # now 'a' become global variable by using global keyword\n",
    "    a=20 #  we are changing the value of globle variable\n",
    "def f2():\n",
    "    print(a)\n",
    "f1()\n",
    "f2()"
   ]
  },
  {
   "cell_type": "code",
   "execution_count": 7,
   "metadata": {},
   "outputs": [
    {
     "name": "stdout",
     "output_type": "stream",
     "text": [
      "10\n",
      "10\n"
     ]
    }
   ],
   "source": [
    "def f1():\n",
    "    global a\n",
    "    a=10\n",
    "    print(a)\n",
    "def f2():\n",
    "    print(a)\n",
    "f1()\n",
    "f2()"
   ]
  },
  {
   "cell_type": "code",
   "execution_count": 8,
   "metadata": {},
   "outputs": [
    {
     "ename": "SyntaxError",
     "evalue": "name 'a' is used prior to global declaration (<ipython-input-8-b92e26c9c18b>, line 8)",
     "output_type": "error",
     "traceback": [
      "\u001b[1;36m  File \u001b[1;32m\"<ipython-input-8-b92e26c9c18b>\"\u001b[1;36m, line \u001b[1;32m8\u001b[0m\n\u001b[1;33m    f1()\u001b[0m\n\u001b[1;37m        \n^\u001b[0m\n\u001b[1;31mSyntaxError\u001b[0m\u001b[1;31m:\u001b[0m name 'a' is used prior to global declaration\n"
     ]
    }
   ],
   "source": [
    "# before global declaration we can't use that variable \n",
    "a=777\n",
    "def f1():\n",
    "    print(a)\n",
    "    global a\n",
    "    a=999\n",
    "    print(a)\n",
    "f1()"
   ]
  },
  {
   "cell_type": "code",
   "execution_count": 17,
   "metadata": {},
   "outputs": [
    {
     "name": "stdout",
     "output_type": "stream",
     "text": [
      "{'__name__': '__main__', '__doc__': 'Automatically created module for IPython interactive environment', '__package__': None, '__loader__': None, '__spec__': None, '__builtin__': <module 'builtins' (built-in)>, '__builtins__': <module 'builtins' (built-in)>, '_ih': ['', 'a=10 # global variable\\ndef f1():\\n    print(a)\\ndef f2():\\n    print(a)\\nf1()\\nf2()', 'def f1():\\n    b=10 # local variable\\n    print(b)\\ndef f2():\\n    print(b)\\nf1()\\nf2()', 'a=10\\ndef f1():\\n    a=20\\n    print(a)\\ndef f2():\\n    print(a)\\nf1()\\nf2()', 'a=10\\ndef f1():\\n    global a=20\\n    print(a) \\ndef f2():\\n    print(a)\\nf1()\\nf2()', 'a=10\\ndef f1():\\n    global a\\n    a=20\\n    print(a) \\ndef f2():\\n    print(a)\\nf1()\\nf2()', \"a=10 # global variable\\ndef f1():\\n    global a # now 'a' become global variable by using global keyword\\n    a=20 #  a is global variable then a value updated to 20\\n    print(a) \\ndef f2():\\n    print(a)\\nf1()\\nf2()\", 'def f1():\\n    global a\\n    a=10\\n    print(a)\\ndef f2():\\n    print(a)\\nf1()\\nf2()', '# before\\na=777\\ndef f1():\\n    print(a)\\n    global a\\n    a=999\\n    print(a)\\nf1()', 'print(global a)', 'print(globals())', 'print(globals().get(a))', \"a=777\\ndef f1():\\n    global a\\n    a=999\\n    print(a)\\n    print(globals().get('a'))\\nf1()\", 'a=777\\ndef f1():\\n    global a\\n    a=999\\n    print(a)\\n    print(globals().get(a))\\nf1()', \"a=777\\ndef f1():\\n    global a\\n    a=999\\n    print(a)\\n    print(globals().get('a'))\\nf1()\", \"print(globals().get('a'))\", 'print(globals().get(a))', 'print(globals()) # print all global variables\\n# it return a dictionary of global variables'], '_oh': {}, '_dh': ['C:\\\\Users\\\\Jayant\\\\python 3 by durga sir\\\\functions'], 'In': ['', 'a=10 # global variable\\ndef f1():\\n    print(a)\\ndef f2():\\n    print(a)\\nf1()\\nf2()', 'def f1():\\n    b=10 # local variable\\n    print(b)\\ndef f2():\\n    print(b)\\nf1()\\nf2()', 'a=10\\ndef f1():\\n    a=20\\n    print(a)\\ndef f2():\\n    print(a)\\nf1()\\nf2()', 'a=10\\ndef f1():\\n    global a=20\\n    print(a) \\ndef f2():\\n    print(a)\\nf1()\\nf2()', 'a=10\\ndef f1():\\n    global a\\n    a=20\\n    print(a) \\ndef f2():\\n    print(a)\\nf1()\\nf2()', \"a=10 # global variable\\ndef f1():\\n    global a # now 'a' become global variable by using global keyword\\n    a=20 #  a is global variable then a value updated to 20\\n    print(a) \\ndef f2():\\n    print(a)\\nf1()\\nf2()\", 'def f1():\\n    global a\\n    a=10\\n    print(a)\\ndef f2():\\n    print(a)\\nf1()\\nf2()', '# before\\na=777\\ndef f1():\\n    print(a)\\n    global a\\n    a=999\\n    print(a)\\nf1()', 'print(global a)', 'print(globals())', 'print(globals().get(a))', \"a=777\\ndef f1():\\n    global a\\n    a=999\\n    print(a)\\n    print(globals().get('a'))\\nf1()\", 'a=777\\ndef f1():\\n    global a\\n    a=999\\n    print(a)\\n    print(globals().get(a))\\nf1()', \"a=777\\ndef f1():\\n    global a\\n    a=999\\n    print(a)\\n    print(globals().get('a'))\\nf1()\", \"print(globals().get('a'))\", 'print(globals().get(a))', 'print(globals()) # print all global variables\\n# it return a dictionary of global variables'], 'Out': {}, 'get_ipython': <bound method InteractiveShell.get_ipython of <ipykernel.zmqshell.ZMQInteractiveShell object at 0x00000258B51C7408>>, 'exit': <IPython.core.autocall.ZMQExitAutocall object at 0x00000258B52032C8>, 'quit': <IPython.core.autocall.ZMQExitAutocall object at 0x00000258B52032C8>, '_': '', '__': '', '___': '', '_i': 'print(globals().get(a))', '_ii': \"print(globals().get('a'))\", '_iii': \"a=777\\ndef f1():\\n    global a\\n    a=999\\n    print(a)\\n    print(globals().get('a'))\\nf1()\", '_i1': 'a=10 # global variable\\ndef f1():\\n    print(a)\\ndef f2():\\n    print(a)\\nf1()\\nf2()', 'a': 999, 'f1': <function f1 at 0x00000258B733C318>, 'f2': <function f2 at 0x00000258B72A0708>, '_i2': 'def f1():\\n    b=10 # local variable\\n    print(b)\\ndef f2():\\n    print(b)\\nf1()\\nf2()', '_i3': 'a=10\\ndef f1():\\n    a=20\\n    print(a)\\ndef f2():\\n    print(a)\\nf1()\\nf2()', '_i4': 'a=10\\ndef f1():\\n    global a=20\\n    print(a) \\ndef f2():\\n    print(a)\\nf1()\\nf2()', '_i5': 'a=10\\ndef f1():\\n    global a\\n    a=20\\n    print(a) \\ndef f2():\\n    print(a)\\nf1()\\nf2()', '_i6': \"a=10 # global variable\\ndef f1():\\n    global a # now 'a' become global variable by using global keyword\\n    a=20 #  a is global variable then a value updated to 20\\n    print(a) \\ndef f2():\\n    print(a)\\nf1()\\nf2()\", '_i7': 'def f1():\\n    global a\\n    a=10\\n    print(a)\\ndef f2():\\n    print(a)\\nf1()\\nf2()', '_i8': '# before\\na=777\\ndef f1():\\n    print(a)\\n    global a\\n    a=999\\n    print(a)\\nf1()', '_i9': 'print(global a)', '_i10': 'print(globals())', '_i11': 'print(globals().get(a))', '_i12': \"a=777\\ndef f1():\\n    global a\\n    a=999\\n    print(a)\\n    print(globals().get('a'))\\nf1()\", '_i13': 'a=777\\ndef f1():\\n    global a\\n    a=999\\n    print(a)\\n    print(globals().get(a))\\nf1()', '_i14': \"a=777\\ndef f1():\\n    global a\\n    a=999\\n    print(a)\\n    print(globals().get('a'))\\nf1()\", '_i15': \"print(globals().get('a'))\", '_i16': 'print(globals().get(a))', '_i17': 'print(globals()) # print all global variables\\n# it return a dictionary of global variables'}\n"
     ]
    }
   ],
   "source": [
    "print(globals()) # print all global variables\n",
    "# it return a dictionary of global variables"
   ]
  },
  {
   "cell_type": "code",
   "execution_count": 14,
   "metadata": {},
   "outputs": [
    {
     "name": "stdout",
     "output_type": "stream",
     "text": [
      "999\n",
      "999\n"
     ]
    }
   ],
   "source": [
    "a=777\n",
    "def f1():\n",
    "    global a\n",
    "    a=999\n",
    "    print(a)\n",
    "    print(globals().get('a'))\n",
    "f1()"
   ]
  },
  {
   "cell_type": "code",
   "execution_count": 16,
   "metadata": {},
   "outputs": [
    {
     "name": "stdout",
     "output_type": "stream",
     "text": [
      "None\n"
     ]
    }
   ],
   "source": [
    "print(globals().get(a))"
   ]
  },
  {
   "cell_type": "code",
   "execution_count": null,
   "metadata": {},
   "outputs": [],
   "source": []
  }
 ],
 "metadata": {
  "kernelspec": {
   "display_name": "Python 3",
   "language": "python",
   "name": "python3"
  },
  "language_info": {
   "codemirror_mode": {
    "name": "ipython",
    "version": 3
   },
   "file_extension": ".py",
   "mimetype": "text/x-python",
   "name": "python",
   "nbconvert_exporter": "python",
   "pygments_lexer": "ipython3",
   "version": "3.7.4"
  }
 },
 "nbformat": 4,
 "nbformat_minor": 2
}
