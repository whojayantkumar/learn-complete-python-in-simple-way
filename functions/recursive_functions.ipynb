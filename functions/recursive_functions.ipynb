{
 "cells": [
  {
   "cell_type": "markdown",
   "metadata": {},
   "source": [
    "# RECURSIVE Functions\n",
    "\n",
    "a function that calls itself"
   ]
  },
  {
   "cell_type": "markdown",
   "metadata": {},
   "source": [
    "## Advantages\n",
    "1. complex problems solve very eassy\n",
    "2. length of code reduce"
   ]
  },
  {
   "cell_type": "code",
   "execution_count": 1,
   "metadata": {},
   "outputs": [],
   "source": [
    "# find factorial of n"
   ]
  },
  {
   "cell_type": "code",
   "execution_count": 5,
   "metadata": {},
   "outputs": [
    {
     "data": {
      "text/plain": [
       "120"
      ]
     },
     "execution_count": 5,
     "metadata": {},
     "output_type": "execute_result"
    }
   ],
   "source": [
    "def fact(n):\n",
    "    if n==0:\n",
    "        result=1\n",
    "    else:\n",
    "        result=n*fact(n-1)\n",
    "    return result\n",
    "fact(5)    "
   ]
  },
  {
   "cell_type": "code",
   "execution_count": 6,
   "metadata": {},
   "outputs": [
    {
     "data": {
      "text/plain": [
       "6"
      ]
     },
     "execution_count": 6,
     "metadata": {},
     "output_type": "execute_result"
    }
   ],
   "source": [
    "fact(3)"
   ]
  },
  {
   "cell_type": "code",
   "execution_count": 7,
   "metadata": {},
   "outputs": [
    {
     "name": "stdout",
     "output_type": "stream",
     "text": [
      "The factorial of 0 is : 1\n",
      "The factorial of 1 is : 1\n",
      "The factorial of 2 is : 2\n",
      "The factorial of 3 is : 6\n",
      "The factorial of 4 is : 24\n",
      "The factorial of 5 is : 120\n",
      "The factorial of 6 is : 720\n",
      "The factorial of 7 is : 5040\n",
      "The factorial of 8 is : 40320\n",
      "The factorial of 9 is : 362880\n",
      "The factorial of 10 is : 3628800\n"
     ]
    }
   ],
   "source": [
    "for i in range(11):\n",
    "    print('The factorial of {} is : {}'.format(i,fact(i)))"
   ]
  },
  {
   "cell_type": "markdown",
   "metadata": {},
   "source": [
    "### Internal tracing of Recursive Functions Execution"
   ]
  },
  {
   "cell_type": "code",
   "execution_count": 8,
   "metadata": {},
   "outputs": [
    {
     "name": "stdout",
     "output_type": "stream",
     "text": [
      "Execution of factorial function for n:  5\n",
      "Execution of factorial function for n:  4\n",
      "Execution of factorial function for n:  3\n",
      "Execution of factorial function for n:  2\n",
      "Execution of factorial function for n:  1\n",
      "Execution of factorial function for n:  0\n",
      "Returning factorial(0) is: 1\n",
      "Returning factorial(1) is: 1\n",
      "Returning factorial(2) is: 2\n",
      "Returning factorial(3) is: 6\n",
      "Returning factorial(4) is: 24\n",
      "Returning factorial(5) is: 120\n"
     ]
    },
    {
     "data": {
      "text/plain": [
       "120"
      ]
     },
     "execution_count": 8,
     "metadata": {},
     "output_type": "execute_result"
    }
   ],
   "source": [
    "def fact(n):\n",
    "    print('Execution of factorial function for n: ',n)\n",
    "    if n==0:\n",
    "        result=1\n",
    "    else:\n",
    "        result=n*fact(n-1)\n",
    "    print('Returning factorial({}) is: {}'.format(n,result))\n",
    "    return result\n",
    "fact(5) "
   ]
  },
  {
   "cell_type": "markdown",
   "metadata": {},
   "source": [
    "## Maximum recursion Depth in Python"
   ]
  },
  {
   "cell_type": "code",
   "execution_count": 1,
   "metadata": {},
   "outputs": [],
   "source": [
    "# max recursion depth is 2960 in current version"
   ]
  },
  {
   "cell_type": "code",
   "execution_count": 15,
   "metadata": {},
   "outputs": [
    {
     "name": "stdout",
     "output_type": "stream",
     "text": [
      "408479828515489256353474995482408358160497265910659964627093499965899020851244601523057075998189630761571573915775902022827388462056824913280383023299404143746088956859469192805413326179609395288550759267766567778513344579219396409879210452632138317526533536196130411663019544586462612597488979234580446395660782673845444445744446855627291878808156097739274830944977355758443500055387784290059300751838756648811927011205971860183777745097119216518533151831009400768021448911289481662701447360711223209656699002520448639971994566756090610988433892850569176843947513344124003111025471699286332054703221257479803948554799185113770298141157185620393078623204745722963720698814601900758867993711577337192974108712287297749642787549814125573511062877441959959260507852204098837246533731205586429495445967118104588944721998842997546998124028007142174958031760791583183391032548795783726631789230510072791194968120873322260682504816108290276311669974945205102145855184779926222627829030287142693286266992238150977861451748992852206601963644944460140583093508461742609331020447278800834251499762845396883436690995642125377603902309825187631767468294699985328703628219690641217645609747104661139112053822227409417921028438799401282694582506602919442719939153634607083979767632422894489890114396942195858649361345578680339826776670671845270671830154841858480190455309228288644778025813024881155217868366059367507592218734243130726544496608175222147001922603977244134716572158821985549126914876832955809281953139717211726184820291130209183555991241407805122458415669879589475928715662168928321719454680101336064798315065628256548290180972984451059066626333000912556158031738275175386225550858916243728654220881036238065191589359977031741231835062137110163347854168291465847975084637169658768234208654239463025500793325344468514105336014841926266134549270010837172219988723226653082422906138273681658890486944523549522576817468781761838856080901405866957872122666667194108909031450387743075081047741905664955902329075255693536749391178968154378514691238064222302637921456741313279637838800099969604859212696767294670969427836275465208799095194119907852867739507433497693801297921352579298871053850535218508291814815992495163658514825596955670792238036446958964327174516278331545376827058626704243676311184208250168934400000000000000000000000000000000000000000000000000000000000000000000000000000000000000000000000000000000000000000000000000000000000000000000000000000000000000000000000000000000000000000000000000000000000000000000000000000000000000000000000000000\n",
      "The number of times factorial function execution:  995\n"
     ]
    }
   ],
   "source": [
    "count=0\n",
    "def fact(n):\n",
    "    global count\n",
    "    count=count+1\n",
    "    if n==0:\n",
    "        result=1\n",
    "    else:\n",
    "        result=n*fact(n-1)\n",
    "    return result\n",
    "print(fact(994))\n",
    "print(\"The number of times factorial function execution: \",count)"
   ]
  },
  {
   "cell_type": "code",
   "execution_count": 35,
   "metadata": {},
   "outputs": [
    {
     "ename": "RecursionError",
     "evalue": "maximum recursion depth exceeded in comparison",
     "output_type": "error",
     "traceback": [
      "\u001b[1;31m---------------------------------------------------------------------------\u001b[0m",
      "\u001b[1;31mRecursionError\u001b[0m                            Traceback (most recent call last)",
      "\u001b[1;32m<ipython-input-35-8daf4e45b494>\u001b[0m in \u001b[0;36m<module>\u001b[1;34m\u001b[0m\n\u001b[0;32m      8\u001b[0m         \u001b[0mresult\u001b[0m\u001b[1;33m=\u001b[0m\u001b[0mn\u001b[0m\u001b[1;33m*\u001b[0m\u001b[0mfact\u001b[0m\u001b[1;33m(\u001b[0m\u001b[0mn\u001b[0m\u001b[1;33m-\u001b[0m\u001b[1;36m1\u001b[0m\u001b[1;33m)\u001b[0m\u001b[1;33m\u001b[0m\u001b[1;33m\u001b[0m\u001b[0m\n\u001b[0;32m      9\u001b[0m     \u001b[1;32mreturn\u001b[0m \u001b[0mresult\u001b[0m\u001b[1;33m\u001b[0m\u001b[1;33m\u001b[0m\u001b[0m\n\u001b[1;32m---> 10\u001b[1;33m \u001b[0mprint\u001b[0m\u001b[1;33m(\u001b[0m\u001b[0mfact\u001b[0m\u001b[1;33m(\u001b[0m\u001b[1;36m2960\u001b[0m\u001b[1;33m)\u001b[0m\u001b[1;33m)\u001b[0m\u001b[1;33m\u001b[0m\u001b[1;33m\u001b[0m\u001b[0m\n\u001b[0m\u001b[0;32m     11\u001b[0m \u001b[0mprint\u001b[0m\u001b[1;33m(\u001b[0m\u001b[1;34m\"The number of times factorial function execution: \"\u001b[0m\u001b[1;33m,\u001b[0m\u001b[0mcount\u001b[0m\u001b[1;33m)\u001b[0m\u001b[1;33m\u001b[0m\u001b[1;33m\u001b[0m\u001b[0m\n",
      "\u001b[1;32m<ipython-input-35-8daf4e45b494>\u001b[0m in \u001b[0;36mfact\u001b[1;34m(n)\u001b[0m\n\u001b[0;32m      6\u001b[0m         \u001b[0mresult\u001b[0m\u001b[1;33m=\u001b[0m\u001b[1;36m1\u001b[0m\u001b[1;33m\u001b[0m\u001b[1;33m\u001b[0m\u001b[0m\n\u001b[0;32m      7\u001b[0m     \u001b[1;32melse\u001b[0m\u001b[1;33m:\u001b[0m\u001b[1;33m\u001b[0m\u001b[1;33m\u001b[0m\u001b[0m\n\u001b[1;32m----> 8\u001b[1;33m         \u001b[0mresult\u001b[0m\u001b[1;33m=\u001b[0m\u001b[0mn\u001b[0m\u001b[1;33m*\u001b[0m\u001b[0mfact\u001b[0m\u001b[1;33m(\u001b[0m\u001b[0mn\u001b[0m\u001b[1;33m-\u001b[0m\u001b[1;36m1\u001b[0m\u001b[1;33m)\u001b[0m\u001b[1;33m\u001b[0m\u001b[1;33m\u001b[0m\u001b[0m\n\u001b[0m\u001b[0;32m      9\u001b[0m     \u001b[1;32mreturn\u001b[0m \u001b[0mresult\u001b[0m\u001b[1;33m\u001b[0m\u001b[1;33m\u001b[0m\u001b[0m\n\u001b[0;32m     10\u001b[0m \u001b[0mprint\u001b[0m\u001b[1;33m(\u001b[0m\u001b[0mfact\u001b[0m\u001b[1;33m(\u001b[0m\u001b[1;36m2960\u001b[0m\u001b[1;33m)\u001b[0m\u001b[1;33m)\u001b[0m\u001b[1;33m\u001b[0m\u001b[1;33m\u001b[0m\u001b[0m\n",
      "... last 1 frames repeated, from the frame below ...\n",
      "\u001b[1;32m<ipython-input-35-8daf4e45b494>\u001b[0m in \u001b[0;36mfact\u001b[1;34m(n)\u001b[0m\n\u001b[0;32m      6\u001b[0m         \u001b[0mresult\u001b[0m\u001b[1;33m=\u001b[0m\u001b[1;36m1\u001b[0m\u001b[1;33m\u001b[0m\u001b[1;33m\u001b[0m\u001b[0m\n\u001b[0;32m      7\u001b[0m     \u001b[1;32melse\u001b[0m\u001b[1;33m:\u001b[0m\u001b[1;33m\u001b[0m\u001b[1;33m\u001b[0m\u001b[0m\n\u001b[1;32m----> 8\u001b[1;33m         \u001b[0mresult\u001b[0m\u001b[1;33m=\u001b[0m\u001b[0mn\u001b[0m\u001b[1;33m*\u001b[0m\u001b[0mfact\u001b[0m\u001b[1;33m(\u001b[0m\u001b[0mn\u001b[0m\u001b[1;33m-\u001b[0m\u001b[1;36m1\u001b[0m\u001b[1;33m)\u001b[0m\u001b[1;33m\u001b[0m\u001b[1;33m\u001b[0m\u001b[0m\n\u001b[0m\u001b[0;32m      9\u001b[0m     \u001b[1;32mreturn\u001b[0m \u001b[0mresult\u001b[0m\u001b[1;33m\u001b[0m\u001b[1;33m\u001b[0m\u001b[0m\n\u001b[0;32m     10\u001b[0m \u001b[0mprint\u001b[0m\u001b[1;33m(\u001b[0m\u001b[0mfact\u001b[0m\u001b[1;33m(\u001b[0m\u001b[1;36m2960\u001b[0m\u001b[1;33m)\u001b[0m\u001b[1;33m)\u001b[0m\u001b[1;33m\u001b[0m\u001b[1;33m\u001b[0m\u001b[0m\n",
      "\u001b[1;31mRecursionError\u001b[0m: maximum recursion depth exceeded in comparison"
     ]
    }
   ],
   "source": [
    "count=0\n",
    "def fact(n):\n",
    "    global count\n",
    "    count=count+1\n",
    "    if n==0:\n",
    "        result=1\n",
    "    else:\n",
    "        result=n*fact(n-1)\n",
    "    return result\n",
    "print(fact(2960))\n",
    "print(\"The number of times factorial function execution: \",count)"
   ]
  },
  {
   "cell_type": "code",
   "execution_count": null,
   "metadata": {},
   "outputs": [],
   "source": []
  },
  {
   "cell_type": "code",
   "execution_count": null,
   "metadata": {},
   "outputs": [],
   "source": []
  }
 ],
 "metadata": {
  "kernelspec": {
   "display_name": "Python 3",
   "language": "python",
   "name": "python3"
  },
  "language_info": {
   "codemirror_mode": {
    "name": "ipython",
    "version": 3
   },
   "file_extension": ".py",
   "mimetype": "text/x-python",
   "name": "python",
   "nbconvert_exporter": "python",
   "pygments_lexer": "ipython3",
   "version": "3.7.4"
  }
 },
 "nbformat": 4,
 "nbformat_minor": 2
}
