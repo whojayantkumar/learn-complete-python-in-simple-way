{
 "cells": [
  {
   "cell_type": "markdown",
   "metadata": {},
   "source": [
    "## WAP to check given number is prime or not."
   ]
  },
  {
   "cell_type": "code",
   "execution_count": 8,
   "metadata": {},
   "outputs": [
    {
     "name": "stdout",
     "output_type": "stream",
     "text": [
      "Enter a number: 97\n",
      "It is prime number\n"
     ]
    }
   ],
   "source": [
    "n=int(input(\"Enter a number: \"))\n",
    "if n<=1:\n",
    "    print(\"It is not prime number\")\n",
    "else:\n",
    "    is_prime=True\n",
    "    for i in range(2,n//2+1):\n",
    "        if n%i==0:\n",
    "            is_prime=False\n",
    "            break\n",
    "    if is_prime==True:\n",
    "        print(\"It is prime number\")\n",
    "    else:\n",
    "        print(\"It is not prime number\")"
   ]
  },
  {
   "cell_type": "markdown",
   "metadata": {},
   "source": [
    "## WAP to print prime numbers in a given range"
   ]
  },
  {
   "cell_type": "code",
   "execution_count": 2,
   "metadata": {},
   "outputs": [
    {
     "name": "stdout",
     "output_type": "stream",
     "text": [
      "Enter n value20\n",
      "1\n",
      "2\n",
      "3\n",
      "5\n",
      "7\n",
      "11\n",
      "13\n",
      "17\n",
      "19\n"
     ]
    }
   ],
   "source": [
    "n=int(input(\"Enter n value\"))\n",
    "n1=1\n",
    "while n1<=n:\n",
    "    is_prime=True\n",
    "    for i in range(2,n1//2+1):\n",
    "        if n1%i==0:\n",
    "            is_prime=False\n",
    "            break\n",
    "    if is_prime==True:\n",
    "        print(n1)\n",
    "    n1=n1+1"
   ]
  },
  {
   "cell_type": "markdown",
   "metadata": {},
   "source": [
    "## WAP to print first n prime numbers"
   ]
  },
  {
   "cell_type": "code",
   "execution_count": 3,
   "metadata": {},
   "outputs": [
    {
     "name": "stdout",
     "output_type": "stream",
     "text": [
      "Enter n value: 10\n",
      "2, 3, 5, 7, 11, 13, 17, 19, 23, 29, "
     ]
    }
   ],
   "source": [
    "n=int(input(\"Enter n value: \"))\n",
    "n1=2\n",
    "count=0\n",
    "while True:\n",
    "    is_prime=True\n",
    "    for i in range(2,n1//2+1):\n",
    "        if n1%i==0:\n",
    "            is_prime=False\n",
    "            break\n",
    "    if is_prime==True:\n",
    "        print(n1,end=\", \")\n",
    "        count=count+1\n",
    "    if count==n:\n",
    "        break\n",
    "    n1=n1+1"
   ]
  },
  {
   "cell_type": "code",
   "execution_count": null,
   "metadata": {},
   "outputs": [],
   "source": []
  }
 ],
 "metadata": {
  "kernelspec": {
   "display_name": "Python 3",
   "language": "python",
   "name": "python3"
  },
  "language_info": {
   "codemirror_mode": {
    "name": "ipython",
    "version": 3
   },
   "file_extension": ".py",
   "mimetype": "text/x-python",
   "name": "python",
   "nbconvert_exporter": "python",
   "pygments_lexer": "ipython3",
   "version": "3.7.4"
  }
 },
 "nbformat": 4,
 "nbformat_minor": 2
}
