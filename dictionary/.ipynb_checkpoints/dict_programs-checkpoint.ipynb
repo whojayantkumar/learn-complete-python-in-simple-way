{
 "cells": [
  {
   "cell_type": "markdown",
   "metadata": {},
   "source": [
    "## Write a program to enter name and marks into dictionary and display information on the screen"
   ]
  },
  {
   "cell_type": "code",
   "execution_count": 1,
   "metadata": {},
   "outputs": [
    {
     "name": "stdout",
     "output_type": "stream",
     "text": [
      "Enter number of students: 4\n",
      "Enter name of student: Jay\n",
      "Enter marks of student48.50\n",
      "Enter name of student: Ram\n",
      "Enter marks of student50\n",
      "Enter name of student: Ravi\n",
      "Enter marks of student49.83\n",
      "Enter name of student: Sunny\n",
      "Enter marks of student25\n",
      "Student details:\n",
      "{'Jay': 48.5, 'Ram': 50.0, 'Ravi': 49.83, 'Sunny': 25.0}\n"
     ]
    }
   ],
   "source": [
    "n=int(input('Enter number of students: '))\n",
    "d={}\n",
    "for i in range(n):\n",
    "    name=input('Enter name of student: ')\n",
    "    marks=float(input('Enter marks of student'))\n",
    "    d[name]=marks\n",
    "print('Student details:')\n",
    "print(d)"
   ]
  },
  {
   "cell_type": "code",
   "execution_count": 5,
   "metadata": {},
   "outputs": [
    {
     "name": "stdout",
     "output_type": "stream",
     "text": [
      "Student details:\n",
      "******************************\n",
      "Name \t\t Marks\n",
      "******************************\n",
      "Jay \t\t 48.5\n",
      "Ram \t\t 50.0\n",
      "Ravi \t\t 49.83\n",
      "Sunny \t\t 25.0\n"
     ]
    }
   ],
   "source": [
    "#print data as table form\n",
    "print(\"Student details:\")\n",
    "print('*'*30)\n",
    "print('Name','\\t\\t','Marks')\n",
    "print('*'*30)\n",
    "for k,v in d.items():\n",
    "    print(k,'\\t\\t',v)"
   ]
  },
  {
   "cell_type": "markdown",
   "metadata": {},
   "source": [
    "## WAP to get value from the dictionary for the given key?"
   ]
  },
  {
   "cell_type": "code",
   "execution_count": 3,
   "metadata": {},
   "outputs": [
    {
     "name": "stdout",
     "output_type": "stream",
     "text": [
      "Enter key: 68\n",
      "Value:  d\n"
     ]
    }
   ],
   "source": [
    "d={65:'A',66:'B',67:'C',68:'d',90:'Z'}\n",
    "key=int(input('Enter key: '))\n",
    "if d.get(key) is not None:\n",
    "    print('Value: ',d.get(key))\n",
    "else:\n",
    "    print('Key is not present')"
   ]
  },
  {
   "cell_type": "markdown",
   "metadata": {},
   "source": [
    "# WAP to get key from the dictionary for the given value?"
   ]
  },
  {
   "cell_type": "code",
   "execution_count": 16,
   "metadata": {},
   "outputs": [
    {
     "name": "stdout",
     "output_type": "stream",
     "text": [
      "Enter a value: A\n",
      "The corresponding key:  65\n",
      "The corresponding key:  91\n"
     ]
    }
   ],
   "source": [
    "d={65:'A',66:'B',67:'C',68:'d',90:'Z',91:'A'}\n",
    "available=False\n",
    "value=input('Enter a value: ')\n",
    "for k,v in d.items():\n",
    "    if v==value:\n",
    "        print('The corresponding key: ',k)\n",
    "        available=True\n",
    "if available==False:\n",
    "    print('The specified value not available in dictionary')"
   ]
  },
  {
   "cell_type": "markdown",
   "metadata": {},
   "source": [
    "## Write a program to take dictionary from the keyboard and print sum of values?"
   ]
  },
  {
   "cell_type": "code",
   "execution_count": 2,
   "metadata": {},
   "outputs": [
    {
     "name": "stdout",
     "output_type": "stream",
     "text": [
      "Enter a dictionary: {'a':10,'b':20}\n",
      "30\n"
     ]
    }
   ],
   "source": [
    "d4=eval(input('Enter a dictionary: '))\n",
    "s=0\n",
    "for k,v in d4.items():\n",
    "    s=s+v\n",
    "print(s)"
   ]
  },
  {
   "cell_type": "code",
   "execution_count": 3,
   "metadata": {},
   "outputs": [
    {
     "name": "stdout",
     "output_type": "stream",
     "text": [
      "The sum of values:  30\n"
     ]
    }
   ],
   "source": [
    "# using sum() function\n",
    "print(\"The sum of values: \",sum(d4.values()))"
   ]
  },
  {
   "cell_type": "markdown",
   "metadata": {},
   "source": [
    "## Write a Program to find number of occurances of each letter present in the given string?"
   ]
  },
  {
   "cell_type": "code",
   "execution_count": 10,
   "metadata": {},
   "outputs": [
    {
     "name": "stdout",
     "output_type": "stream",
     "text": [
      "Enter a string: abdsbsghshvsahvhsafsvshvhs\n",
      "******************************\n",
      "letter \t\t Occurence\n",
      "******************************\n",
      "a \t\t 9\n",
      "b \t\t 3\n",
      "c \t\t 5\n",
      "f \t\t 3\n",
      "h \t\t 15\n",
      "s \t\t 2\n",
      "u \t\t 1\n",
      "d \t\t 3\n",
      "g \t\t 1\n",
      "v \t\t 2\n"
     ]
    }
   ],
   "source": [
    "word=input('Enter a string: ')\n",
    "d={}\n",
    "for ch in t:\n",
    "    d[ch]=d.get(ch,0)+1\n",
    "print('*'*30)\n",
    "print('letter \\t\\t Occurence')\n",
    "print('*'*30)\n",
    "for k,v in d.items():\n",
    "    print(k,'\\t\\t',v)"
   ]
  },
  {
   "cell_type": "markdown",
   "metadata": {},
   "source": [
    "## Write a program to find number of occurances of each vowel present in the given string?"
   ]
  },
  {
   "cell_type": "code",
   "execution_count": 14,
   "metadata": {},
   "outputs": [
    {
     "name": "stdout",
     "output_type": "stream",
     "text": [
      "Enter a word: aaabbbbiiiiaaadddduuuugggggfffieee\n",
      "******************************\n",
      "Vowel \t\t Occurence\n",
      "******************************\n",
      "a \t\t 6\n",
      "e \t\t 3\n",
      "i \t\t 5\n",
      "u \t\t 4\n"
     ]
    }
   ],
   "source": [
    "word=input('Enter a word: ')\n",
    "d={}\n",
    "vowel={'a','e','i','o','u','A','E','I','O','U'}\n",
    "for ch in word:\n",
    "    if ch in vowel:\n",
    "        d[ch]=d.get(ch,0)+1\n",
    "print('*'*30)\n",
    "print('Vowel \\t\\t Occurence')\n",
    "print('*'*30)\n",
    "for k,v in sorted(d.items()):\n",
    "    print(k,'\\t\\t',v)"
   ]
  },
  {
   "cell_type": "markdown",
   "metadata": {},
   "source": [
    "## Write a program to accept student name and marks from the keyboard and creates a dictionary. Also display student marks by taking student name as input ?"
   ]
  },
  {
   "cell_type": "code",
   "execution_count": 21,
   "metadata": {},
   "outputs": [
    {
     "name": "stdout",
     "output_type": "stream",
     "text": [
      "How many no. of students marks you enter: 4\n",
      "Enter student name: sunny\n",
      "Enter student marks:100\n",
      "Enter student name: bunny\n",
      "Enter student marks:200\n",
      "Enter student name: chinny\n",
      "Enter student marks:300\n",
      "Enter student name: vinny\n",
      "Enter student marks:400\n",
      "Student data insertion completed...\n",
      "******************************\n",
      "Name\t\tMarks\n",
      "******************************\n",
      "sunny \t\t 100.0\n",
      "bunny \t\t 200.0\n",
      "chinny \t\t 300.0\n",
      "vinny \t\t 400.0\n"
     ]
    }
   ],
   "source": [
    "n=int(input('How many no. of students marks you enter: '))\n",
    "student={}\n",
    "for i in range(n):\n",
    "    name=input('Enter student name: ')\n",
    "    marks=float(input('Enter student marks:'))\n",
    "    student[name]=marks\n",
    "print('Student data insertion completed...')\n",
    "print('*'*30)\n",
    "print('Name\\t\\tMarks')\n",
    "print('*'*30)\n",
    "for k,v in student.items():\n",
    "    print(k,'\\t\\t',v)\n",
    "\n"
   ]
  },
  {
   "cell_type": "code",
   "execution_count": 24,
   "metadata": {},
   "outputs": [
    {
     "name": "stdout",
     "output_type": "stream",
     "text": [
      "Search Operation started...\n",
      "Enter student name to get marks: sunny\n",
      "Marks of  sunny are:  100.0\n",
      "Do you want to find another student marks(yes/no): yes\n",
      "Enter student name to get marks: ravi\n",
      "Student not found\n",
      "Do you want to find another student marks(yes/no): NO\n",
      "Thanks for using our application\n"
     ]
    }
   ],
   "source": [
    "print('Search Operation started...')\n",
    "while True:\n",
    "    name=input('Enter student name to get marks: ')\n",
    "    marks=student.get(name,-1)\n",
    "    if marks==-1:\n",
    "        print('Student not found')\n",
    "    else:\n",
    "        print('Marks of ',name,'are: ',marks)\n",
    "    option=input(\"Do you want to find another student marks(yes/no): \")\n",
    "    if option.lower()=='no':\n",
    "        break\n",
    "    elif option.lower()!='yes':\n",
    "        print('Invalid option')\n",
    "        break\n",
    "print('Thanks for using our application') "
   ]
  },
  {
   "cell_type": "markdown",
   "metadata": {},
   "source": [
    "## Implementaion of supermarket by using dict"
   ]
  },
  {
   "cell_type": "code",
   "execution_count": 5,
   "metadata": {},
   "outputs": [],
   "source": [
    "supermarket={\n",
    "    'store1':{\n",
    "        'name':'Durga general store',\n",
    "        'items':[\n",
    "            {'name':'soap','quantity':20},\n",
    "            {'name':'brush','quantity':30},\n",
    "            {'name':'pen','quantity':40},\n",
    "        ]\n",
    "    },\n",
    "    'store2':{\n",
    "        'name':'Sunny book store',\n",
    "        'items':[\n",
    "            {'name':'python','quantity':100},\n",
    "            {'name':'java','quantity':200},\n",
    "            {'name':'django','quantity':100},\n",
    "        ]\n",
    "    }\n",
    "}"
   ]
  },
  {
   "cell_type": "code",
   "execution_count": 8,
   "metadata": {},
   "outputs": [
    {
     "name": "stdout",
     "output_type": "stream",
     "text": [
      "Durga general store\n",
      "Durga general store\n"
     ]
    }
   ],
   "source": [
    "# to print name of store1\n",
    "print(supermarket['store1']['name']) #option1\n",
    "print(supermarket.get('store1').get('name')) #option2"
   ]
  },
  {
   "cell_type": "code",
   "execution_count": 16,
   "metadata": {},
   "outputs": [
    {
     "name": "stdout",
     "output_type": "stream",
     "text": [
      "soap\n",
      "brush\n",
      "pen\n"
     ]
    }
   ],
   "source": [
    "# display names of all items present in store1\n",
    "items_in_store1=supermarket.get('store1').get('items')\n",
    "for itm in items_list:\n",
    "    print(itm.get('name'))"
   ]
  },
  {
   "cell_type": "code",
   "execution_count": 17,
   "metadata": {},
   "outputs": [
    {
     "name": "stdout",
     "output_type": "stream",
     "text": [
      "100\n"
     ]
    }
   ],
   "source": [
    "# to print quantity of django\n",
    "items_in_store2=supermarket.get('store2').get('items')\n",
    "for itm in items_in_store2:\n",
    "    if itm['name']=='django':\n",
    "        print(itm['quantity'])"
   ]
  },
  {
   "cell_type": "code",
   "execution_count": null,
   "metadata": {},
   "outputs": [],
   "source": []
  }
 ],
 "metadata": {
  "kernelspec": {
   "display_name": "Python 3",
   "language": "python",
   "name": "python3"
  },
  "language_info": {
   "codemirror_mode": {
    "name": "ipython",
    "version": 3
   },
   "file_extension": ".py",
   "mimetype": "text/x-python",
   "name": "python",
   "nbconvert_exporter": "python",
   "pygments_lexer": "ipython3",
   "version": "3.7.4"
  }
 },
 "nbformat": 4,
 "nbformat_minor": 2
}
