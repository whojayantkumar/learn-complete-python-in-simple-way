{
 "cells": [
  {
   "cell_type": "markdown",
   "metadata": {},
   "source": [
    "# Q. Write a program to specify file name and data dynamically from the keyboard."
   ]
  },
  {
   "cell_type": "code",
   "execution_count": 5,
   "metadata": {},
   "outputs": [
    {
     "name": "stdout",
     "output_type": "stream",
     "text": [
      "Enter file name: abc.txt\n",
      "Enter data to write: hello\n",
      "Do you want to add some more data.(yes/no): yes\n",
      "Enter data to write: Durga\n",
      "Do you want to add some more data.(yes/no): yes\n",
      "Enter data to write: Software solutions\n",
      "Do you want to add some more data.(yes/no): no\n",
      "Data written to the file sucessfully...\n"
     ]
    }
   ],
   "source": [
    "filename=input('Enter file name: ')\n",
    "try:\n",
    "    f=open(filename,'w')\n",
    "except BaseException as msg:\n",
    "    print(msg)\n",
    "while True:\n",
    "    data=input(\"Enter data to write: \")\n",
    "    f.write(data+'\\n')\n",
    "    option=input(\"Do you want to add some more data.(yes/no): \")\n",
    "    if option.lower()=='no':\n",
    "        break\n",
    "f.close()\n",
    "print(\"Data written to the file sucessfully...\")"
   ]
  },
  {
   "cell_type": "markdown",
   "metadata": {},
   "source": [
    "### Q. Write a program to read data from one file(input.txt) and write to another file(output.txt) ?"
   ]
  },
  {
   "cell_type": "code",
   "execution_count": 1,
   "metadata": {},
   "outputs": [],
   "source": [
    "f1=open('input.txt','r')\n",
    "f2=open('output.txt','w')\n",
    "data=f1.read()\n",
    "f2.write(data)\n",
    "f1.close()\n",
    "f2.close()"
   ]
  },
  {
   "cell_type": "code",
   "execution_count": null,
   "metadata": {},
   "outputs": [],
   "source": []
  }
 ],
 "metadata": {
  "kernelspec": {
   "display_name": "Python 3",
   "language": "python",
   "name": "python3"
  },
  "language_info": {
   "codemirror_mode": {
    "name": "ipython",
    "version": 3
   },
   "file_extension": ".py",
   "mimetype": "text/x-python",
   "name": "python",
   "nbconvert_exporter": "python",
   "pygments_lexer": "ipython3",
   "version": "3.7.4"
  }
 },
 "nbformat": 4,
 "nbformat_minor": 2
}
