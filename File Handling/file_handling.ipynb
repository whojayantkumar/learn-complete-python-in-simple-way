{
 "cells": [
  {
   "cell_type": "markdown",
   "metadata": {},
   "source": [
    "# Writing Data to Text Files: \n",
    "We can write character data to the text files by using the following 2 methods. \n",
    "1. write(str) \n",
    "2. writelines(list of lines)"
   ]
  },
  {
   "cell_type": "code",
   "execution_count": 2,
   "metadata": {},
   "outputs": [
    {
     "name": "stdout",
     "output_type": "stream",
     "text": [
      "Data written to the file sucessfully...\n"
     ]
    }
   ],
   "source": [
    "#example\n",
    "try:\n",
    "    f=open('demo_file.txt','w')\n",
    "except BaseException as msg:\n",
    "    print(msg)\n",
    "f.write(\"Durga\\n\")\n",
    "f.write(\"Software\\n\")\n",
    "f.write(\"Solution\\n\")\n",
    "f.close\n",
    "print('Data written to the file sucessfully...')"
   ]
  },
  {
   "cell_type": "code",
   "execution_count": 3,
   "metadata": {},
   "outputs": [
    {
     "name": "stdout",
     "output_type": "stream",
     "text": [
      "List of lines written to the file sucessfully...\n"
     ]
    }
   ],
   "source": [
    "#example 2\n",
    "f=open('demo_file.txt','w')\n",
    "list_of_string=['Sunny\\n','Bunny\\n','Chinny\\n','Honey\\n']\n",
    "f.writelines(list_of_string)\n",
    "print(\"List of lines written to the file sucessfully...\")\n",
    "f.close()"
   ]
  },
  {
   "cell_type": "markdown",
   "metadata": {},
   "source": [
    "# Reading Character Data from Text Files: \n",
    "We can read character data from text file by using the following read methods.\n",
    "- read() => To read total data from the file\n",
    "- read(n) => To read 'n' characters from the file \n",
    "- readline() => To read only one line \n",
    "- readlines() => To read all lines into a list"
   ]
  },
  {
   "cell_type": "code",
   "execution_count": 1,
   "metadata": {},
   "outputs": [
    {
     "name": "stdout",
     "output_type": "stream",
     "text": [
      "hello\n",
      "Durga\n",
      "Software solutions\n",
      "\n"
     ]
    }
   ],
   "source": [
    "f=open('abc.txt','r')\n",
    "data=f.read()\n",
    "print(data)\n",
    "f.close()"
   ]
  },
  {
   "cell_type": "code",
   "execution_count": 2,
   "metadata": {},
   "outputs": [
    {
     "name": "stdout",
     "output_type": "stream",
     "text": [
      "hello\n",
      "Durg\n"
     ]
    }
   ],
   "source": [
    "f=open('abc.txt','r')\n",
    "data=f.read(10)\n",
    "print(data)\n",
    "f.close()"
   ]
  },
  {
   "cell_type": "code",
   "execution_count": 4,
   "metadata": {},
   "outputs": [
    {
     "name": "stdout",
     "output_type": "stream",
     "text": [
      "Sunny\n"
     ]
    }
   ],
   "source": [
    "f=open('demo_file.txt','r')\n",
    "line=f.readline()\n",
    "print(line,end='')\n",
    "f.close()"
   ]
  },
  {
   "cell_type": "code",
   "execution_count": 5,
   "metadata": {},
   "outputs": [
    {
     "name": "stdout",
     "output_type": "stream",
     "text": [
      "Sunny\n",
      "Bunny\n",
      "Chinny\n",
      "Honey\n"
     ]
    }
   ],
   "source": [
    "f=open('demo_file.txt','r')\n",
    "line=f.readline()\n",
    "while line!='':\n",
    "    print(line,end='')\n",
    "    line=f.readline()\n",
    "f.close()"
   ]
  },
  {
   "cell_type": "code",
   "execution_count": 6,
   "metadata": {},
   "outputs": [
    {
     "name": "stdout",
     "output_type": "stream",
     "text": [
      "['Sunny\\n', 'Bunny\\n', 'Chinny\\n', 'Honey\\n']\n"
     ]
    }
   ],
   "source": [
    "f=open('demo_file.txt','r')\n",
    "line=f.readlines()\n",
    "print(line)\n",
    "f.close()"
   ]
  },
  {
   "cell_type": "markdown",
   "metadata": {},
   "source": [
    "# with statement:"
   ]
  },
  {
   "cell_type": "code",
   "execution_count": 3,
   "metadata": {},
   "outputs": [
    {
     "name": "stdout",
     "output_type": "stream",
     "text": [
      "Is file closed= False\n",
      "Is file closed= True\n"
     ]
    }
   ],
   "source": [
    "with open('abc.txt','w') as f:\n",
    "    f.write(\"Durga\\n\")\n",
    "    f.write(\"Software\\n\")\n",
    "    print('Is file closed=',f.closed)\n",
    "print('Is file closed=',f.closed)"
   ]
  },
  {
   "cell_type": "markdown",
   "metadata": {},
   "source": [
    "### tell(): \n",
    "-  We can use tell() method to return current position of the cursor(file pointer) from beginning of the file. [ can you plese telll current cursor position] \n",
    "-  The position(index) of first character in files is zero just like string index."
   ]
  },
  {
   "cell_type": "code",
   "execution_count": 4,
   "metadata": {},
   "outputs": [
    {
     "name": "stdout",
     "output_type": "stream",
     "text": [
      "0\n",
      "3\n"
     ]
    }
   ],
   "source": [
    "with open('abc.txt','r') as f:\n",
    "    print(f.tell())\n",
    "    f.read(3)\n",
    "    print(f.tell())"
   ]
  },
  {
   "cell_type": "markdown",
   "metadata": {},
   "source": [
    "# seek(): \n",
    "We can use seek() method to move cursor (file pointer) to specified location. [Can you please seek the cursor to a particular location]"
   ]
  },
  {
   "cell_type": "code",
   "execution_count": 10,
   "metadata": {},
   "outputs": [
    {
     "name": "stdout",
     "output_type": "stream",
     "text": [
      "0\n",
      "3\n",
      "ga\n",
      "5\n",
      "\n",
      "Software\n",
      "\n",
      "Durga\n",
      "Software\n",
      "\n"
     ]
    }
   ],
   "source": [
    "with open('abc.txt') as f:\n",
    "    print(f.tell())\n",
    "    f.seek(3)\n",
    "    print(f.tell())\n",
    "    print(f.read(2))\n",
    "    print(f.tell())\n",
    "    print(f.read())\n",
    "    f.seek(0)\n",
    "    print(f.read())"
   ]
  },
  {
   "cell_type": "code",
   "execution_count": 5,
   "metadata": {},
   "outputs": [
    {
     "name": "stdout",
     "output_type": "stream",
     "text": [
      "All students are stupids\n",
      "The Current Cursor Position: 24\n",
      "The Current Cursor Position: 17\n",
      "Data After Modification:\n",
      "All students are GEMS!!!\n"
     ]
    }
   ],
   "source": [
    "data='All students are stupids'\n",
    "f=open('abc.txt','w')\n",
    "f.write(data)\n",
    "with open('abc.txt','r+') as f:\n",
    "    text=f.read()\n",
    "    print(text)\n",
    "    print(\"The Current Cursor Position:\",f.tell())\n",
    "    f.seek(17)\n",
    "    print(\"The Current Cursor Position:\",f.tell())\n",
    "    f.write(\"GEMS!!!\")\n",
    "    f.seek(0)\n",
    "    print(\"Data After Modification:\")\n",
    "    print(f.read())"
   ]
  },
  {
   "cell_type": "markdown",
   "metadata": {},
   "source": [
    "# How to check a particular File exists OR not? \n",
    "We can use os library to get information about files in our computer. os module has path sub module,which contains isFile() function to check whether a particular file exists or not? \n",
    "- os.path.isfile(fname)"
   ]
  },
  {
   "cell_type": "code",
   "execution_count": 1,
   "metadata": {},
   "outputs": [
    {
     "name": "stdout",
     "output_type": "stream",
     "text": [
      "Enter file name: abc.txt\n",
      "The content of file is: \n",
      "All students are GEMS!!!\n"
     ]
    }
   ],
   "source": [
    "import os,sys\n",
    "fname=input(\"Enter file name: \")\n",
    "if os.path.isfile(fname):\n",
    "    f=open(fname,'r')\n",
    "else:\n",
    "    print(\"file does not exists\")\n",
    "    sys.exit(0)\n",
    "print(\"The content of file is: \")\n",
    "print(f.read())"
   ]
  },
  {
   "cell_type": "markdown",
   "metadata": {},
   "source": [
    "### Note:\n",
    "sys.exit(0)  To exit system without executing rest of the program. argument represents status code. 0 means normal termination and it is the default value."
   ]
  },
  {
   "cell_type": "markdown",
   "metadata": {},
   "source": [
    "### Print Number of lines, characters, words in file"
   ]
  },
  {
   "cell_type": "code",
   "execution_count": 6,
   "metadata": {},
   "outputs": [
    {
     "name": "stdout",
     "output_type": "stream",
     "text": [
      "Enter file Name: file_handling.ipynb\n",
      "File Exists:  file_handling.ipynb\n",
      "The Number of lines:  429\n",
      "The Number of Words:  988\n",
      "The Number of Characters:  9406\n"
     ]
    }
   ],
   "source": [
    "import os \n",
    "fname=input(\"Enter file Name: \")\n",
    "if os.path.isfile(fname):\n",
    "    print(\"File Exists: \",fname)\n",
    "    lcount=wcount=ccount=0\n",
    "    f=open(fname,'r')\n",
    "    for line in f:\n",
    "        lcount=lcount+1\n",
    "        wcount=wcount+len(line.split())\n",
    "        ccount=ccount+len(line)\n",
    "        \n",
    "print(\"The Number of lines: \",lcount)\n",
    "print(\"The Number of Words: \",wcount)\n",
    "print(\"The Number of Characters: \",ccount)"
   ]
  },
  {
   "cell_type": "markdown",
   "metadata": {},
   "source": [
    "# Handling Binary Data"
   ]
  },
  {
   "cell_type": "code",
   "execution_count": 4,
   "metadata": {},
   "outputs": [
    {
     "name": "stdout",
     "output_type": "stream",
     "text": [
      "<class 'bytes'>\n",
      "Write.jpg is ready\n"
     ]
    }
   ],
   "source": [
    "f1=open('bg.jpg','rb')\n",
    "data=f1.read()\n",
    "print(type(data))\n",
    "f2=open('write.jpg','wb')\n",
    "f2.write(data)\n",
    "print(\"Write.jpg is ready\")\n",
    "f1.close()\n",
    "f2.close()"
   ]
  },
  {
   "cell_type": "code",
   "execution_count": null,
   "metadata": {},
   "outputs": [],
   "source": []
  }
 ],
 "metadata": {
  "kernelspec": {
   "display_name": "Python 3",
   "language": "python",
   "name": "python3"
  },
  "language_info": {
   "codemirror_mode": {
    "name": "ipython",
    "version": 3
   },
   "file_extension": ".py",
   "mimetype": "text/x-python",
   "name": "python",
   "nbconvert_exporter": "python",
   "pygments_lexer": "ipython3",
   "version": "3.7.4"
  }
 },
 "nbformat": 4,
 "nbformat_minor": 2
}
