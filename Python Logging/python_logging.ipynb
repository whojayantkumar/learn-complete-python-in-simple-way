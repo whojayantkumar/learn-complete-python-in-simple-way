{
 "cells": [
  {
   "cell_type": "markdown",
   "metadata": {},
   "source": [
    "# Python Logging:\n",
    "It is highly recommended to store complete application flow and exceptions information to a file. This process is called logging.\n",
    " The main advanatages of logging are:\n",
    "1. We can use log files while performing debugging \n",
    "2. We can provide statistics like number of requests per day etc\n",
    "To implement logging, Python provides inbuilt module logging."
   ]
  },
  {
   "cell_type": "markdown",
   "metadata": {},
   "source": [
    "## Logging Levels:\n",
    "Depending on type of information, logging data is divided according to the following 6 levels in python\n",
    "1. CRITICAL===>50 Represents a very serious problem that needs high attention\n",
    "2. ERROR ===>40 Represents a serious error\n",
    "3. WARNING ==>30 Represents a warning message, some caution needed. It is alert to the programmer.\n",
    "4. INFO==>20 Represents a message with some important information\n",
    "5. DEBUG ===>10 Represents a message with debugging information\n",
    "6. NOTSET==>0 Represents that level is not set\n",
    "\n",
    "By default while executing Python program only WARNING and higher level messages will be displayed."
   ]
  },
  {
   "cell_type": "markdown",
   "metadata": {},
   "source": [
    "### How to implement Logging:\n",
    "- To perform logging, first we required to create a file to store messages and we have to specify which level messages required to store.\n",
    "- We can do this by using basicConfig() function of logging module.\n",
    "- logging.basicConfig(filename='log.txt',level=logging.WARNING)\n",
    "- The above line will create a file log.txt and we can store either WARNING level or higher level messages to that file.\n",
    "\n",
    "After creating log file, we can write messages to that file by using the following methods\n",
    "- logging.debug(message) \n",
    "- logging.info(message) \n",
    "- logging.warning(message) \n",
    "- logging.error(message) \n",
    "- logging.critical(message)"
   ]
  },
  {
   "cell_type": "markdown",
   "metadata": {},
   "source": [
    "### Q. Write a Python Program to create a log file and write WARNING and Higher level messages?"
   ]
  },
  {
   "cell_type": "code",
   "execution_count": 3,
   "metadata": {},
   "outputs": [
    {
     "name": "stdout",
     "output_type": "stream",
     "text": [
      "Logging Demo\n"
     ]
    }
   ],
   "source": [
    "import logging\n",
    "logging.basicConfig(filename='log.txt',level=logging.WARNING)\n",
    "print(\"Logging Demo\")\n",
    "logging.critical(\"Critical Information\")\n",
    "logging.error(\"error Information\")\n",
    "logging.warning(\"warning Information\")\n",
    "logging.info(\"info Information\")\n",
    "logging.debug(\"debug information\")"
   ]
  },
  {
   "cell_type": "markdown",
   "metadata": {},
   "source": [
    "Note: In the above program only WARNING and higher level messages will be written to the log file. If we set level as DEBUG then all messages will be written to the log file."
   ]
  },
  {
   "cell_type": "code",
   "execution_count": 1,
   "metadata": {},
   "outputs": [
    {
     "name": "stdout",
     "output_type": "stream",
     "text": [
      "Logging Demo\n"
     ]
    }
   ],
   "source": [
    "import logging\n",
    "logging.basicConfig(filename='log1.txt',level=logging.DEBUG,filemode='w')\n",
    "print(\"Logging Demo\")\n",
    "logging.critical(\"Critical Information\")\n",
    "logging.error(\"error Information\")\n",
    "logging.warning(\"warning Information\")\n",
    "logging.info(\"info Information\")\n",
    "logging.debug(\"debug information\")"
   ]
  },
  {
   "cell_type": "markdown",
   "metadata": {},
   "source": [
    "Note:\n",
    "- logging.basicConfig(filename='log.txt',level=logging.DEBUG)\n",
    "- If we are not specifying level then the default level is WARNING(30)\n",
    "- If we are not specifying file name then the messages will be printed to the console."
   ]
  },
  {
   "cell_type": "code",
   "execution_count": 1,
   "metadata": {},
   "outputs": [
    {
     "name": "stderr",
     "output_type": "stream",
     "text": [
      "CRITICAL:root:Critical Information\n",
      "ERROR:root:error Information\n",
      "WARNING:root:warning Information\n"
     ]
    },
    {
     "name": "stdout",
     "output_type": "stream",
     "text": [
      "Logging Demo\n"
     ]
    }
   ],
   "source": [
    "import logging\n",
    "logging.basicConfig()\n",
    "print(\"Logging Demo\")\n",
    "logging.critical(\"Critical Information\")\n",
    "logging.error(\"error Information\")\n",
    "logging.warning(\"warning Information\")\n",
    "logging.info(\"info Information\")\n",
    "logging.debug(\"debug information\")"
   ]
  },
  {
   "cell_type": "markdown",
   "metadata": {},
   "source": [
    "## How to Format log messages:\n",
    "By using format keyword argument, we can format messages.\n",
    " 1. To display only level name:\n",
    "logging.basicConfig(format='%(levelname)s')"
   ]
  },
  {
   "cell_type": "code",
   "execution_count": 1,
   "metadata": {},
   "outputs": [
    {
     "name": "stderr",
     "output_type": "stream",
     "text": [
      "CRITICAL\n",
      "ERROR\n",
      "WARNING\n"
     ]
    },
    {
     "name": "stdout",
     "output_type": "stream",
     "text": [
      "Logging Demo\n"
     ]
    }
   ],
   "source": [
    "import logging\n",
    "logging.basicConfig(format='%(levelname)s')\n",
    "print(\"Logging Demo\")\n",
    "logging.critical(\"Critical Information\")\n",
    "logging.error(\"error Information\")\n",
    "logging.warning(\"warning Information\")\n",
    "logging.info(\"info Information\")\n",
    "logging.debug(\"debug information\")"
   ]
  },
  {
   "cell_type": "markdown",
   "metadata": {},
   "source": [
    "2. To display levelname and message:\n",
    "\n",
    "logging.basicConfig(format='%(levelname)s:%(message)s')"
   ]
  },
  {
   "cell_type": "code",
   "execution_count": 1,
   "metadata": {},
   "outputs": [
    {
     "name": "stderr",
     "output_type": "stream",
     "text": [
      "CRITICAL:Critical Information\n",
      "ERROR:error Information\n",
      "WARNING:warning Information\n"
     ]
    }
   ],
   "source": [
    "import logging\n",
    "logging.basicConfig(format='%(levelname)s:%(message)s')\n",
    "logging.critical(\"Critical Information\")\n",
    "logging.error(\"error Information\")\n",
    "logging.warning(\"warning Information\")\n",
    "logging.info(\"info Information\")\n",
    "logging.debug(\"debug information\")"
   ]
  },
  {
   "cell_type": "markdown",
   "metadata": {},
   "source": [
    "### How to add timestamp in the log messages:\n",
    "logging.basicConfig(format='%(asctime)s:%(levelname)s:%(message)s')"
   ]
  },
  {
   "cell_type": "code",
   "execution_count": 1,
   "metadata": {},
   "outputs": [
    {
     "name": "stderr",
     "output_type": "stream",
     "text": [
      "2020-06-18 12:27:04,804:CRITICAL:critical information\n",
      "2020-06-18 12:27:04,808:ERROR:error information\n",
      "2020-06-18 12:27:04,810:WARNING:warning information\n"
     ]
    }
   ],
   "source": [
    "import logging\n",
    "logging.basicConfig(format='%(asctime)s:%(levelname)s:%(message)s')\n",
    "logging.critical(\"critical information\")\n",
    "logging.error(\"error information\")\n",
    "logging.warning(\"warning information\")"
   ]
  },
  {
   "cell_type": "markdown",
   "metadata": {},
   "source": [
    "### How to change date and time format:\n",
    "We have to use special keyword argument: datefmt\n",
    "- logging.basicConfig(format='%(asctime)s:%(levelname)s:%(message)s', datefmt='%d/%m/%Y %I:%M:%S %p')\n",
    "- datefmt='%d/%m/%Y %I:%M:%S %p' ===>case is important"
   ]
  },
  {
   "cell_type": "code",
   "execution_count": 1,
   "metadata": {},
   "outputs": [
    {
     "name": "stderr",
     "output_type": "stream",
     "text": [
      "18/06/2020 07:16:29 PM:CRITICAL:Critical Information\n",
      "18/06/2020 07:16:29 PM:ERROR:error Information\n",
      "18/06/2020 07:16:29 PM:WARNING:warning Information\n"
     ]
    }
   ],
   "source": [
    "import logging\n",
    "logging.basicConfig(format='%(asctime)s:%(levelname)s:%(message)s',datefmt='%d/%m/%Y %I:%M:%S %p')\n",
    "logging.critical(\"Critical Information\")\n",
    "logging.error(\"error Information\")\n",
    "logging.warning(\"warning Information\")\n",
    "logging.info(\"info Information\")\n",
    "logging.debug(\"debug information\")"
   ]
  },
  {
   "cell_type": "code",
   "execution_count": 1,
   "metadata": {},
   "outputs": [
    {
     "name": "stderr",
     "output_type": "stream",
     "text": [
      "18/06/2020 19:17:30:CRITICAL:Critical Information\n",
      "18/06/2020 19:17:30:ERROR:error Information\n",
      "18/06/2020 19:17:30:WARNING:warning Information\n"
     ]
    }
   ],
   "source": [
    "import logging\n",
    "logging.basicConfig(format='%(asctime)s:%(levelname)s:%(message)s',datefmt='%d/%m/%Y %H:%M:%S')\n",
    "logging.critical(\"Critical Information\")\n",
    "logging.error(\"error Information\")\n",
    "logging.warning(\"warning Information\")\n",
    "logging.info(\"info Information\")\n",
    "logging.debug(\"debug information\")"
   ]
  },
  {
   "cell_type": "markdown",
   "metadata": {},
   "source": [
    "### How to write Python program exceptions to the log file:\n",
    "- By using the following function we can write exception information to the log file.\n",
    "\n",
    "logging.exception(msg)"
   ]
  },
  {
   "cell_type": "markdown",
   "metadata": {},
   "source": [
    "### Q. Python Program to write exception information to the log file:"
   ]
  },
  {
   "cell_type": "code",
   "execution_count": 1,
   "metadata": {},
   "outputs": [
    {
     "name": "stdout",
     "output_type": "stream",
     "text": [
      "Enter first number: 52\n",
      "Enter second number:ten\n",
      "invalid literal for int() with base 10: 'ten'\n"
     ]
    }
   ],
   "source": [
    "import logging\n",
    "logging.basicConfig(filename='exception_log.txt',level=logging.WARNING,format='%(asctime)s:%(levelname)s:%(message)s',datefmt='%d/%m/%Y %I:%M:%S %p')\n",
    "logging.info(\"A new Request Came\")\n",
    "try:\n",
    "    x=int(input(\"Enter first number: \"))\n",
    "    y=int(input(\"Enter second number:\"))\n",
    "    print(\"The result: \",x/y)\n",
    "except ZeroDivisionError as msg:\n",
    "    print(msg)\n",
    "    logging.exception(msg)\n",
    "except ValueError as msg:\n",
    "    print(msg)\n",
    "    logging.exception(msg)\n",
    "logging.info(\"Request Processing Completed\")    "
   ]
  },
  {
   "cell_type": "code",
   "execution_count": null,
   "metadata": {},
   "outputs": [],
   "source": []
  }
 ],
 "metadata": {
  "kernelspec": {
   "display_name": "Python 3",
   "language": "python",
   "name": "python3"
  },
  "language_info": {
   "codemirror_mode": {
    "name": "ipython",
    "version": 3
   },
   "file_extension": ".py",
   "mimetype": "text/x-python",
   "name": "python",
   "nbconvert_exporter": "python",
   "pygments_lexer": "ipython3",
   "version": "3.7.4"
  }
 },
 "nbformat": 4,
 "nbformat_minor": 2
}
