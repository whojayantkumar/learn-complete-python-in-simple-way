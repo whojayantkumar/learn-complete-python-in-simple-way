{
 "cells": [
  {
   "cell_type": "markdown",
   "metadata": {},
   "source": [
    "## Python program to create a list of tuples from given list having number and its cube in each tuple\n",
    "Given a list of numbers of list, write a Python program to create a list of tuples having first element as the number and second element as the cube of the number.\n",
    "Example:\n",
    "\n",
    "Input: list = [1, 2, 3]\n",
    "Output: [(1, 1), (2, 8), (3, 27)]\n",
    "\n",
    "Input: list = [9, 5, 6]\n",
    "Output: [(9, 729), (5, 125), (6, 216)]"
   ]
  },
  {
   "cell_type": "code",
   "execution_count": 1,
   "metadata": {},
   "outputs": [
    {
     "name": "stdout",
     "output_type": "stream",
     "text": [
      "[(1, 1), (2, 8), (3, 27)]\n"
     ]
    }
   ],
   "source": [
    "lst=[1,2,3]\n",
    "new_list=[(x,x**3) for x in lst ]\n",
    "print(new_list)"
   ]
  },
  {
   "cell_type": "markdown",
   "metadata": {},
   "source": [
    "## Python program to sort a list of tuples by second Item\n",
    "Given a list of tuples, write a Python program to sort the tuples by the second item of each tuple.\n",
    "\n",
    "Examples:\n",
    "\n",
    "Input : [('for', 24), ('Geeks', 8), ('Geeks', 30)] \n",
    "Output : [('Geeks', 8), ('for', 24), ('Geeks', 30)]\n",
    "\n",
    "Input : [('452', 10), ('256', 5), ('100', 20), ('135', 15)]\n",
    "Output : [('256', 5), ('452', 10), ('135', 15), ('100', 20)]"
   ]
  },
  {
   "cell_type": "code",
   "execution_count": 4,
   "metadata": {},
   "outputs": [
    {
     "name": "stdout",
     "output_type": "stream",
     "text": [
      "[('256', 5), ('452', 10), ('135', 15), ('100', 20)]\n"
     ]
    }
   ],
   "source": [
    "#using bubble sort\n",
    "lst=[('452', 10), ('256', 5), ('100', 20), ('135', 15)]\n",
    "for i in range(len(lst)-1):\n",
    "    for j in range(len(lst)-1):\n",
    "        if lst[j][1]>lst[j+1][1]:\n",
    "            lst[j], lst[j+1]= lst[j+1], lst[j]\n",
    "print(lst)"
   ]
  },
  {
   "cell_type": "code",
   "execution_count": null,
   "metadata": {},
   "outputs": [],
   "source": []
  }
 ],
 "metadata": {
  "kernelspec": {
   "display_name": "Python 3",
   "language": "python",
   "name": "python3"
  },
  "language_info": {
   "codemirror_mode": {
    "name": "ipython",
    "version": 3
   },
   "file_extension": ".py",
   "mimetype": "text/x-python",
   "name": "python",
   "nbconvert_exporter": "python",
   "pygments_lexer": "ipython3",
   "version": "3.7.4"
  }
 },
 "nbformat": 4,
 "nbformat_minor": 2
}
